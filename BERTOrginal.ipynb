{
  "nbformat": 4,
  "nbformat_minor": 0,
  "metadata": {
    "colab": {
      "provenance": [],
      "gpuType": "T4",
      "toc_visible": true,
      "mount_file_id": "1iC5maqAFPPi6XSRlNPofXaD2KISBKP6P",
      "authorship_tag": "ABX9TyPu9YiLTSarBaFhsG/jGo8h",
      "include_colab_link": true
    },
    "kernelspec": {
      "name": "python3",
      "display_name": "Python 3"
    },
    "language_info": {
      "name": "python"
    },
    "widgets": {
      "application/vnd.jupyter.widget-state+json": {
        "d9d6543c818048d8bfeb994af592d09c": {
          "model_module": "@jupyter-widgets/controls",
          "model_name": "HBoxModel",
          "model_module_version": "1.5.0",
          "state": {
            "_dom_classes": [],
            "_model_module": "@jupyter-widgets/controls",
            "_model_module_version": "1.5.0",
            "_model_name": "HBoxModel",
            "_view_count": null,
            "_view_module": "@jupyter-widgets/controls",
            "_view_module_version": "1.5.0",
            "_view_name": "HBoxView",
            "box_style": "",
            "children": [
              "IPY_MODEL_5ca14ce6597f44e9a0b2014169b93df7",
              "IPY_MODEL_56504a83c9604d61981386da52ebe2f0",
              "IPY_MODEL_b80cc394b3fe4b31a66e18d92c1d7903"
            ],
            "layout": "IPY_MODEL_041434081dc5477bb7b5191722a70915"
          }
        },
        "5ca14ce6597f44e9a0b2014169b93df7": {
          "model_module": "@jupyter-widgets/controls",
          "model_name": "HTMLModel",
          "model_module_version": "1.5.0",
          "state": {
            "_dom_classes": [],
            "_model_module": "@jupyter-widgets/controls",
            "_model_module_version": "1.5.0",
            "_model_name": "HTMLModel",
            "_view_count": null,
            "_view_module": "@jupyter-widgets/controls",
            "_view_module_version": "1.5.0",
            "_view_name": "HTMLView",
            "description": "",
            "description_tooltip": null,
            "layout": "IPY_MODEL_5eb2e92fe39f4885b1224fa91d4943db",
            "placeholder": "​",
            "style": "IPY_MODEL_09c2b0782a6e48258f4965ba18cda2bd",
            "value": "tokenizer_config.json: 100%"
          }
        },
        "56504a83c9604d61981386da52ebe2f0": {
          "model_module": "@jupyter-widgets/controls",
          "model_name": "FloatProgressModel",
          "model_module_version": "1.5.0",
          "state": {
            "_dom_classes": [],
            "_model_module": "@jupyter-widgets/controls",
            "_model_module_version": "1.5.0",
            "_model_name": "FloatProgressModel",
            "_view_count": null,
            "_view_module": "@jupyter-widgets/controls",
            "_view_module_version": "1.5.0",
            "_view_name": "ProgressView",
            "bar_style": "success",
            "description": "",
            "description_tooltip": null,
            "layout": "IPY_MODEL_787d830883f4462398da9eea60f98d52",
            "max": 48,
            "min": 0,
            "orientation": "horizontal",
            "style": "IPY_MODEL_c049260e55314b9e8de7a1210972d895",
            "value": 48
          }
        },
        "b80cc394b3fe4b31a66e18d92c1d7903": {
          "model_module": "@jupyter-widgets/controls",
          "model_name": "HTMLModel",
          "model_module_version": "1.5.0",
          "state": {
            "_dom_classes": [],
            "_model_module": "@jupyter-widgets/controls",
            "_model_module_version": "1.5.0",
            "_model_name": "HTMLModel",
            "_view_count": null,
            "_view_module": "@jupyter-widgets/controls",
            "_view_module_version": "1.5.0",
            "_view_name": "HTMLView",
            "description": "",
            "description_tooltip": null,
            "layout": "IPY_MODEL_420c8009911b40559a1f32cde549880b",
            "placeholder": "​",
            "style": "IPY_MODEL_9d051144cb704d1c9147855cc5f58bba",
            "value": " 48.0/48.0 [00:00&lt;00:00, 2.91kB/s]"
          }
        },
        "041434081dc5477bb7b5191722a70915": {
          "model_module": "@jupyter-widgets/base",
          "model_name": "LayoutModel",
          "model_module_version": "1.2.0",
          "state": {
            "_model_module": "@jupyter-widgets/base",
            "_model_module_version": "1.2.0",
            "_model_name": "LayoutModel",
            "_view_count": null,
            "_view_module": "@jupyter-widgets/base",
            "_view_module_version": "1.2.0",
            "_view_name": "LayoutView",
            "align_content": null,
            "align_items": null,
            "align_self": null,
            "border": null,
            "bottom": null,
            "display": null,
            "flex": null,
            "flex_flow": null,
            "grid_area": null,
            "grid_auto_columns": null,
            "grid_auto_flow": null,
            "grid_auto_rows": null,
            "grid_column": null,
            "grid_gap": null,
            "grid_row": null,
            "grid_template_areas": null,
            "grid_template_columns": null,
            "grid_template_rows": null,
            "height": null,
            "justify_content": null,
            "justify_items": null,
            "left": null,
            "margin": null,
            "max_height": null,
            "max_width": null,
            "min_height": null,
            "min_width": null,
            "object_fit": null,
            "object_position": null,
            "order": null,
            "overflow": null,
            "overflow_x": null,
            "overflow_y": null,
            "padding": null,
            "right": null,
            "top": null,
            "visibility": null,
            "width": null
          }
        },
        "5eb2e92fe39f4885b1224fa91d4943db": {
          "model_module": "@jupyter-widgets/base",
          "model_name": "LayoutModel",
          "model_module_version": "1.2.0",
          "state": {
            "_model_module": "@jupyter-widgets/base",
            "_model_module_version": "1.2.0",
            "_model_name": "LayoutModel",
            "_view_count": null,
            "_view_module": "@jupyter-widgets/base",
            "_view_module_version": "1.2.0",
            "_view_name": "LayoutView",
            "align_content": null,
            "align_items": null,
            "align_self": null,
            "border": null,
            "bottom": null,
            "display": null,
            "flex": null,
            "flex_flow": null,
            "grid_area": null,
            "grid_auto_columns": null,
            "grid_auto_flow": null,
            "grid_auto_rows": null,
            "grid_column": null,
            "grid_gap": null,
            "grid_row": null,
            "grid_template_areas": null,
            "grid_template_columns": null,
            "grid_template_rows": null,
            "height": null,
            "justify_content": null,
            "justify_items": null,
            "left": null,
            "margin": null,
            "max_height": null,
            "max_width": null,
            "min_height": null,
            "min_width": null,
            "object_fit": null,
            "object_position": null,
            "order": null,
            "overflow": null,
            "overflow_x": null,
            "overflow_y": null,
            "padding": null,
            "right": null,
            "top": null,
            "visibility": null,
            "width": null
          }
        },
        "09c2b0782a6e48258f4965ba18cda2bd": {
          "model_module": "@jupyter-widgets/controls",
          "model_name": "DescriptionStyleModel",
          "model_module_version": "1.5.0",
          "state": {
            "_model_module": "@jupyter-widgets/controls",
            "_model_module_version": "1.5.0",
            "_model_name": "DescriptionStyleModel",
            "_view_count": null,
            "_view_module": "@jupyter-widgets/base",
            "_view_module_version": "1.2.0",
            "_view_name": "StyleView",
            "description_width": ""
          }
        },
        "787d830883f4462398da9eea60f98d52": {
          "model_module": "@jupyter-widgets/base",
          "model_name": "LayoutModel",
          "model_module_version": "1.2.0",
          "state": {
            "_model_module": "@jupyter-widgets/base",
            "_model_module_version": "1.2.0",
            "_model_name": "LayoutModel",
            "_view_count": null,
            "_view_module": "@jupyter-widgets/base",
            "_view_module_version": "1.2.0",
            "_view_name": "LayoutView",
            "align_content": null,
            "align_items": null,
            "align_self": null,
            "border": null,
            "bottom": null,
            "display": null,
            "flex": null,
            "flex_flow": null,
            "grid_area": null,
            "grid_auto_columns": null,
            "grid_auto_flow": null,
            "grid_auto_rows": null,
            "grid_column": null,
            "grid_gap": null,
            "grid_row": null,
            "grid_template_areas": null,
            "grid_template_columns": null,
            "grid_template_rows": null,
            "height": null,
            "justify_content": null,
            "justify_items": null,
            "left": null,
            "margin": null,
            "max_height": null,
            "max_width": null,
            "min_height": null,
            "min_width": null,
            "object_fit": null,
            "object_position": null,
            "order": null,
            "overflow": null,
            "overflow_x": null,
            "overflow_y": null,
            "padding": null,
            "right": null,
            "top": null,
            "visibility": null,
            "width": null
          }
        },
        "c049260e55314b9e8de7a1210972d895": {
          "model_module": "@jupyter-widgets/controls",
          "model_name": "ProgressStyleModel",
          "model_module_version": "1.5.0",
          "state": {
            "_model_module": "@jupyter-widgets/controls",
            "_model_module_version": "1.5.0",
            "_model_name": "ProgressStyleModel",
            "_view_count": null,
            "_view_module": "@jupyter-widgets/base",
            "_view_module_version": "1.2.0",
            "_view_name": "StyleView",
            "bar_color": null,
            "description_width": ""
          }
        },
        "420c8009911b40559a1f32cde549880b": {
          "model_module": "@jupyter-widgets/base",
          "model_name": "LayoutModel",
          "model_module_version": "1.2.0",
          "state": {
            "_model_module": "@jupyter-widgets/base",
            "_model_module_version": "1.2.0",
            "_model_name": "LayoutModel",
            "_view_count": null,
            "_view_module": "@jupyter-widgets/base",
            "_view_module_version": "1.2.0",
            "_view_name": "LayoutView",
            "align_content": null,
            "align_items": null,
            "align_self": null,
            "border": null,
            "bottom": null,
            "display": null,
            "flex": null,
            "flex_flow": null,
            "grid_area": null,
            "grid_auto_columns": null,
            "grid_auto_flow": null,
            "grid_auto_rows": null,
            "grid_column": null,
            "grid_gap": null,
            "grid_row": null,
            "grid_template_areas": null,
            "grid_template_columns": null,
            "grid_template_rows": null,
            "height": null,
            "justify_content": null,
            "justify_items": null,
            "left": null,
            "margin": null,
            "max_height": null,
            "max_width": null,
            "min_height": null,
            "min_width": null,
            "object_fit": null,
            "object_position": null,
            "order": null,
            "overflow": null,
            "overflow_x": null,
            "overflow_y": null,
            "padding": null,
            "right": null,
            "top": null,
            "visibility": null,
            "width": null
          }
        },
        "9d051144cb704d1c9147855cc5f58bba": {
          "model_module": "@jupyter-widgets/controls",
          "model_name": "DescriptionStyleModel",
          "model_module_version": "1.5.0",
          "state": {
            "_model_module": "@jupyter-widgets/controls",
            "_model_module_version": "1.5.0",
            "_model_name": "DescriptionStyleModel",
            "_view_count": null,
            "_view_module": "@jupyter-widgets/base",
            "_view_module_version": "1.2.0",
            "_view_name": "StyleView",
            "description_width": ""
          }
        },
        "7bc7e15e88c94707a9cdef8b47c063d0": {
          "model_module": "@jupyter-widgets/controls",
          "model_name": "HBoxModel",
          "model_module_version": "1.5.0",
          "state": {
            "_dom_classes": [],
            "_model_module": "@jupyter-widgets/controls",
            "_model_module_version": "1.5.0",
            "_model_name": "HBoxModel",
            "_view_count": null,
            "_view_module": "@jupyter-widgets/controls",
            "_view_module_version": "1.5.0",
            "_view_name": "HBoxView",
            "box_style": "",
            "children": [
              "IPY_MODEL_ec89369b95c147d1be0c59eb1244c3c5",
              "IPY_MODEL_5d04414c879a4937a990aa179a336ce9",
              "IPY_MODEL_940c9f17d66a40fa99a5d88319eece4a"
            ],
            "layout": "IPY_MODEL_cb10ca49d0134b06b4541b0615ebdf18"
          }
        },
        "ec89369b95c147d1be0c59eb1244c3c5": {
          "model_module": "@jupyter-widgets/controls",
          "model_name": "HTMLModel",
          "model_module_version": "1.5.0",
          "state": {
            "_dom_classes": [],
            "_model_module": "@jupyter-widgets/controls",
            "_model_module_version": "1.5.0",
            "_model_name": "HTMLModel",
            "_view_count": null,
            "_view_module": "@jupyter-widgets/controls",
            "_view_module_version": "1.5.0",
            "_view_name": "HTMLView",
            "description": "",
            "description_tooltip": null,
            "layout": "IPY_MODEL_f03b39f5e92d4e66bfc5dbfb8fe1bd6f",
            "placeholder": "​",
            "style": "IPY_MODEL_b4ab6cacb6154956bf4236858dfdf433",
            "value": "vocab.txt: 100%"
          }
        },
        "5d04414c879a4937a990aa179a336ce9": {
          "model_module": "@jupyter-widgets/controls",
          "model_name": "FloatProgressModel",
          "model_module_version": "1.5.0",
          "state": {
            "_dom_classes": [],
            "_model_module": "@jupyter-widgets/controls",
            "_model_module_version": "1.5.0",
            "_model_name": "FloatProgressModel",
            "_view_count": null,
            "_view_module": "@jupyter-widgets/controls",
            "_view_module_version": "1.5.0",
            "_view_name": "ProgressView",
            "bar_style": "success",
            "description": "",
            "description_tooltip": null,
            "layout": "IPY_MODEL_08278a84c9c749378e71e0e89f5843d5",
            "max": 231508,
            "min": 0,
            "orientation": "horizontal",
            "style": "IPY_MODEL_d977d842280b4aa1967713b877cfb396",
            "value": 231508
          }
        },
        "940c9f17d66a40fa99a5d88319eece4a": {
          "model_module": "@jupyter-widgets/controls",
          "model_name": "HTMLModel",
          "model_module_version": "1.5.0",
          "state": {
            "_dom_classes": [],
            "_model_module": "@jupyter-widgets/controls",
            "_model_module_version": "1.5.0",
            "_model_name": "HTMLModel",
            "_view_count": null,
            "_view_module": "@jupyter-widgets/controls",
            "_view_module_version": "1.5.0",
            "_view_name": "HTMLView",
            "description": "",
            "description_tooltip": null,
            "layout": "IPY_MODEL_67d70f30b52f4f51a207352aa6efb2d2",
            "placeholder": "​",
            "style": "IPY_MODEL_d8f816ceccb24f56a0f238301d46ae9a",
            "value": " 232k/232k [00:00&lt;00:00, 7.59MB/s]"
          }
        },
        "cb10ca49d0134b06b4541b0615ebdf18": {
          "model_module": "@jupyter-widgets/base",
          "model_name": "LayoutModel",
          "model_module_version": "1.2.0",
          "state": {
            "_model_module": "@jupyter-widgets/base",
            "_model_module_version": "1.2.0",
            "_model_name": "LayoutModel",
            "_view_count": null,
            "_view_module": "@jupyter-widgets/base",
            "_view_module_version": "1.2.0",
            "_view_name": "LayoutView",
            "align_content": null,
            "align_items": null,
            "align_self": null,
            "border": null,
            "bottom": null,
            "display": null,
            "flex": null,
            "flex_flow": null,
            "grid_area": null,
            "grid_auto_columns": null,
            "grid_auto_flow": null,
            "grid_auto_rows": null,
            "grid_column": null,
            "grid_gap": null,
            "grid_row": null,
            "grid_template_areas": null,
            "grid_template_columns": null,
            "grid_template_rows": null,
            "height": null,
            "justify_content": null,
            "justify_items": null,
            "left": null,
            "margin": null,
            "max_height": null,
            "max_width": null,
            "min_height": null,
            "min_width": null,
            "object_fit": null,
            "object_position": null,
            "order": null,
            "overflow": null,
            "overflow_x": null,
            "overflow_y": null,
            "padding": null,
            "right": null,
            "top": null,
            "visibility": null,
            "width": null
          }
        },
        "f03b39f5e92d4e66bfc5dbfb8fe1bd6f": {
          "model_module": "@jupyter-widgets/base",
          "model_name": "LayoutModel",
          "model_module_version": "1.2.0",
          "state": {
            "_model_module": "@jupyter-widgets/base",
            "_model_module_version": "1.2.0",
            "_model_name": "LayoutModel",
            "_view_count": null,
            "_view_module": "@jupyter-widgets/base",
            "_view_module_version": "1.2.0",
            "_view_name": "LayoutView",
            "align_content": null,
            "align_items": null,
            "align_self": null,
            "border": null,
            "bottom": null,
            "display": null,
            "flex": null,
            "flex_flow": null,
            "grid_area": null,
            "grid_auto_columns": null,
            "grid_auto_flow": null,
            "grid_auto_rows": null,
            "grid_column": null,
            "grid_gap": null,
            "grid_row": null,
            "grid_template_areas": null,
            "grid_template_columns": null,
            "grid_template_rows": null,
            "height": null,
            "justify_content": null,
            "justify_items": null,
            "left": null,
            "margin": null,
            "max_height": null,
            "max_width": null,
            "min_height": null,
            "min_width": null,
            "object_fit": null,
            "object_position": null,
            "order": null,
            "overflow": null,
            "overflow_x": null,
            "overflow_y": null,
            "padding": null,
            "right": null,
            "top": null,
            "visibility": null,
            "width": null
          }
        },
        "b4ab6cacb6154956bf4236858dfdf433": {
          "model_module": "@jupyter-widgets/controls",
          "model_name": "DescriptionStyleModel",
          "model_module_version": "1.5.0",
          "state": {
            "_model_module": "@jupyter-widgets/controls",
            "_model_module_version": "1.5.0",
            "_model_name": "DescriptionStyleModel",
            "_view_count": null,
            "_view_module": "@jupyter-widgets/base",
            "_view_module_version": "1.2.0",
            "_view_name": "StyleView",
            "description_width": ""
          }
        },
        "08278a84c9c749378e71e0e89f5843d5": {
          "model_module": "@jupyter-widgets/base",
          "model_name": "LayoutModel",
          "model_module_version": "1.2.0",
          "state": {
            "_model_module": "@jupyter-widgets/base",
            "_model_module_version": "1.2.0",
            "_model_name": "LayoutModel",
            "_view_count": null,
            "_view_module": "@jupyter-widgets/base",
            "_view_module_version": "1.2.0",
            "_view_name": "LayoutView",
            "align_content": null,
            "align_items": null,
            "align_self": null,
            "border": null,
            "bottom": null,
            "display": null,
            "flex": null,
            "flex_flow": null,
            "grid_area": null,
            "grid_auto_columns": null,
            "grid_auto_flow": null,
            "grid_auto_rows": null,
            "grid_column": null,
            "grid_gap": null,
            "grid_row": null,
            "grid_template_areas": null,
            "grid_template_columns": null,
            "grid_template_rows": null,
            "height": null,
            "justify_content": null,
            "justify_items": null,
            "left": null,
            "margin": null,
            "max_height": null,
            "max_width": null,
            "min_height": null,
            "min_width": null,
            "object_fit": null,
            "object_position": null,
            "order": null,
            "overflow": null,
            "overflow_x": null,
            "overflow_y": null,
            "padding": null,
            "right": null,
            "top": null,
            "visibility": null,
            "width": null
          }
        },
        "d977d842280b4aa1967713b877cfb396": {
          "model_module": "@jupyter-widgets/controls",
          "model_name": "ProgressStyleModel",
          "model_module_version": "1.5.0",
          "state": {
            "_model_module": "@jupyter-widgets/controls",
            "_model_module_version": "1.5.0",
            "_model_name": "ProgressStyleModel",
            "_view_count": null,
            "_view_module": "@jupyter-widgets/base",
            "_view_module_version": "1.2.0",
            "_view_name": "StyleView",
            "bar_color": null,
            "description_width": ""
          }
        },
        "67d70f30b52f4f51a207352aa6efb2d2": {
          "model_module": "@jupyter-widgets/base",
          "model_name": "LayoutModel",
          "model_module_version": "1.2.0",
          "state": {
            "_model_module": "@jupyter-widgets/base",
            "_model_module_version": "1.2.0",
            "_model_name": "LayoutModel",
            "_view_count": null,
            "_view_module": "@jupyter-widgets/base",
            "_view_module_version": "1.2.0",
            "_view_name": "LayoutView",
            "align_content": null,
            "align_items": null,
            "align_self": null,
            "border": null,
            "bottom": null,
            "display": null,
            "flex": null,
            "flex_flow": null,
            "grid_area": null,
            "grid_auto_columns": null,
            "grid_auto_flow": null,
            "grid_auto_rows": null,
            "grid_column": null,
            "grid_gap": null,
            "grid_row": null,
            "grid_template_areas": null,
            "grid_template_columns": null,
            "grid_template_rows": null,
            "height": null,
            "justify_content": null,
            "justify_items": null,
            "left": null,
            "margin": null,
            "max_height": null,
            "max_width": null,
            "min_height": null,
            "min_width": null,
            "object_fit": null,
            "object_position": null,
            "order": null,
            "overflow": null,
            "overflow_x": null,
            "overflow_y": null,
            "padding": null,
            "right": null,
            "top": null,
            "visibility": null,
            "width": null
          }
        },
        "d8f816ceccb24f56a0f238301d46ae9a": {
          "model_module": "@jupyter-widgets/controls",
          "model_name": "DescriptionStyleModel",
          "model_module_version": "1.5.0",
          "state": {
            "_model_module": "@jupyter-widgets/controls",
            "_model_module_version": "1.5.0",
            "_model_name": "DescriptionStyleModel",
            "_view_count": null,
            "_view_module": "@jupyter-widgets/base",
            "_view_module_version": "1.2.0",
            "_view_name": "StyleView",
            "description_width": ""
          }
        },
        "685d69f8c8894f9582bc3e3106c1a54c": {
          "model_module": "@jupyter-widgets/controls",
          "model_name": "HBoxModel",
          "model_module_version": "1.5.0",
          "state": {
            "_dom_classes": [],
            "_model_module": "@jupyter-widgets/controls",
            "_model_module_version": "1.5.0",
            "_model_name": "HBoxModel",
            "_view_count": null,
            "_view_module": "@jupyter-widgets/controls",
            "_view_module_version": "1.5.0",
            "_view_name": "HBoxView",
            "box_style": "",
            "children": [
              "IPY_MODEL_0e2349cf931f4ee197c28854202d0618",
              "IPY_MODEL_0c19ccfacf3640638e893b6b5aa91b1c",
              "IPY_MODEL_a4e46b29b63d4f26b17f2dc62b126aac"
            ],
            "layout": "IPY_MODEL_17926cc7864d41dd93c6075061638855"
          }
        },
        "0e2349cf931f4ee197c28854202d0618": {
          "model_module": "@jupyter-widgets/controls",
          "model_name": "HTMLModel",
          "model_module_version": "1.5.0",
          "state": {
            "_dom_classes": [],
            "_model_module": "@jupyter-widgets/controls",
            "_model_module_version": "1.5.0",
            "_model_name": "HTMLModel",
            "_view_count": null,
            "_view_module": "@jupyter-widgets/controls",
            "_view_module_version": "1.5.0",
            "_view_name": "HTMLView",
            "description": "",
            "description_tooltip": null,
            "layout": "IPY_MODEL_d2c34b784cd3484d83bebd67c647cf22",
            "placeholder": "​",
            "style": "IPY_MODEL_7f427698a7d9450eb08ade09a5570bae",
            "value": "tokenizer.json: 100%"
          }
        },
        "0c19ccfacf3640638e893b6b5aa91b1c": {
          "model_module": "@jupyter-widgets/controls",
          "model_name": "FloatProgressModel",
          "model_module_version": "1.5.0",
          "state": {
            "_dom_classes": [],
            "_model_module": "@jupyter-widgets/controls",
            "_model_module_version": "1.5.0",
            "_model_name": "FloatProgressModel",
            "_view_count": null,
            "_view_module": "@jupyter-widgets/controls",
            "_view_module_version": "1.5.0",
            "_view_name": "ProgressView",
            "bar_style": "success",
            "description": "",
            "description_tooltip": null,
            "layout": "IPY_MODEL_97562b5f7b9e4fdd92950c38e0da002c",
            "max": 466062,
            "min": 0,
            "orientation": "horizontal",
            "style": "IPY_MODEL_476fab6d23504cff832e7ac61f0dce8b",
            "value": 466062
          }
        },
        "a4e46b29b63d4f26b17f2dc62b126aac": {
          "model_module": "@jupyter-widgets/controls",
          "model_name": "HTMLModel",
          "model_module_version": "1.5.0",
          "state": {
            "_dom_classes": [],
            "_model_module": "@jupyter-widgets/controls",
            "_model_module_version": "1.5.0",
            "_model_name": "HTMLModel",
            "_view_count": null,
            "_view_module": "@jupyter-widgets/controls",
            "_view_module_version": "1.5.0",
            "_view_name": "HTMLView",
            "description": "",
            "description_tooltip": null,
            "layout": "IPY_MODEL_3515457514c14fa2b69c4f0705d15942",
            "placeholder": "​",
            "style": "IPY_MODEL_4ad5f2f7952841a5a0e8184361a4939b",
            "value": " 466k/466k [00:00&lt;00:00, 29.8MB/s]"
          }
        },
        "17926cc7864d41dd93c6075061638855": {
          "model_module": "@jupyter-widgets/base",
          "model_name": "LayoutModel",
          "model_module_version": "1.2.0",
          "state": {
            "_model_module": "@jupyter-widgets/base",
            "_model_module_version": "1.2.0",
            "_model_name": "LayoutModel",
            "_view_count": null,
            "_view_module": "@jupyter-widgets/base",
            "_view_module_version": "1.2.0",
            "_view_name": "LayoutView",
            "align_content": null,
            "align_items": null,
            "align_self": null,
            "border": null,
            "bottom": null,
            "display": null,
            "flex": null,
            "flex_flow": null,
            "grid_area": null,
            "grid_auto_columns": null,
            "grid_auto_flow": null,
            "grid_auto_rows": null,
            "grid_column": null,
            "grid_gap": null,
            "grid_row": null,
            "grid_template_areas": null,
            "grid_template_columns": null,
            "grid_template_rows": null,
            "height": null,
            "justify_content": null,
            "justify_items": null,
            "left": null,
            "margin": null,
            "max_height": null,
            "max_width": null,
            "min_height": null,
            "min_width": null,
            "object_fit": null,
            "object_position": null,
            "order": null,
            "overflow": null,
            "overflow_x": null,
            "overflow_y": null,
            "padding": null,
            "right": null,
            "top": null,
            "visibility": null,
            "width": null
          }
        },
        "d2c34b784cd3484d83bebd67c647cf22": {
          "model_module": "@jupyter-widgets/base",
          "model_name": "LayoutModel",
          "model_module_version": "1.2.0",
          "state": {
            "_model_module": "@jupyter-widgets/base",
            "_model_module_version": "1.2.0",
            "_model_name": "LayoutModel",
            "_view_count": null,
            "_view_module": "@jupyter-widgets/base",
            "_view_module_version": "1.2.0",
            "_view_name": "LayoutView",
            "align_content": null,
            "align_items": null,
            "align_self": null,
            "border": null,
            "bottom": null,
            "display": null,
            "flex": null,
            "flex_flow": null,
            "grid_area": null,
            "grid_auto_columns": null,
            "grid_auto_flow": null,
            "grid_auto_rows": null,
            "grid_column": null,
            "grid_gap": null,
            "grid_row": null,
            "grid_template_areas": null,
            "grid_template_columns": null,
            "grid_template_rows": null,
            "height": null,
            "justify_content": null,
            "justify_items": null,
            "left": null,
            "margin": null,
            "max_height": null,
            "max_width": null,
            "min_height": null,
            "min_width": null,
            "object_fit": null,
            "object_position": null,
            "order": null,
            "overflow": null,
            "overflow_x": null,
            "overflow_y": null,
            "padding": null,
            "right": null,
            "top": null,
            "visibility": null,
            "width": null
          }
        },
        "7f427698a7d9450eb08ade09a5570bae": {
          "model_module": "@jupyter-widgets/controls",
          "model_name": "DescriptionStyleModel",
          "model_module_version": "1.5.0",
          "state": {
            "_model_module": "@jupyter-widgets/controls",
            "_model_module_version": "1.5.0",
            "_model_name": "DescriptionStyleModel",
            "_view_count": null,
            "_view_module": "@jupyter-widgets/base",
            "_view_module_version": "1.2.0",
            "_view_name": "StyleView",
            "description_width": ""
          }
        },
        "97562b5f7b9e4fdd92950c38e0da002c": {
          "model_module": "@jupyter-widgets/base",
          "model_name": "LayoutModel",
          "model_module_version": "1.2.0",
          "state": {
            "_model_module": "@jupyter-widgets/base",
            "_model_module_version": "1.2.0",
            "_model_name": "LayoutModel",
            "_view_count": null,
            "_view_module": "@jupyter-widgets/base",
            "_view_module_version": "1.2.0",
            "_view_name": "LayoutView",
            "align_content": null,
            "align_items": null,
            "align_self": null,
            "border": null,
            "bottom": null,
            "display": null,
            "flex": null,
            "flex_flow": null,
            "grid_area": null,
            "grid_auto_columns": null,
            "grid_auto_flow": null,
            "grid_auto_rows": null,
            "grid_column": null,
            "grid_gap": null,
            "grid_row": null,
            "grid_template_areas": null,
            "grid_template_columns": null,
            "grid_template_rows": null,
            "height": null,
            "justify_content": null,
            "justify_items": null,
            "left": null,
            "margin": null,
            "max_height": null,
            "max_width": null,
            "min_height": null,
            "min_width": null,
            "object_fit": null,
            "object_position": null,
            "order": null,
            "overflow": null,
            "overflow_x": null,
            "overflow_y": null,
            "padding": null,
            "right": null,
            "top": null,
            "visibility": null,
            "width": null
          }
        },
        "476fab6d23504cff832e7ac61f0dce8b": {
          "model_module": "@jupyter-widgets/controls",
          "model_name": "ProgressStyleModel",
          "model_module_version": "1.5.0",
          "state": {
            "_model_module": "@jupyter-widgets/controls",
            "_model_module_version": "1.5.0",
            "_model_name": "ProgressStyleModel",
            "_view_count": null,
            "_view_module": "@jupyter-widgets/base",
            "_view_module_version": "1.2.0",
            "_view_name": "StyleView",
            "bar_color": null,
            "description_width": ""
          }
        },
        "3515457514c14fa2b69c4f0705d15942": {
          "model_module": "@jupyter-widgets/base",
          "model_name": "LayoutModel",
          "model_module_version": "1.2.0",
          "state": {
            "_model_module": "@jupyter-widgets/base",
            "_model_module_version": "1.2.0",
            "_model_name": "LayoutModel",
            "_view_count": null,
            "_view_module": "@jupyter-widgets/base",
            "_view_module_version": "1.2.0",
            "_view_name": "LayoutView",
            "align_content": null,
            "align_items": null,
            "align_self": null,
            "border": null,
            "bottom": null,
            "display": null,
            "flex": null,
            "flex_flow": null,
            "grid_area": null,
            "grid_auto_columns": null,
            "grid_auto_flow": null,
            "grid_auto_rows": null,
            "grid_column": null,
            "grid_gap": null,
            "grid_row": null,
            "grid_template_areas": null,
            "grid_template_columns": null,
            "grid_template_rows": null,
            "height": null,
            "justify_content": null,
            "justify_items": null,
            "left": null,
            "margin": null,
            "max_height": null,
            "max_width": null,
            "min_height": null,
            "min_width": null,
            "object_fit": null,
            "object_position": null,
            "order": null,
            "overflow": null,
            "overflow_x": null,
            "overflow_y": null,
            "padding": null,
            "right": null,
            "top": null,
            "visibility": null,
            "width": null
          }
        },
        "4ad5f2f7952841a5a0e8184361a4939b": {
          "model_module": "@jupyter-widgets/controls",
          "model_name": "DescriptionStyleModel",
          "model_module_version": "1.5.0",
          "state": {
            "_model_module": "@jupyter-widgets/controls",
            "_model_module_version": "1.5.0",
            "_model_name": "DescriptionStyleModel",
            "_view_count": null,
            "_view_module": "@jupyter-widgets/base",
            "_view_module_version": "1.2.0",
            "_view_name": "StyleView",
            "description_width": ""
          }
        },
        "4e36bb1c773f4cf0a43ab4d3b865f334": {
          "model_module": "@jupyter-widgets/controls",
          "model_name": "HBoxModel",
          "model_module_version": "1.5.0",
          "state": {
            "_dom_classes": [],
            "_model_module": "@jupyter-widgets/controls",
            "_model_module_version": "1.5.0",
            "_model_name": "HBoxModel",
            "_view_count": null,
            "_view_module": "@jupyter-widgets/controls",
            "_view_module_version": "1.5.0",
            "_view_name": "HBoxView",
            "box_style": "",
            "children": [
              "IPY_MODEL_814d7b401df347818c53a7dd52b4c12d",
              "IPY_MODEL_bc32d0456937433da580e3f46d0208a9",
              "IPY_MODEL_01ad9d84de9342a8b78e705afb35fad5"
            ],
            "layout": "IPY_MODEL_ef45004a324340cdb35ef0648fc5c6ae"
          }
        },
        "814d7b401df347818c53a7dd52b4c12d": {
          "model_module": "@jupyter-widgets/controls",
          "model_name": "HTMLModel",
          "model_module_version": "1.5.0",
          "state": {
            "_dom_classes": [],
            "_model_module": "@jupyter-widgets/controls",
            "_model_module_version": "1.5.0",
            "_model_name": "HTMLModel",
            "_view_count": null,
            "_view_module": "@jupyter-widgets/controls",
            "_view_module_version": "1.5.0",
            "_view_name": "HTMLView",
            "description": "",
            "description_tooltip": null,
            "layout": "IPY_MODEL_5ea9c15e80b5425a900475e333884aa7",
            "placeholder": "​",
            "style": "IPY_MODEL_12fe2f824d86446da27e12b26191aeff",
            "value": "config.json: 100%"
          }
        },
        "bc32d0456937433da580e3f46d0208a9": {
          "model_module": "@jupyter-widgets/controls",
          "model_name": "FloatProgressModel",
          "model_module_version": "1.5.0",
          "state": {
            "_dom_classes": [],
            "_model_module": "@jupyter-widgets/controls",
            "_model_module_version": "1.5.0",
            "_model_name": "FloatProgressModel",
            "_view_count": null,
            "_view_module": "@jupyter-widgets/controls",
            "_view_module_version": "1.5.0",
            "_view_name": "ProgressView",
            "bar_style": "success",
            "description": "",
            "description_tooltip": null,
            "layout": "IPY_MODEL_9c95b335cbf5487abfdb85dc7ade9167",
            "max": 571,
            "min": 0,
            "orientation": "horizontal",
            "style": "IPY_MODEL_8207de8fbc954d8b94bcc8574265c053",
            "value": 571
          }
        },
        "01ad9d84de9342a8b78e705afb35fad5": {
          "model_module": "@jupyter-widgets/controls",
          "model_name": "HTMLModel",
          "model_module_version": "1.5.0",
          "state": {
            "_dom_classes": [],
            "_model_module": "@jupyter-widgets/controls",
            "_model_module_version": "1.5.0",
            "_model_name": "HTMLModel",
            "_view_count": null,
            "_view_module": "@jupyter-widgets/controls",
            "_view_module_version": "1.5.0",
            "_view_name": "HTMLView",
            "description": "",
            "description_tooltip": null,
            "layout": "IPY_MODEL_cb4e22b408ee438982b3180034501133",
            "placeholder": "​",
            "style": "IPY_MODEL_5f8535c2b5b64cbeade483112d2bad41",
            "value": " 571/571 [00:00&lt;00:00, 51.8kB/s]"
          }
        },
        "ef45004a324340cdb35ef0648fc5c6ae": {
          "model_module": "@jupyter-widgets/base",
          "model_name": "LayoutModel",
          "model_module_version": "1.2.0",
          "state": {
            "_model_module": "@jupyter-widgets/base",
            "_model_module_version": "1.2.0",
            "_model_name": "LayoutModel",
            "_view_count": null,
            "_view_module": "@jupyter-widgets/base",
            "_view_module_version": "1.2.0",
            "_view_name": "LayoutView",
            "align_content": null,
            "align_items": null,
            "align_self": null,
            "border": null,
            "bottom": null,
            "display": null,
            "flex": null,
            "flex_flow": null,
            "grid_area": null,
            "grid_auto_columns": null,
            "grid_auto_flow": null,
            "grid_auto_rows": null,
            "grid_column": null,
            "grid_gap": null,
            "grid_row": null,
            "grid_template_areas": null,
            "grid_template_columns": null,
            "grid_template_rows": null,
            "height": null,
            "justify_content": null,
            "justify_items": null,
            "left": null,
            "margin": null,
            "max_height": null,
            "max_width": null,
            "min_height": null,
            "min_width": null,
            "object_fit": null,
            "object_position": null,
            "order": null,
            "overflow": null,
            "overflow_x": null,
            "overflow_y": null,
            "padding": null,
            "right": null,
            "top": null,
            "visibility": null,
            "width": null
          }
        },
        "5ea9c15e80b5425a900475e333884aa7": {
          "model_module": "@jupyter-widgets/base",
          "model_name": "LayoutModel",
          "model_module_version": "1.2.0",
          "state": {
            "_model_module": "@jupyter-widgets/base",
            "_model_module_version": "1.2.0",
            "_model_name": "LayoutModel",
            "_view_count": null,
            "_view_module": "@jupyter-widgets/base",
            "_view_module_version": "1.2.0",
            "_view_name": "LayoutView",
            "align_content": null,
            "align_items": null,
            "align_self": null,
            "border": null,
            "bottom": null,
            "display": null,
            "flex": null,
            "flex_flow": null,
            "grid_area": null,
            "grid_auto_columns": null,
            "grid_auto_flow": null,
            "grid_auto_rows": null,
            "grid_column": null,
            "grid_gap": null,
            "grid_row": null,
            "grid_template_areas": null,
            "grid_template_columns": null,
            "grid_template_rows": null,
            "height": null,
            "justify_content": null,
            "justify_items": null,
            "left": null,
            "margin": null,
            "max_height": null,
            "max_width": null,
            "min_height": null,
            "min_width": null,
            "object_fit": null,
            "object_position": null,
            "order": null,
            "overflow": null,
            "overflow_x": null,
            "overflow_y": null,
            "padding": null,
            "right": null,
            "top": null,
            "visibility": null,
            "width": null
          }
        },
        "12fe2f824d86446da27e12b26191aeff": {
          "model_module": "@jupyter-widgets/controls",
          "model_name": "DescriptionStyleModel",
          "model_module_version": "1.5.0",
          "state": {
            "_model_module": "@jupyter-widgets/controls",
            "_model_module_version": "1.5.0",
            "_model_name": "DescriptionStyleModel",
            "_view_count": null,
            "_view_module": "@jupyter-widgets/base",
            "_view_module_version": "1.2.0",
            "_view_name": "StyleView",
            "description_width": ""
          }
        },
        "9c95b335cbf5487abfdb85dc7ade9167": {
          "model_module": "@jupyter-widgets/base",
          "model_name": "LayoutModel",
          "model_module_version": "1.2.0",
          "state": {
            "_model_module": "@jupyter-widgets/base",
            "_model_module_version": "1.2.0",
            "_model_name": "LayoutModel",
            "_view_count": null,
            "_view_module": "@jupyter-widgets/base",
            "_view_module_version": "1.2.0",
            "_view_name": "LayoutView",
            "align_content": null,
            "align_items": null,
            "align_self": null,
            "border": null,
            "bottom": null,
            "display": null,
            "flex": null,
            "flex_flow": null,
            "grid_area": null,
            "grid_auto_columns": null,
            "grid_auto_flow": null,
            "grid_auto_rows": null,
            "grid_column": null,
            "grid_gap": null,
            "grid_row": null,
            "grid_template_areas": null,
            "grid_template_columns": null,
            "grid_template_rows": null,
            "height": null,
            "justify_content": null,
            "justify_items": null,
            "left": null,
            "margin": null,
            "max_height": null,
            "max_width": null,
            "min_height": null,
            "min_width": null,
            "object_fit": null,
            "object_position": null,
            "order": null,
            "overflow": null,
            "overflow_x": null,
            "overflow_y": null,
            "padding": null,
            "right": null,
            "top": null,
            "visibility": null,
            "width": null
          }
        },
        "8207de8fbc954d8b94bcc8574265c053": {
          "model_module": "@jupyter-widgets/controls",
          "model_name": "ProgressStyleModel",
          "model_module_version": "1.5.0",
          "state": {
            "_model_module": "@jupyter-widgets/controls",
            "_model_module_version": "1.5.0",
            "_model_name": "ProgressStyleModel",
            "_view_count": null,
            "_view_module": "@jupyter-widgets/base",
            "_view_module_version": "1.2.0",
            "_view_name": "StyleView",
            "bar_color": null,
            "description_width": ""
          }
        },
        "cb4e22b408ee438982b3180034501133": {
          "model_module": "@jupyter-widgets/base",
          "model_name": "LayoutModel",
          "model_module_version": "1.2.0",
          "state": {
            "_model_module": "@jupyter-widgets/base",
            "_model_module_version": "1.2.0",
            "_model_name": "LayoutModel",
            "_view_count": null,
            "_view_module": "@jupyter-widgets/base",
            "_view_module_version": "1.2.0",
            "_view_name": "LayoutView",
            "align_content": null,
            "align_items": null,
            "align_self": null,
            "border": null,
            "bottom": null,
            "display": null,
            "flex": null,
            "flex_flow": null,
            "grid_area": null,
            "grid_auto_columns": null,
            "grid_auto_flow": null,
            "grid_auto_rows": null,
            "grid_column": null,
            "grid_gap": null,
            "grid_row": null,
            "grid_template_areas": null,
            "grid_template_columns": null,
            "grid_template_rows": null,
            "height": null,
            "justify_content": null,
            "justify_items": null,
            "left": null,
            "margin": null,
            "max_height": null,
            "max_width": null,
            "min_height": null,
            "min_width": null,
            "object_fit": null,
            "object_position": null,
            "order": null,
            "overflow": null,
            "overflow_x": null,
            "overflow_y": null,
            "padding": null,
            "right": null,
            "top": null,
            "visibility": null,
            "width": null
          }
        },
        "5f8535c2b5b64cbeade483112d2bad41": {
          "model_module": "@jupyter-widgets/controls",
          "model_name": "DescriptionStyleModel",
          "model_module_version": "1.5.0",
          "state": {
            "_model_module": "@jupyter-widgets/controls",
            "_model_module_version": "1.5.0",
            "_model_name": "DescriptionStyleModel",
            "_view_count": null,
            "_view_module": "@jupyter-widgets/base",
            "_view_module_version": "1.2.0",
            "_view_name": "StyleView",
            "description_width": ""
          }
        },
        "0391a3d8b61e465ba7eaf724479d25eb": {
          "model_module": "@jupyter-widgets/controls",
          "model_name": "HBoxModel",
          "model_module_version": "1.5.0",
          "state": {
            "_dom_classes": [],
            "_model_module": "@jupyter-widgets/controls",
            "_model_module_version": "1.5.0",
            "_model_name": "HBoxModel",
            "_view_count": null,
            "_view_module": "@jupyter-widgets/controls",
            "_view_module_version": "1.5.0",
            "_view_name": "HBoxView",
            "box_style": "",
            "children": [
              "IPY_MODEL_c4f6096665b845a0ade8470bee7d5a39",
              "IPY_MODEL_bf427f896d0346b9a2fa3f151ebc20a9",
              "IPY_MODEL_bf712bf9501c4b4d8a214ed1e2cce04f"
            ],
            "layout": "IPY_MODEL_c904669f5d564bd88236a91cd01a705e"
          }
        },
        "c4f6096665b845a0ade8470bee7d5a39": {
          "model_module": "@jupyter-widgets/controls",
          "model_name": "HTMLModel",
          "model_module_version": "1.5.0",
          "state": {
            "_dom_classes": [],
            "_model_module": "@jupyter-widgets/controls",
            "_model_module_version": "1.5.0",
            "_model_name": "HTMLModel",
            "_view_count": null,
            "_view_module": "@jupyter-widgets/controls",
            "_view_module_version": "1.5.0",
            "_view_name": "HTMLView",
            "description": "",
            "description_tooltip": null,
            "layout": "IPY_MODEL_3db8f9f1991842639f010352f3dc1a32",
            "placeholder": "​",
            "style": "IPY_MODEL_da86eff55db9498f9b1db99fb8e9f67a",
            "value": "model.safetensors: 100%"
          }
        },
        "bf427f896d0346b9a2fa3f151ebc20a9": {
          "model_module": "@jupyter-widgets/controls",
          "model_name": "FloatProgressModel",
          "model_module_version": "1.5.0",
          "state": {
            "_dom_classes": [],
            "_model_module": "@jupyter-widgets/controls",
            "_model_module_version": "1.5.0",
            "_model_name": "FloatProgressModel",
            "_view_count": null,
            "_view_module": "@jupyter-widgets/controls",
            "_view_module_version": "1.5.0",
            "_view_name": "ProgressView",
            "bar_style": "success",
            "description": "",
            "description_tooltip": null,
            "layout": "IPY_MODEL_dc7ba395f71449e6a24783b4626f3082",
            "max": 1344951957,
            "min": 0,
            "orientation": "horizontal",
            "style": "IPY_MODEL_ba77cfe2090444f0a98dbf45280fe7fd",
            "value": 1344951957
          }
        },
        "bf712bf9501c4b4d8a214ed1e2cce04f": {
          "model_module": "@jupyter-widgets/controls",
          "model_name": "HTMLModel",
          "model_module_version": "1.5.0",
          "state": {
            "_dom_classes": [],
            "_model_module": "@jupyter-widgets/controls",
            "_model_module_version": "1.5.0",
            "_model_name": "HTMLModel",
            "_view_count": null,
            "_view_module": "@jupyter-widgets/controls",
            "_view_module_version": "1.5.0",
            "_view_name": "HTMLView",
            "description": "",
            "description_tooltip": null,
            "layout": "IPY_MODEL_ba03258867854227a3279ab8a236bc06",
            "placeholder": "​",
            "style": "IPY_MODEL_c97de9c68b8b489cac7836c0be64f625",
            "value": " 1.34G/1.34G [00:14&lt;00:00, 182MB/s]"
          }
        },
        "c904669f5d564bd88236a91cd01a705e": {
          "model_module": "@jupyter-widgets/base",
          "model_name": "LayoutModel",
          "model_module_version": "1.2.0",
          "state": {
            "_model_module": "@jupyter-widgets/base",
            "_model_module_version": "1.2.0",
            "_model_name": "LayoutModel",
            "_view_count": null,
            "_view_module": "@jupyter-widgets/base",
            "_view_module_version": "1.2.0",
            "_view_name": "LayoutView",
            "align_content": null,
            "align_items": null,
            "align_self": null,
            "border": null,
            "bottom": null,
            "display": null,
            "flex": null,
            "flex_flow": null,
            "grid_area": null,
            "grid_auto_columns": null,
            "grid_auto_flow": null,
            "grid_auto_rows": null,
            "grid_column": null,
            "grid_gap": null,
            "grid_row": null,
            "grid_template_areas": null,
            "grid_template_columns": null,
            "grid_template_rows": null,
            "height": null,
            "justify_content": null,
            "justify_items": null,
            "left": null,
            "margin": null,
            "max_height": null,
            "max_width": null,
            "min_height": null,
            "min_width": null,
            "object_fit": null,
            "object_position": null,
            "order": null,
            "overflow": null,
            "overflow_x": null,
            "overflow_y": null,
            "padding": null,
            "right": null,
            "top": null,
            "visibility": null,
            "width": null
          }
        },
        "3db8f9f1991842639f010352f3dc1a32": {
          "model_module": "@jupyter-widgets/base",
          "model_name": "LayoutModel",
          "model_module_version": "1.2.0",
          "state": {
            "_model_module": "@jupyter-widgets/base",
            "_model_module_version": "1.2.0",
            "_model_name": "LayoutModel",
            "_view_count": null,
            "_view_module": "@jupyter-widgets/base",
            "_view_module_version": "1.2.0",
            "_view_name": "LayoutView",
            "align_content": null,
            "align_items": null,
            "align_self": null,
            "border": null,
            "bottom": null,
            "display": null,
            "flex": null,
            "flex_flow": null,
            "grid_area": null,
            "grid_auto_columns": null,
            "grid_auto_flow": null,
            "grid_auto_rows": null,
            "grid_column": null,
            "grid_gap": null,
            "grid_row": null,
            "grid_template_areas": null,
            "grid_template_columns": null,
            "grid_template_rows": null,
            "height": null,
            "justify_content": null,
            "justify_items": null,
            "left": null,
            "margin": null,
            "max_height": null,
            "max_width": null,
            "min_height": null,
            "min_width": null,
            "object_fit": null,
            "object_position": null,
            "order": null,
            "overflow": null,
            "overflow_x": null,
            "overflow_y": null,
            "padding": null,
            "right": null,
            "top": null,
            "visibility": null,
            "width": null
          }
        },
        "da86eff55db9498f9b1db99fb8e9f67a": {
          "model_module": "@jupyter-widgets/controls",
          "model_name": "DescriptionStyleModel",
          "model_module_version": "1.5.0",
          "state": {
            "_model_module": "@jupyter-widgets/controls",
            "_model_module_version": "1.5.0",
            "_model_name": "DescriptionStyleModel",
            "_view_count": null,
            "_view_module": "@jupyter-widgets/base",
            "_view_module_version": "1.2.0",
            "_view_name": "StyleView",
            "description_width": ""
          }
        },
        "dc7ba395f71449e6a24783b4626f3082": {
          "model_module": "@jupyter-widgets/base",
          "model_name": "LayoutModel",
          "model_module_version": "1.2.0",
          "state": {
            "_model_module": "@jupyter-widgets/base",
            "_model_module_version": "1.2.0",
            "_model_name": "LayoutModel",
            "_view_count": null,
            "_view_module": "@jupyter-widgets/base",
            "_view_module_version": "1.2.0",
            "_view_name": "LayoutView",
            "align_content": null,
            "align_items": null,
            "align_self": null,
            "border": null,
            "bottom": null,
            "display": null,
            "flex": null,
            "flex_flow": null,
            "grid_area": null,
            "grid_auto_columns": null,
            "grid_auto_flow": null,
            "grid_auto_rows": null,
            "grid_column": null,
            "grid_gap": null,
            "grid_row": null,
            "grid_template_areas": null,
            "grid_template_columns": null,
            "grid_template_rows": null,
            "height": null,
            "justify_content": null,
            "justify_items": null,
            "left": null,
            "margin": null,
            "max_height": null,
            "max_width": null,
            "min_height": null,
            "min_width": null,
            "object_fit": null,
            "object_position": null,
            "order": null,
            "overflow": null,
            "overflow_x": null,
            "overflow_y": null,
            "padding": null,
            "right": null,
            "top": null,
            "visibility": null,
            "width": null
          }
        },
        "ba77cfe2090444f0a98dbf45280fe7fd": {
          "model_module": "@jupyter-widgets/controls",
          "model_name": "ProgressStyleModel",
          "model_module_version": "1.5.0",
          "state": {
            "_model_module": "@jupyter-widgets/controls",
            "_model_module_version": "1.5.0",
            "_model_name": "ProgressStyleModel",
            "_view_count": null,
            "_view_module": "@jupyter-widgets/base",
            "_view_module_version": "1.2.0",
            "_view_name": "StyleView",
            "bar_color": null,
            "description_width": ""
          }
        },
        "ba03258867854227a3279ab8a236bc06": {
          "model_module": "@jupyter-widgets/base",
          "model_name": "LayoutModel",
          "model_module_version": "1.2.0",
          "state": {
            "_model_module": "@jupyter-widgets/base",
            "_model_module_version": "1.2.0",
            "_model_name": "LayoutModel",
            "_view_count": null,
            "_view_module": "@jupyter-widgets/base",
            "_view_module_version": "1.2.0",
            "_view_name": "LayoutView",
            "align_content": null,
            "align_items": null,
            "align_self": null,
            "border": null,
            "bottom": null,
            "display": null,
            "flex": null,
            "flex_flow": null,
            "grid_area": null,
            "grid_auto_columns": null,
            "grid_auto_flow": null,
            "grid_auto_rows": null,
            "grid_column": null,
            "grid_gap": null,
            "grid_row": null,
            "grid_template_areas": null,
            "grid_template_columns": null,
            "grid_template_rows": null,
            "height": null,
            "justify_content": null,
            "justify_items": null,
            "left": null,
            "margin": null,
            "max_height": null,
            "max_width": null,
            "min_height": null,
            "min_width": null,
            "object_fit": null,
            "object_position": null,
            "order": null,
            "overflow": null,
            "overflow_x": null,
            "overflow_y": null,
            "padding": null,
            "right": null,
            "top": null,
            "visibility": null,
            "width": null
          }
        },
        "c97de9c68b8b489cac7836c0be64f625": {
          "model_module": "@jupyter-widgets/controls",
          "model_name": "DescriptionStyleModel",
          "model_module_version": "1.5.0",
          "state": {
            "_model_module": "@jupyter-widgets/controls",
            "_model_module_version": "1.5.0",
            "_model_name": "DescriptionStyleModel",
            "_view_count": null,
            "_view_module": "@jupyter-widgets/base",
            "_view_module_version": "1.2.0",
            "_view_name": "StyleView",
            "description_width": ""
          }
        }
      }
    },
    "accelerator": "GPU"
  },
  "cells": [
    {
      "cell_type": "markdown",
      "metadata": {
        "id": "view-in-github",
        "colab_type": "text"
      },
      "source": [
        "<a href=\"https://colab.research.google.com/github/RobyRoshna/Insensitive-Lang-Detection/blob/Training/BERTOrginal.ipynb\" target=\"_parent\"><img src=\"https://colab.research.google.com/assets/colab-badge.svg\" alt=\"Open In Colab\"/></a>"
      ]
    },
    {
      "cell_type": "markdown",
      "source": [
        "# Imports and custom\n",
        "\n"
      ],
      "metadata": {
        "id": "AUBs-3GaSEFe"
      }
    },
    {
      "cell_type": "code",
      "execution_count": null,
      "metadata": {
        "colab": {
          "base_uri": "https://localhost:8080/"
        },
        "id": "b_vZxv5xB2Vx",
        "outputId": "35e96115-199e-464d-ffae-8b64f54a4991"
      },
      "outputs": [
        {
          "output_type": "stream",
          "name": "stdout",
          "text": [
            "Collecting optuna\n",
            "  Downloading optuna-4.2.1-py3-none-any.whl.metadata (17 kB)\n",
            "Collecting alembic>=1.5.0 (from optuna)\n",
            "  Downloading alembic-1.14.1-py3-none-any.whl.metadata (7.4 kB)\n",
            "Collecting colorlog (from optuna)\n",
            "  Downloading colorlog-6.9.0-py3-none-any.whl.metadata (10 kB)\n",
            "Requirement already satisfied: numpy in /usr/local/lib/python3.11/dist-packages (from optuna) (1.26.4)\n",
            "Requirement already satisfied: packaging>=20.0 in /usr/local/lib/python3.11/dist-packages (from optuna) (24.2)\n",
            "Requirement already satisfied: sqlalchemy>=1.4.2 in /usr/local/lib/python3.11/dist-packages (from optuna) (2.0.38)\n",
            "Requirement already satisfied: tqdm in /usr/local/lib/python3.11/dist-packages (from optuna) (4.67.1)\n",
            "Requirement already satisfied: PyYAML in /usr/local/lib/python3.11/dist-packages (from optuna) (6.0.2)\n",
            "Collecting Mako (from alembic>=1.5.0->optuna)\n",
            "  Downloading Mako-1.3.9-py3-none-any.whl.metadata (2.9 kB)\n",
            "Requirement already satisfied: typing-extensions>=4 in /usr/local/lib/python3.11/dist-packages (from alembic>=1.5.0->optuna) (4.12.2)\n",
            "Requirement already satisfied: greenlet!=0.4.17 in /usr/local/lib/python3.11/dist-packages (from sqlalchemy>=1.4.2->optuna) (3.1.1)\n",
            "Requirement already satisfied: MarkupSafe>=0.9.2 in /usr/local/lib/python3.11/dist-packages (from Mako->alembic>=1.5.0->optuna) (3.0.2)\n",
            "Downloading optuna-4.2.1-py3-none-any.whl (383 kB)\n",
            "\u001b[2K   \u001b[90m━━━━━━━━━━━━━━━━━━━━━━━━━━━━━━━━━━━━━━━━\u001b[0m \u001b[32m383.6/383.6 kB\u001b[0m \u001b[31m11.3 MB/s\u001b[0m eta \u001b[36m0:00:00\u001b[0m\n",
            "\u001b[?25hDownloading alembic-1.14.1-py3-none-any.whl (233 kB)\n",
            "\u001b[2K   \u001b[90m━━━━━━━━━━━━━━━━━━━━━━━━━━━━━━━━━━━━━━━━\u001b[0m \u001b[32m233.6/233.6 kB\u001b[0m \u001b[31m8.1 MB/s\u001b[0m eta \u001b[36m0:00:00\u001b[0m\n",
            "\u001b[?25hDownloading colorlog-6.9.0-py3-none-any.whl (11 kB)\n",
            "Downloading Mako-1.3.9-py3-none-any.whl (78 kB)\n",
            "\u001b[2K   \u001b[90m━━━━━━━━━━━━━━━━━━━━━━━━━━━━━━━━━━━━━━━━\u001b[0m \u001b[32m78.5/78.5 kB\u001b[0m \u001b[31m6.1 MB/s\u001b[0m eta \u001b[36m0:00:00\u001b[0m\n",
            "\u001b[?25hInstalling collected packages: Mako, colorlog, alembic, optuna\n",
            "Successfully installed Mako-1.3.9 alembic-1.14.1 colorlog-6.9.0 optuna-4.2.1\n"
          ]
        }
      ],
      "source": [
        "import pandas as pd\n",
        "from sklearn.model_selection import train_test_split\n",
        "from huggingface_hub import login\n",
        "import wandb\n",
        "from transformers import Trainer, TrainingArguments, BertTokenizer, BertForSequenceClassification, set_seed\n",
        "import pandas as pd\n",
        "import random\n",
        "import torch\n",
        "from sklearn.metrics import accuracy_score, precision_recall_fscore_support\n",
        "import numpy as np\n",
        "import pickle\n",
        "\n",
        "!pip install optuna"
      ]
    },
    {
      "cell_type": "code",
      "source": [
        "\n",
        "from sklearn.feature_extraction.text import TfidfVectorizer\n",
        "from sklearn.linear_model import LogisticRegression\n",
        "from sklearn.model_selection import cross_val_score"
      ],
      "metadata": {
        "id": "JWKIgtDkX68Z"
      },
      "execution_count": null,
      "outputs": []
    },
    {
      "cell_type": "code",
      "source": [
        "#Note: random_state for splits need to set separately for this study its 42 throughout\n",
        "random.seed(42)\n",
        "np.random.seed(42)\n",
        "torch.manual_seed(42)\n",
        "torch.cuda.manual_seed(42)\n",
        "set_seed(42)"
      ],
      "metadata": {
        "id": "dfH8RRFnB9zN"
      },
      "execution_count": null,
      "outputs": []
    },
    {
      "cell_type": "code",
      "source": [
        "# Custom Dataset Class for Tokenization\n",
        "class SentenceDataset(torch.utils.data.Dataset):\n",
        "    def __init__(self, encodings, labels): #labels: List of labels corresponding to the sentences (e.g., 0 for NotInsensitive, 1 for Insensitive).\n",
        "\n",
        "        self.encodings = encodings\n",
        "        self.labels = labels\n",
        "\n",
        "    def __len__(self):\n",
        "\n",
        "        return len(self.labels)\n",
        "\n",
        "    def __getitem__(self, idx):\n",
        "        #For pytorch tensors\n",
        "        item = {key: torch.tensor(val[idx]) for key, val in self.encodings.items()}\n",
        "\n",
        "        item['labels'] = torch.tensor(self.labels[idx])\n",
        "        return item\n",
        "\n",
        "# Function to compute metrics\n",
        "def compute_metrics(pred):\n",
        "    predictions, labels = pred\n",
        "    preds = predictions.argmax(axis=1)\n",
        "    acc = accuracy_score(labels, preds)\n",
        "    precision, recall, f1, _ = precision_recall_fscore_support(labels, preds, average='binary')\n",
        "    return {\n",
        "        'accuracy': acc,\n",
        "        'precision': precision,\n",
        "        'recall': recall,\n",
        "        'f1': f1\n",
        "    }"
      ],
      "metadata": {
        "id": "Kyudyx_nCAyf"
      },
      "execution_count": null,
      "outputs": []
    },
    {
      "cell_type": "markdown",
      "source": [
        "# Dataset Prep"
      ],
      "metadata": {
        "id": "Hzka2GzDTIS4"
      }
    },
    {
      "cell_type": "code",
      "source": [
        "import pandas as pd\n",
        "\n",
        "# File paths\n",
        "file1 = \"/content/drive/MyDrive/Honours MiscData(Roshna)/25Augmented_annotationsV2.csv\"\n",
        "file2 = \"/content/drive/MyDrive/Honours MiscData(Roshna)/test_dataOriginal.csv\"\n",
        "\n",
        "# Load CSV files\n",
        "df1 = pd.read_csv(file1)\n",
        "df2 = pd.read_csv(file2)\n",
        "\n",
        "# Ensure the 'Sentence' column exists in both files\n",
        "if 'Sentence' not in df1.columns or 'Sentence' not in df2.columns:\n",
        "    raise ValueError(\"One of the files does not contain a 'Sentence' column.\")\n",
        "\n",
        "# Convert 'Sentence' columns to strings for consistency\n",
        "df1['Sentence'] = df1['Sentence'].astype(str)\n",
        "df2['Sentence'] = df2['Sentence'].astype(str)\n",
        "\n",
        "# Create a dictionary mapping sentences to their actual index in File2 (df2)\n",
        "sentence_to_index_file2 = df2.set_index('Sentence').index.to_series().to_dict()\n",
        "\n",
        "# Find matching sentences and store the actual 1-based indices\n",
        "matching_records = []\n",
        "for index1, sentence in df1['Sentence'].items():  # index1 is zero-based\n",
        "    if sentence in sentence_to_index_file2:\n",
        "        index2 = df2[df2['Sentence'] == sentence].index[0]  # Get the correct index from df2\n",
        "        matching_records.append((index2 + 2, index1 + 2, sentence))  # Convert to 1-based row numbers\n",
        "\n",
        "# Convert results to DataFrame\n",
        "matching_df = pd.DataFrame(matching_records, columns=['File2 Row', 'File1 Row', 'Sentence'])\n",
        "\n",
        "# Print total count of matches\n",
        "print(f\"Total Matching Sentences: {len(matching_df)}\\n\")\n",
        "\n",
        "# Print the first few matches\n",
        "print(\"Matching Records (File2 Row -> File1 Row -> Sentence):\")\n",
        "print(matching_df.head(20).to_string(index=False))  # Show first 20 matches neatly\n"
      ],
      "metadata": {
        "colab": {
          "base_uri": "https://localhost:8080/"
        },
        "id": "fo7-XFl9QZIt",
        "outputId": "5bae316c-cac4-4118-81dd-7eb8c497097f"
      },
      "execution_count": null,
      "outputs": [
        {
          "output_type": "stream",
          "name": "stdout",
          "text": [
            "Total Matching Sentences: 60\n",
            "\n",
            "Matching Records (File2 Row -> File1 Row -> Sentence):\n",
            " File2 Row  File1 Row                                                                                                                                                                                                                                                                                                                                               Sentence\n",
            "       103          3                                                                                                                                                                                         In our system, besides the user’s speech, the speech of individuals with the same type of disorder and even different types of disorders is also incorporated.\n",
            "       108          6                                                                                                                                                            Children with autism spectrum disorder and other developmental disorders tend to have difficulty in language and communication, especially in abstract language concepts like prepositions.\n",
            "        30         27                                                                                                   Training games have many potential benefits for autism spectrum disorder (ASD) intervention, such as increasing motivation and improving the abilities of performing daily living activities, due to their ability to simulate real world scenarios.\n",
            "        99         30                                                                                                                                                                                                                      Dissociative Identity Disorder (DID) is characterized by the presence of at least two distinct identities in the same individual.\n",
            "        70         35                                                                                                                                        Despite a common misconception that Attention-Deficit Hyperactivity Disorder (ADHD) is a childhood disorder, symptoms often persist into adulthood and many adults remain undiagnosed for a variety of reasons.\n",
            "        45         41                                                                                                                                              Consider how an individual would feel if their family, friends, or doctors did not understand or were not even empathetic to daily struggles brought on by an acquired language disorder such as Aphasia.\n",
            "        78         48                                                                                                                                                                                                                                                                         Amblyopia, or \"lazy eye\" is the world's most common neurological eye disorder.\n",
            "        56         50                                                                                                     People with Autism Spectrum Disorder (ASD) are known to experience difficulties in reading comprehension, as well as to have unusual attention patterns, which makes the development of user-centred tools for this population a challenging task.\n",
            "        98        128                                                                                                         In this paper we have developed a toolset that will allow people with severe spastic cerebral palsy (CP) and highly restricted motor movement skills to access popular social-networking and communication mediums like, Facebook and E-mails.\n",
            "        25        252                                                                                                                                                                                                We also report the results of an experiment that tested the effectiveness of a drawing tool for the blind called IC2D that uses this interaction style.\n",
            "        52        262                                                                                                                                             Five auditory display prototypes with accompanying data sonifications were designed, and two prototypes underwent evaluation by testing with blind and low vision students from two schools for the blind.\n",
            "         9        263                                                                                                                                In previous work we have presented a prototype of an assistant system for the blind that can be used for self-localization and interactive object identification of static objects stored within 3D environment models.\n",
            "        59        295                                                                                                                            These abilities, as many other individual attributes as age, age of blindness onset or tactile sensibility are often forgotten, as the blind population is presented with the same methods ignoring capabilities and needs.\n",
            "        38        352                                                                                                                                                                                                               The difference in ability to recognize intended emotions between the hearing-impaired and normal-hearing participants was insignificant.\n",
            "       109        354 We conducted an experiment to determine the abilities of hearing-impaired and normal-hearing people to recognize intended emotions conveyed in four types of stimuli: a drum performance, a drum performance accompanied by a drawing expressing the same intended emotion, and a drum performance accompanied by one of two types of motion pictures.\n",
            "        32        427                       Positioning disabled people as deficient, dysfunctional, and locating the ’problem’ of disability within the individual, the over-medicalized, individualistic, and not equity-oriented perspectives of disability have led to oppression, discrimination, and exclusion of disabled people from important parts of public life.\n",
            "        46        577                                The DARE Index measures three categories of variables in each country: country commitments (legal, regulatory, policies and programs), country capacity to implement (organization, processes, resources) and actual digital accessibility outcomes for persons with disabilities in 10 areas of products and services.\n",
            "        29        602                                                                                                                                                                                                              Ongoing investigation of the ways in which some of the problems encountered by some dyslexics can be alleviated using computer techniques\n",
            "        81        627                                                                                                        This paper describes the ongoing development of a highly configurable word processing environment developed using a pragmatic, obstacle-by-obstacle approach to alleviating some of the visual problems encountered by dyslexic computer users.\n",
            "        23        631                                                                                                                                                               The model learns styles appropriate for dyslexic users and generates dyslexia-friendly text from arbitrary textual data, which is easier for people with dyslexia to read and interpret.\n"
          ]
        }
      ]
    },
    {
      "cell_type": "code",
      "source": [
        "\n",
        "# The annotated dataset\n",
        "file_path = '/content/drive/MyDrive/Honours MiscData(Roshna)/deduplicated_annotations.xlsx'\n",
        "data = pd.read_excel(file_path)\n",
        "\n",
        "# cleaning data\n",
        "data = data[['Sentence', 'Manual_Annotation', 'Matched_Terms']]\n",
        "data = data.dropna()\n",
        "\n",
        "# 1 for insensitive and 0 for notInsensitive\n",
        "data['Manual_Annotation'] = data['Manual_Annotation'].apply(lambda x: 1 if x.lower() == 'insensitive' else 0)\n",
        "\n",
        "# Split the data into train, validation, and test sets\n",
        "train_data, temp_data = train_test_split(data, test_size=0.2, stratify=data['Manual_Annotation'], random_state=42)\n",
        "val_data, test_data = train_test_split(temp_data, test_size=0.5, stratify=temp_data['Manual_Annotation'], random_state=42)\n",
        "\n",
        "print(f\"Train size: {len(train_data)}, Validation size: {len(val_data)}, Test size: {len(test_data)}\")\n",
        "# Save train, val, and test splits\n",
        "train_data.to_csv(\"/content/drive/MyDrive/Honours MiscData(Roshna)/train_dataOriginal.csv\", index=False)\n",
        "val_data.to_csv(\"/content/drive/MyDrive/Honours MiscData(Roshna)/val_dataOriginal.csv\", index=False)\n",
        "test_data.to_csv(\"/content/drive/MyDrive/Honours MiscData(Roshna)/test_dataOriginal.csv\", index=False)\n",
        "print(\"Dataset splits saved!\")\n"
      ],
      "metadata": {
        "colab": {
          "base_uri": "https://localhost:8080/"
        },
        "id": "9OvFkNQ_CFMy",
        "outputId": "d5fe25ff-e64f-41c1-8cf3-10932ce1baa9"
      },
      "execution_count": null,
      "outputs": [
        {
          "output_type": "stream",
          "name": "stdout",
          "text": [
            "Train size: 867, Validation size: 108, Test size: 109\n",
            "Dataset splits saved!\n"
          ]
        }
      ]
    },
    {
      "cell_type": "code",
      "source": [
        "\n",
        "tokenizer = BertTokenizer.from_pretrained('bert-base-uncased')\n",
        "\n",
        "\n",
        "def tokenize_data(data, tokenizer, max_length=109):\n",
        "    return tokenizer(\n",
        "        list(data['Sentence']),\n",
        "        padding=True,\n",
        "        truncation=True,\n",
        "        max_length= max_length,\n",
        "        return_tensors='pt'\n",
        "    )\n",
        "\n",
        "train_labels = list(train_data['Manual_Annotation'])\n",
        "val_labels = list(val_data['Manual_Annotation'])\n",
        "test_labels = list(test_data['Manual_Annotation'])\n",
        "\n",
        "train_encodings = tokenize_data(train_data, tokenizer)\n",
        "val_encodings = tokenize_data(val_data, tokenizer)\n",
        "test_encodings = tokenize_data(test_data, tokenizer)\n",
        "\n",
        "\n",
        "\n",
        "np.save(\"/content/drive/MyDrive/Honours MiscData(Roshna)/Original_train_encodings_input_ids.npy\", train_encodings['input_ids'].numpy())\n",
        "np.save(\"/content/drive/MyDrive/Honours MiscData(Roshna)/Original_train_encodings_attention_mask.npy\", train_encodings['attention_mask'].numpy())\n",
        "np.save(\"/content/drive/MyDrive/Honours MiscData(Roshna)/Original_train_labels.npy\", np.array(train_labels))\n"
      ],
      "metadata": {
        "id": "53KyaBceFCZF"
      },
      "execution_count": null,
      "outputs": []
    },
    {
      "cell_type": "code",
      "source": [
        "\n",
        "#datasets for train, validation, and test sets\n",
        "train_datasetOriginalV2 = SentenceDataset(train_encodings, train_labels)\n",
        "val_datasetOriginalV2 = SentenceDataset(val_encodings, val_labels)\n",
        "test_datasetOriginalV2 = SentenceDataset(test_encodings, test_labels)\n",
        "\n",
        "\n",
        "with open(\"/content/drive/MyDrive/Honours MiscData(Roshna)/train_datasetOriginalV2.pkl\", \"wb\") as f:\n",
        "    pickle.dump(train_datasetOriginalV2, f)\n",
        "with open(\"/content/drive/MyDrive/Honours MiscData(Roshna)/val_datasetOriginalV2.pkl\", \"wb\") as f:\n",
        "    pickle.dump(val_datasetOriginalV2, f)\n",
        "with open(\"/content/drive/MyDrive/Honours MiscData(Roshna)/test_datasetOriginalV2.pkl\", \"wb\") as f:\n",
        "    pickle.dump(test_datasetOriginalV2, f)\n"
      ],
      "metadata": {
        "id": "BTY-WL4dFg5b"
      },
      "execution_count": null,
      "outputs": []
    },
    {
      "cell_type": "markdown",
      "source": [
        "# Original BERT Model"
      ],
      "metadata": {
        "id": "kPCK7NXkTRA1"
      }
    },
    {
      "cell_type": "code",
      "source": [
        "\n",
        "modelBbaseV2Original = BertForSequenceClassification.from_pretrained('bert-base-uncased', num_labels=2)\n"
      ],
      "metadata": {
        "colab": {
          "base_uri": "https://localhost:8080/"
        },
        "id": "aehZqjqZE5-h",
        "outputId": "6851374d-2ad5-4c01-bf60-ea163776835f"
      },
      "execution_count": null,
      "outputs": [
        {
          "output_type": "stream",
          "name": "stderr",
          "text": [
            "Some weights of BertForSequenceClassification were not initialized from the model checkpoint at bert-base-uncased and are newly initialized: ['classifier.bias', 'classifier.weight']\n",
            "You should probably TRAIN this model on a down-stream task to be able to use it for predictions and inference.\n"
          ]
        }
      ]
    },
    {
      "cell_type": "code",
      "source": [
        "\n",
        "wandb.finish()\n",
        "\n",
        "wandb.init(project=\"Insensitive Lang Detecton\", entity=\"Roshna\", name=\"Bert_baseOrgininalV2\")\n",
        "\n",
        "# TrainingArguments\n",
        "training_args = TrainingArguments(\n",
        "    output_dir='./results',\n",
        "    num_train_epochs=3,\n",
        "    per_device_train_batch_size=16,\n",
        "    per_device_eval_batch_size=16,\n",
        "    evaluation_strategy='epoch',\n",
        "    save_strategy='epoch',\n",
        "    logging_dir='./logs',\n",
        "    logging_steps=10,\n",
        "    report_to=[\"wandb\"],  # WandB is used for logging\n",
        "    run_name=\"Bert_base\"  # the run name for this Trainer\n",
        ")\n",
        "\n",
        "# Trainer\n",
        "trainer = Trainer(\n",
        "    model=modelBbaseV2Original,\n",
        "    args=training_args,\n",
        "    train_dataset=train_datasetOriginalV2,\n",
        "    eval_dataset=val_datasetOriginalV2,\n",
        "    compute_metrics=compute_metrics,\n",
        ")\n",
        "\n",
        "trainer.train()\n",
        "\n",
        "# Ensure to include training metrics at the end of training\n",
        "train_results = trainer.predict(train_datasetOriginalV2)\n",
        "\n",
        "\n",
        "predictions = train_results.predictions\n",
        "labels = train_results.label_ids\n",
        "\n",
        "# Compute metrics using the compute_metrics function\n",
        "train_metrics = compute_metrics((predictions, labels))\n",
        "\n",
        "wandb.log({f\"train_{key}\": value for key, value in train_metrics.items()})\n",
        "\n",
        "# Output the metrics at the end of training needed for loos tredns\n",
        "print(\"Training Metrics:\")\n",
        "for key, value in train_metrics.items():\n",
        "    print(f\"{key}: {value:.4f}\")\n",
        "\n",
        "# Compute evaluation metrics on the test set\n",
        "test_results = trainer.evaluate(test_datasetOriginalV2, metric_key_prefix=\"test\")\n",
        "wandb.log(test_results)\n",
        "\n",
        "\n",
        "wandb.finish()\n"
      ],
      "metadata": {
        "colab": {
          "base_uri": "https://localhost:8080/",
          "height": 1000
        },
        "id": "Y7GKtpUfEyc-",
        "outputId": "3ad5fb9b-460a-44d0-e7a4-200c017ad6e7"
      },
      "execution_count": null,
      "outputs": [
        {
          "output_type": "display_data",
          "data": {
            "text/plain": [
              "<IPython.core.display.HTML object>"
            ],
            "text/html": [
              "Tracking run with wandb version 0.19.4"
            ]
          },
          "metadata": {}
        },
        {
          "output_type": "display_data",
          "data": {
            "text/plain": [
              "<IPython.core.display.HTML object>"
            ],
            "text/html": [
              "Run data is saved locally in <code>/content/wandb/run-20250129_232336-akzst8lq</code>"
            ]
          },
          "metadata": {}
        },
        {
          "output_type": "display_data",
          "data": {
            "text/plain": [
              "<IPython.core.display.HTML object>"
            ],
            "text/html": [
              "Syncing run <strong><a href='https://wandb.ai/Roshna/Insensitive%20Lang%20Detecton/runs/akzst8lq' target=\"_blank\">Bert_baseOrgininalV2</a></strong> to <a href='https://wandb.ai/Roshna/Insensitive%20Lang%20Detecton' target=\"_blank\">Weights & Biases</a> (<a href='https://wandb.me/developer-guide' target=\"_blank\">docs</a>)<br>"
            ]
          },
          "metadata": {}
        },
        {
          "output_type": "display_data",
          "data": {
            "text/plain": [
              "<IPython.core.display.HTML object>"
            ],
            "text/html": [
              " View project at <a href='https://wandb.ai/Roshna/Insensitive%20Lang%20Detecton' target=\"_blank\">https://wandb.ai/Roshna/Insensitive%20Lang%20Detecton</a>"
            ]
          },
          "metadata": {}
        },
        {
          "output_type": "display_data",
          "data": {
            "text/plain": [
              "<IPython.core.display.HTML object>"
            ],
            "text/html": [
              " View run at <a href='https://wandb.ai/Roshna/Insensitive%20Lang%20Detecton/runs/akzst8lq' target=\"_blank\">https://wandb.ai/Roshna/Insensitive%20Lang%20Detecton/runs/akzst8lq</a>"
            ]
          },
          "metadata": {}
        },
        {
          "output_type": "stream",
          "name": "stderr",
          "text": [
            "/usr/local/lib/python3.11/dist-packages/transformers/training_args.py:1575: FutureWarning: `evaluation_strategy` is deprecated and will be removed in version 4.46 of 🤗 Transformers. Use `eval_strategy` instead\n",
            "  warnings.warn(\n",
            "<ipython-input-15-1302a6248933>:32: UserWarning: To copy construct from a tensor, it is recommended to use sourceTensor.clone().detach() or sourceTensor.clone().detach().requires_grad_(True), rather than torch.tensor(sourceTensor).\n",
            "  item = {key: torch.tensor(val[idx]) for key, val in self.encodings.items()}\n"
          ]
        },
        {
          "output_type": "display_data",
          "data": {
            "text/plain": [
              "<IPython.core.display.HTML object>"
            ],
            "text/html": [
              "\n",
              "    <div>\n",
              "      \n",
              "      <progress value='165' max='165' style='width:300px; height:20px; vertical-align: middle;'></progress>\n",
              "      [165/165 01:30, Epoch 3/3]\n",
              "    </div>\n",
              "    <table border=\"1\" class=\"dataframe\">\n",
              "  <thead>\n",
              " <tr style=\"text-align: left;\">\n",
              "      <th>Epoch</th>\n",
              "      <th>Training Loss</th>\n",
              "      <th>Validation Loss</th>\n",
              "      <th>Accuracy</th>\n",
              "      <th>Precision</th>\n",
              "      <th>Recall</th>\n",
              "      <th>F1</th>\n",
              "    </tr>\n",
              "  </thead>\n",
              "  <tbody>\n",
              "    <tr>\n",
              "      <td>1</td>\n",
              "      <td>0.241200</td>\n",
              "      <td>0.169273</td>\n",
              "      <td>0.925926</td>\n",
              "      <td>0.952381</td>\n",
              "      <td>0.869565</td>\n",
              "      <td>0.909091</td>\n",
              "    </tr>\n",
              "    <tr>\n",
              "      <td>2</td>\n",
              "      <td>0.169700</td>\n",
              "      <td>0.122286</td>\n",
              "      <td>0.972222</td>\n",
              "      <td>0.977778</td>\n",
              "      <td>0.956522</td>\n",
              "      <td>0.967033</td>\n",
              "    </tr>\n",
              "    <tr>\n",
              "      <td>3</td>\n",
              "      <td>0.040500</td>\n",
              "      <td>0.119051</td>\n",
              "      <td>0.972222</td>\n",
              "      <td>0.977778</td>\n",
              "      <td>0.956522</td>\n",
              "      <td>0.967033</td>\n",
              "    </tr>\n",
              "  </tbody>\n",
              "</table><p>"
            ]
          },
          "metadata": {}
        },
        {
          "output_type": "stream",
          "name": "stderr",
          "text": [
            "<ipython-input-15-1302a6248933>:32: UserWarning: To copy construct from a tensor, it is recommended to use sourceTensor.clone().detach() or sourceTensor.clone().detach().requires_grad_(True), rather than torch.tensor(sourceTensor).\n",
            "  item = {key: torch.tensor(val[idx]) for key, val in self.encodings.items()}\n",
            "<ipython-input-15-1302a6248933>:32: UserWarning: To copy construct from a tensor, it is recommended to use sourceTensor.clone().detach() or sourceTensor.clone().detach().requires_grad_(True), rather than torch.tensor(sourceTensor).\n",
            "  item = {key: torch.tensor(val[idx]) for key, val in self.encodings.items()}\n",
            "<ipython-input-15-1302a6248933>:32: UserWarning: To copy construct from a tensor, it is recommended to use sourceTensor.clone().detach() or sourceTensor.clone().detach().requires_grad_(True), rather than torch.tensor(sourceTensor).\n",
            "  item = {key: torch.tensor(val[idx]) for key, val in self.encodings.items()}\n",
            "<ipython-input-15-1302a6248933>:32: UserWarning: To copy construct from a tensor, it is recommended to use sourceTensor.clone().detach() or sourceTensor.clone().detach().requires_grad_(True), rather than torch.tensor(sourceTensor).\n",
            "  item = {key: torch.tensor(val[idx]) for key, val in self.encodings.items()}\n"
          ]
        },
        {
          "output_type": "display_data",
          "data": {
            "text/plain": [
              "<IPython.core.display.HTML object>"
            ],
            "text/html": []
          },
          "metadata": {}
        },
        {
          "output_type": "stream",
          "name": "stdout",
          "text": [
            "Training Metrics:\n",
            "accuracy: 0.9942\n",
            "precision: 0.9919\n",
            "recall: 0.9946\n",
            "f1: 0.9932\n"
          ]
        },
        {
          "output_type": "stream",
          "name": "stderr",
          "text": [
            "<ipython-input-15-1302a6248933>:32: UserWarning: To copy construct from a tensor, it is recommended to use sourceTensor.clone().detach() or sourceTensor.clone().detach().requires_grad_(True), rather than torch.tensor(sourceTensor).\n",
            "  item = {key: torch.tensor(val[idx]) for key, val in self.encodings.items()}\n"
          ]
        },
        {
          "output_type": "display_data",
          "data": {
            "text/plain": [
              "<IPython.core.display.HTML object>"
            ],
            "text/html": [
              "\n",
              "    <div>\n",
              "      \n",
              "      <progress value='7' max='7' style='width:300px; height:20px; vertical-align: middle;'></progress>\n",
              "      [7/7 00:00]\n",
              "    </div>\n",
              "    "
            ]
          },
          "metadata": {}
        },
        {
          "output_type": "display_data",
          "data": {
            "text/plain": [
              "<IPython.core.display.HTML object>"
            ],
            "text/html": []
          },
          "metadata": {}
        },
        {
          "output_type": "display_data",
          "data": {
            "text/plain": [
              "<IPython.core.display.HTML object>"
            ],
            "text/html": [
              "<br>    <style><br>        .wandb-row {<br>            display: flex;<br>            flex-direction: row;<br>            flex-wrap: wrap;<br>            justify-content: flex-start;<br>            width: 100%;<br>        }<br>        .wandb-col {<br>            display: flex;<br>            flex-direction: column;<br>            flex-basis: 100%;<br>            flex: 1;<br>            padding: 10px;<br>        }<br>    </style><br><div class=\"wandb-row\"><div class=\"wandb-col\"><h3>Run history:</h3><br/><table class=\"wandb\"><tr><td>epoch</td><td>▁</td></tr><tr><td>eval/accuracy</td><td>▁██</td></tr><tr><td>eval/f1</td><td>▁██</td></tr><tr><td>eval/loss</td><td>█▁▁</td></tr><tr><td>eval/precision</td><td>▁██</td></tr><tr><td>eval/recall</td><td>▁██</td></tr><tr><td>eval/runtime</td><td>█▁▆</td></tr><tr><td>eval/samples_per_second</td><td>▁█▃</td></tr><tr><td>eval/steps_per_second</td><td>▁█▃</td></tr><tr><td>test/accuracy</td><td>█▁</td></tr><tr><td>test/f1</td><td>█▁</td></tr><tr><td>test/loss</td><td>▁█</td></tr><tr><td>test/precision</td><td>█▁</td></tr><tr><td>test/recall</td><td>█▁</td></tr><tr><td>test/runtime</td><td>█▁</td></tr><tr><td>test/samples_per_second</td><td>▁█</td></tr><tr><td>test/steps_per_second</td><td>▁█</td></tr><tr><td>test_accuracy</td><td>▁</td></tr><tr><td>test_f1</td><td>▁</td></tr><tr><td>test_loss</td><td>▁</td></tr><tr><td>test_precision</td><td>▁</td></tr><tr><td>test_recall</td><td>▁</td></tr><tr><td>test_runtime</td><td>▁</td></tr><tr><td>test_samples_per_second</td><td>▁</td></tr><tr><td>test_steps_per_second</td><td>▁</td></tr><tr><td>train/epoch</td><td>▁▁▂▂▃▃▃▄▄▅▅▆▆▆▆▇▇████</td></tr><tr><td>train/global_step</td><td>▁▁▂▂▃▃▃▄▄▅▅▆▆▆▆▇▇███████</td></tr><tr><td>train/grad_norm</td><td>▄▃▃▃▆▂▃▇▆█▆▂▁▁▃▁</td></tr><tr><td>train/learning_rate</td><td>██▇▇▆▆▅▅▄▄▃▃▂▂▁▁</td></tr><tr><td>train/loss</td><td>██▅▄▃▂▂▂▂▂▃▁▁▂▁▁</td></tr><tr><td>train_accuracy</td><td>▁</td></tr><tr><td>train_f1</td><td>▁</td></tr><tr><td>train_precision</td><td>▁</td></tr><tr><td>train_recall</td><td>▁</td></tr></table><br/></div><div class=\"wandb-col\"><h3>Run summary:</h3><br/><table class=\"wandb\"><tr><td>epoch</td><td>3</td></tr><tr><td>eval/accuracy</td><td>0.97222</td></tr><tr><td>eval/f1</td><td>0.96703</td></tr><tr><td>eval/loss</td><td>0.11905</td></tr><tr><td>eval/precision</td><td>0.97778</td></tr><tr><td>eval/recall</td><td>0.95652</td></tr><tr><td>eval/runtime</td><td>0.6407</td></tr><tr><td>eval/samples_per_second</td><td>168.572</td></tr><tr><td>eval/steps_per_second</td><td>10.926</td></tr><tr><td>test/accuracy</td><td>0.92661</td></tr><tr><td>test/f1</td><td>0.90698</td></tr><tr><td>test/loss</td><td>0.28281</td></tr><tr><td>test/precision</td><td>0.975</td></tr><tr><td>test/recall</td><td>0.84783</td></tr><tr><td>test/runtime</td><td>0.4874</td></tr><tr><td>test/samples_per_second</td><td>223.643</td></tr><tr><td>test/steps_per_second</td><td>14.362</td></tr><tr><td>test_accuracy</td><td>0.92661</td></tr><tr><td>test_f1</td><td>0.90698</td></tr><tr><td>test_loss</td><td>0.28281</td></tr><tr><td>test_precision</td><td>0.975</td></tr><tr><td>test_recall</td><td>0.84783</td></tr><tr><td>test_runtime</td><td>0.4874</td></tr><tr><td>test_samples_per_second</td><td>223.643</td></tr><tr><td>test_steps_per_second</td><td>14.362</td></tr><tr><td>total_flos</td><td>145692094129020.0</td></tr><tr><td>train/epoch</td><td>3</td></tr><tr><td>train/global_step</td><td>165</td></tr><tr><td>train/grad_norm</td><td>0.07208</td></tr><tr><td>train/learning_rate</td><td>0.0</td></tr><tr><td>train/loss</td><td>0.0405</td></tr><tr><td>train_accuracy</td><td>0.99423</td></tr><tr><td>train_f1</td><td>0.99323</td></tr><tr><td>train_loss</td><td>0.18936</td></tr><tr><td>train_precision</td><td>0.99189</td></tr><tr><td>train_recall</td><td>0.99458</td></tr><tr><td>train_runtime</td><td>90.4431</td></tr><tr><td>train_samples_per_second</td><td>28.758</td></tr><tr><td>train_steps_per_second</td><td>1.824</td></tr></table><br/></div></div>"
            ]
          },
          "metadata": {}
        },
        {
          "output_type": "display_data",
          "data": {
            "text/plain": [
              "<IPython.core.display.HTML object>"
            ],
            "text/html": [
              " View run <strong style=\"color:#cdcd00\">Bert_baseOrgininalV2</strong> at: <a href='https://wandb.ai/Roshna/Insensitive%20Lang%20Detecton/runs/akzst8lq' target=\"_blank\">https://wandb.ai/Roshna/Insensitive%20Lang%20Detecton/runs/akzst8lq</a><br> View project at: <a href='https://wandb.ai/Roshna/Insensitive%20Lang%20Detecton' target=\"_blank\">https://wandb.ai/Roshna/Insensitive%20Lang%20Detecton</a><br>Synced 5 W&B file(s), 0 media file(s), 0 artifact file(s) and 0 other file(s)"
            ]
          },
          "metadata": {}
        },
        {
          "output_type": "display_data",
          "data": {
            "text/plain": [
              "<IPython.core.display.HTML object>"
            ],
            "text/html": [
              "Find logs at: <code>./wandb/run-20250129_232336-akzst8lq/logs</code>"
            ]
          },
          "metadata": {}
        }
      ]
    },
    {
      "cell_type": "code",
      "source": [
        "save_directory = \"/content/drive/MyDrive/Honours MiscData(Roshna)/Original_bert_base_model\"\n"
      ],
      "metadata": {
        "colab": {
          "base_uri": "https://localhost:8080/"
        },
        "id": "YTLTJnmQOwZ5",
        "outputId": "40bfaeb8-172a-491b-fb2c-6eaeb5ec7a25"
      },
      "execution_count": null,
      "outputs": [
        {
          "output_type": "execute_result",
          "data": {
            "text/plain": [
              "('/content/drive/MyDrive/Honours MiscData(Roshna)/Original_bert_base_model/tokenizer_config.json',\n",
              " '/content/drive/MyDrive/Honours MiscData(Roshna)/Original_bert_base_model/special_tokens_map.json',\n",
              " '/content/drive/MyDrive/Honours MiscData(Roshna)/Original_bert_base_model/vocab.txt',\n",
              " '/content/drive/MyDrive/Honours MiscData(Roshna)/Original_bert_base_model/added_tokens.json')"
            ]
          },
          "metadata": {},
          "execution_count": 29
        }
      ]
    },
    {
      "cell_type": "markdown",
      "source": [
        "## Loss Trends"
      ],
      "metadata": {
        "id": "kBEZoey3TeCw"
      }
    },
    {
      "cell_type": "code",
      "source": [
        "import pandas as pd\n",
        "import torch\n",
        "from sklearn.metrics import classification_report, confusion_matrix, accuracy_score\n",
        "import seaborn as sns\n",
        "import matplotlib.pyplot as plt\n",
        "\n",
        "# Compare Train, Validation, and Test Metrics reported during training above\n",
        "val_metrics = {\n",
        "    \"accuracy\": 0.97222,\n",
        "    \"f1\": 0.96703,\n",
        "    \"precision\": 0.97778,\n",
        "    \"recall\": 0.95652,\n",
        "    \"loss\": 0.11905,\n",
        "    \"runtime\": 0.6407,\n",
        "    \"samples_per_second\": 168.572,\n",
        "    \"steps_per_second\": 10.926,\n",
        "}\n",
        "train_metrics = {\n",
        "    \"accuracy\": 0.99423,\n",
        "    \"f1\": 0.99323,\n",
        "    \"precision\": 0.99189,\n",
        "    \"recall\": 0.99458,\n",
        "    \"loss\": 0.0405,\n",
        "    \"global_step\": 165,\n",
        "    \"grad_norm\": 0.07208,\n",
        "    \"learning_rate\": 0.0,\n",
        "    \"train_loss\": 0.18936,\n",
        "    \"runtime\": 90.4431,\n",
        "    \"samples_per_second\": 28.758,\n",
        "    \"steps_per_second\": 1.824,\n",
        "}\n",
        "test_metrics = {\n",
        "    \"accuracy\": 0.92661,\n",
        "    \"f1\": 0.90698,\n",
        "    \"precision\": 0.975,\n",
        "    \"recall\": 0.84783,\n",
        "    \"loss\": 0.28281,\n",
        "    \"runtime\": 0.4874,\n",
        "    \"samples_per_second\": 223.643,\n",
        "    \"steps_per_second\": 14.362,\n",
        "}\n",
        "\n",
        "print(\"Train Metrics:\", train_metrics)\n",
        "print(\"Validation Metrics:\", val_metrics)\n",
        "print(\"Test Metrics:\", test_metrics)\n",
        "\n",
        "epochs = [1, 2, 3]\n",
        "train_losses = [0.241200, 0.169700, 0.040500]\n",
        "val_losses = [0.169273, 0.122286, 0.119051]\n",
        "\n",
        "tl = plt.plot(epochs, train_losses, label=\"Train Loss\", marker='o')\n",
        "vl = plt.plot(epochs, val_losses, label=\"Validation Loss\", marker='o')\n",
        "plt.xlabel(\"Epoch\")\n",
        "plt.ylabel(\"Loss\")\n",
        "plt.title(\"Loss Trends\")\n",
        "plt.legend()\n",
        "plt.savefig(\"Originalloss_trends\")\n",
        "plt.show()\n",
        "\n"
      ],
      "metadata": {
        "colab": {
          "base_uri": "https://localhost:8080/",
          "height": 544
        },
        "id": "Jp0yYmcvUnGx",
        "outputId": "afa0d852-782c-4e57-80b0-a89344a25664"
      },
      "execution_count": null,
      "outputs": [
        {
          "output_type": "stream",
          "name": "stdout",
          "text": [
            "Train Metrics: {'accuracy': 0.99423, 'f1': 0.99323, 'precision': 0.99189, 'recall': 0.99458, 'loss': 0.0405, 'global_step': 165, 'grad_norm': 0.07208, 'learning_rate': 0.0, 'train_loss': 0.18936, 'runtime': 90.4431, 'samples_per_second': 28.758, 'steps_per_second': 1.824}\n",
            "Validation Metrics: {'accuracy': 0.97222, 'f1': 0.96703, 'precision': 0.97778, 'recall': 0.95652, 'loss': 0.11905, 'runtime': 0.6407, 'samples_per_second': 168.572, 'steps_per_second': 10.926}\n",
            "Test Metrics: {'accuracy': 0.92661, 'f1': 0.90698, 'precision': 0.975, 'recall': 0.84783, 'loss': 0.28281, 'runtime': 0.4874, 'samples_per_second': 223.643, 'steps_per_second': 14.362}\n"
          ]
        },
        {
          "output_type": "display_data",
          "data": {
            "text/plain": [
              "<Figure size 640x480 with 1 Axes>"
            ],
            "image/png": "[encoded data removed]"
          },
          "metadata": {}
        }
      ]
    },
    {
      "cell_type": "markdown",
      "source": [
        "## Confusion Matrix"
      ],
      "metadata": {
        "id": "tOBez5R6Tfu4"
      }
    },
    {
      "cell_type": "code",
      "source": [
        "import pandas as pd\n",
        "import torch\n",
        "import pickle\n",
        "import wandb\n",
        "from sklearn.metrics import classification_report, confusion_matrix, accuracy_score\n",
        "import seaborn as sns\n",
        "import matplotlib.pyplot as plt\n",
        "from transformers import BertForSequenceClassification, BertTokenizer\n",
        "\n",
        "\n",
        "test_data = pd.read_csv(\"/content/drive/MyDrive/Honours MiscData(Roshna)/test_dataOriginal.csv\")\n",
        "\n",
        "model_path = \"/content/drive/MyDrive/Honours MiscData(Roshna)/Original_bert_base_model\"\n",
        "model = BertForSequenceClassification.from_pretrained(model_path)\n",
        "model.eval()\n",
        "\n",
        "\n",
        "wandb.finish()\n",
        "wandb.init(project=\"Insensitive Lang Detecton\", entity=\"Roshna\", name=\"Bert_baseOripred\")\n",
        "\n",
        "# Tokenize again\n",
        "tokenizer = BertTokenizer.from_pretrained(model_path)\n",
        "inputs = tokenizer(list(test_data['Sentence']), padding=True, truncation=True, return_tensors=\"pt\")\n",
        "\n",
        "with torch.no_grad():\n",
        "    outputs = model(**inputs)\n",
        "    confidences = torch.softmax(outputs.logits, dim=1)  # probabilities\n",
        "\n",
        "test_predictions = outputs.logits.argmax(dim=1).cpu().numpy()\n",
        "test_true_labels = test_data['Manual_Annotation'].values\n",
        "\n",
        "wandb.finish()\n",
        "\n",
        "\n",
        "conf_matrix = confusion_matrix(test_true_labels, test_predictions)\n",
        "\n",
        "conf_matrix_df = pd.DataFrame(conf_matrix,\n",
        "                              columns=[\"Predicted NotInsensitive\", \"Predicted Insensitive\"],\n",
        "                              index=[\"Actual NotInsensitive\", \"Actual Insensitive\"])\n",
        "\n",
        "print(\"Confusion Matrix - Test Set:\")\n",
        "print(conf_matrix_df)\n",
        "\n",
        "# Analyze false positives and false negatives\n",
        "false_positives = test_data[(test_true_labels == 0) & (test_predictions == 1)].copy()\n",
        "false_negatives = test_data[(test_true_labels == 1) & (test_predictions == 0)].copy()\n",
        "\n",
        "print(\"False Positives:\")\n",
        "print(false_positives[['Sentence', 'Manual_Annotation']])\n",
        "\n",
        "print(\"\\nFalse Negatives:\")\n",
        "print(false_negatives[['Sentence', 'Manual_Annotation']])\n",
        "\n",
        "\n",
        "test_data = test_data.copy()\n",
        "test_data['Confidence_Positive'] = confidences[:, 1].cpu().numpy()\n",
        "test_data['Confidence_Negative'] = confidences[:, 0].cpu().numpy()\n",
        "\n",
        "# Assign confidence values to misclassified examples\n",
        "false_positives['Confidence_Positive'] = test_data.loc[false_positives.index, 'Confidence_Positive'].values\n",
        "false_negatives['Confidence_Negative'] = test_data.loc[false_negatives.index, 'Confidence_Negative'].values\n",
        "\n",
        "print(\"False Positives with Confidence:\")\n",
        "print(false_positives[['Sentence', 'Manual_Annotation', 'Confidence_Positive']])\n",
        "\n",
        "print(\"\\nFalse Negatives with Confidence:\")\n",
        "print(false_negatives[['Sentence', 'Manual_Annotation', 'Confidence_Negative']])\n"
      ],
      "metadata": {
        "colab": {
          "base_uri": "https://localhost:8080/",
          "height": 1000
        },
        "id": "Kb5tnW6-TjPQ",
        "outputId": "158cac6d-66a2-4a09-eddb-c0313b89aa6f"
      },
      "execution_count": null,
      "outputs": [
        {
          "output_type": "display_data",
          "data": {
            "text/plain": [
              "<IPython.core.display.Javascript object>"
            ],
            "application/javascript": [
              "\n",
              "        window._wandbApiKey = new Promise((resolve, reject) => {\n",
              "            function loadScript(url) {\n",
              "            return new Promise(function(resolve, reject) {\n",
              "                let newScript = document.createElement(\"script\");\n",
              "                newScript.onerror = reject;\n",
              "                newScript.onload = resolve;\n",
              "                document.body.appendChild(newScript);\n",
              "                newScript.src = url;\n",
              "            });\n",
              "            }\n",
              "            loadScript(\"https://cdn.jsdelivr.net/npm/postmate/build/postmate.min.js\").then(() => {\n",
              "            const iframe = document.createElement('iframe')\n",
              "            iframe.style.cssText = \"width:0;height:0;border:none\"\n",
              "            document.body.appendChild(iframe)\n",
              "            const handshake = new Postmate({\n",
              "                container: iframe,\n",
              "                url: 'https://wandb.ai/authorize'\n",
              "            });\n",
              "            const timeout = setTimeout(() => reject(\"Couldn't auto authenticate\"), 5000)\n",
              "            handshake.then(function(child) {\n",
              "                child.on('authorize', data => {\n",
              "                    clearTimeout(timeout)\n",
              "                    resolve(data)\n",
              "                });\n",
              "            });\n",
              "            })\n",
              "        });\n",
              "    "
            ]
          },
          "metadata": {}
        },
        {
          "output_type": "stream",
          "name": "stderr",
          "text": [
            "\u001b[34m\u001b[1mwandb\u001b[0m: Logging into wandb.ai. (Learn how to deploy a W&B server locally: https://wandb.me/wandb-server)\n",
            "\u001b[34m\u001b[1mwandb\u001b[0m: You can find your API key in your browser here: https://wandb.ai/authorize\n",
            "wandb: Paste an API key from your profile and hit enter, or press ctrl+c to quit:"
          ]
        },
        {
          "name": "stdout",
          "output_type": "stream",
          "text": [
            " ··········\n"
          ]
        },
        {
          "output_type": "stream",
          "name": "stderr",
          "text": [
            "\u001b[34m\u001b[1mwandb\u001b[0m: \u001b[33mWARNING\u001b[0m If you're specifying your api key in code, ensure this code is not shared publicly.\n",
            "\u001b[34m\u001b[1mwandb\u001b[0m: \u001b[33mWARNING\u001b[0m Consider setting the WANDB_API_KEY environment variable, or running `wandb login` from the command line.\n",
            "\u001b[34m\u001b[1mwandb\u001b[0m: Appending key for api.wandb.ai to your netrc file: /root/.netrc\n",
            "\u001b[34m\u001b[1mwandb\u001b[0m: Currently logged in as: \u001b[33mroshnaroby\u001b[0m (\u001b[33mRoshna\u001b[0m) to \u001b[32mhttps://api.wandb.ai\u001b[0m. Use \u001b[1m`wandb login --relogin`\u001b[0m to force relogin\n",
            "\u001b[34m\u001b[1mwandb\u001b[0m: Using wandb-core as the SDK backend.  Please refer to https://wandb.me/wandb-core for more information.\n"
          ]
        },
        {
          "output_type": "display_data",
          "data": {
            "text/plain": [
              "<IPython.core.display.HTML object>"
            ],
            "text/html": [
              "Tracking run with wandb version 0.19.5"
            ]
          },
          "metadata": {}
        },
        {
          "output_type": "display_data",
          "data": {
            "text/plain": [
              "<IPython.core.display.HTML object>"
            ],
            "text/html": [
              "Run data is saved locally in <code>/content/wandb/run-20250201_203144-586og9yt</code>"
            ]
          },
          "metadata": {}
        },
        {
          "output_type": "display_data",
          "data": {
            "text/plain": [
              "<IPython.core.display.HTML object>"
            ],
            "text/html": [
              "Syncing run <strong><a href='https://wandb.ai/Roshna/Insensitive%20Lang%20Detecton/runs/586og9yt' target=\"_blank\">Bert_baseOripred</a></strong> to <a href='https://wandb.ai/Roshna/Insensitive%20Lang%20Detecton' target=\"_blank\">Weights & Biases</a> (<a href='https://wandb.me/developer-guide' target=\"_blank\">docs</a>)<br>"
            ]
          },
          "metadata": {}
        },
        {
          "output_type": "display_data",
          "data": {
            "text/plain": [
              "<IPython.core.display.HTML object>"
            ],
            "text/html": [
              " View project at <a href='https://wandb.ai/Roshna/Insensitive%20Lang%20Detecton' target=\"_blank\">https://wandb.ai/Roshna/Insensitive%20Lang%20Detecton</a>"
            ]
          },
          "metadata": {}
        },
        {
          "output_type": "display_data",
          "data": {
            "text/plain": [
              "<IPython.core.display.HTML object>"
            ],
            "text/html": [
              " View run at <a href='https://wandb.ai/Roshna/Insensitive%20Lang%20Detecton/runs/586og9yt' target=\"_blank\">https://wandb.ai/Roshna/Insensitive%20Lang%20Detecton/runs/586og9yt</a>"
            ]
          },
          "metadata": {}
        },
        {
          "output_type": "display_data",
          "data": {
            "text/plain": [
              "<IPython.core.display.HTML object>"
            ],
            "text/html": []
          },
          "metadata": {}
        },
        {
          "output_type": "display_data",
          "data": {
            "text/plain": [
              "<IPython.core.display.HTML object>"
            ],
            "text/html": [
              " View run <strong style=\"color:#cdcd00\">Bert_baseOripred</strong> at: <a href='https://wandb.ai/Roshna/Insensitive%20Lang%20Detecton/runs/586og9yt' target=\"_blank\">https://wandb.ai/Roshna/Insensitive%20Lang%20Detecton/runs/586og9yt</a><br> View project at: <a href='https://wandb.ai/Roshna/Insensitive%20Lang%20Detecton' target=\"_blank\">https://wandb.ai/Roshna/Insensitive%20Lang%20Detecton</a><br>Synced 5 W&B file(s), 0 media file(s), 0 artifact file(s) and 0 other file(s)"
            ]
          },
          "metadata": {}
        },
        {
          "output_type": "display_data",
          "data": {
            "text/plain": [
              "<IPython.core.display.HTML object>"
            ],
            "text/html": [
              "Find logs at: <code>./wandb/run-20250201_203144-586og9yt/logs</code>"
            ]
          },
          "metadata": {}
        },
        {
          "output_type": "stream",
          "name": "stdout",
          "text": [
            "Confusion Matrix - Test Set:\n",
            "                       Predicted NotInsensitive  Predicted Insensitive\n",
            "Actual NotInsensitive                        62                      1\n",
            "Actual Insensitive                            7                     39\n",
            "False Positives:\n",
            "                                             Sentence  Manual_Annotation\n",
            "46  Gaze typing for people with extreme motor disa...                  0\n",
            "\n",
            "False Negatives:\n",
            "                                              Sentence  Manual_Annotation\n",
            "6    Our research contributes empirical evidence de...                  1\n",
            "11   Story Blocks provides an introductory programm...                  1\n",
            "27   Ongoing investigation of the ways in which som...                  1\n",
            "62   The result demonstrated that only in the label...                  1\n",
            "89   In this paper, we describe why designers need ...                  1\n",
            "101  In our system, besides the user’s speech, the ...                  1\n",
            "106  Children with autism spectrum disorder and oth...                  1\n",
            "False Positives with Confidence:\n",
            "                                             Sentence  Manual_Annotation  \\\n",
            "46  Gaze typing for people with extreme motor disa...                  0   \n",
            "\n",
            "    Confidence_Positive  \n",
            "46              0.74752  \n",
            "\n",
            "False Negatives with Confidence:\n",
            "                                              Sentence  Manual_Annotation  \\\n",
            "6    Our research contributes empirical evidence de...                  1   \n",
            "11   Story Blocks provides an introductory programm...                  1   \n",
            "27   Ongoing investigation of the ways in which som...                  1   \n",
            "62   The result demonstrated that only in the label...                  1   \n",
            "89   In this paper, we describe why designers need ...                  1   \n",
            "101  In our system, besides the user’s speech, the ...                  1   \n",
            "106  Children with autism spectrum disorder and oth...                  1   \n",
            "\n",
            "     Confidence_Negative  \n",
            "6               0.958955  \n",
            "11              0.945378  \n",
            "27              0.997609  \n",
            "62              0.998149  \n",
            "89              0.995868  \n",
            "101             0.590063  \n",
            "106             0.986203  \n"
          ]
        }
      ]
    },
    {
      "cell_type": "markdown",
      "source": [
        "#EXP 1: Test augmented test set on model"
      ],
      "metadata": {
        "id": "IPQ1xdu2MjzD"
      }
    },
    {
      "cell_type": "code",
      "source": [
        "import pandas as pd\n",
        "import torch\n",
        "import wandb\n",
        "import seaborn as sns\n",
        "import matplotlib.pyplot as plt\n",
        "from transformers import BertForSequenceClassification, BertTokenizer\n",
        "from sklearn.metrics import classification_report, confusion_matrix, accuracy_score\n",
        "\n",
        "\n",
        "test_data = pd.read_csv(\"/content/drive/MyDrive/Honours MiscData(Roshna)/AugTest_dataV2.csv\")\n",
        "\n",
        "\n",
        "model_path = \"/content/drive/MyDrive/Honours MiscData(Roshna)/Original_bert_base_model\"\n",
        "model = BertForSequenceClassification.from_pretrained(model_path)\n",
        "model.eval()\n",
        "wandb.finish()\n",
        "wandb.init(project=\"Insensitive Lang Detection\", entity=\"Roshna\", name=\"Bert_baseAugpred\")\n",
        "\n",
        "\n",
        "tokenizer = BertTokenizer.from_pretrained(model_path)\n",
        "inputs = tokenizer(list(test_data['Sentence']), padding=True, truncation=True, return_tensors=\"pt\")\n",
        "with torch.no_grad():\n",
        "    outputs = model(**inputs)\n",
        "    confidences = torch.softmax(outputs.logits, dim=1)\n",
        "test_predictions = outputs.logits.argmax(dim=1).cpu().numpy()\n",
        "test_true_labels = test_data['Label'].values\n",
        "accuracy = accuracy_score(test_true_labels, test_predictions)\n",
        "class_report = classification_report(test_true_labels, test_predictions, output_dict=True)\n",
        "conf_matrix = confusion_matrix(test_true_labels, test_predictions)\n",
        "\n",
        "# Extract Precision, Recall, and F1-score - macro average gives equal importance to both classes in binary classification\n",
        "precision = class_report[\"macro avg\"][\"precision\"]\n",
        "recall = class_report[\"macro avg\"][\"recall\"]\n",
        "f1 = class_report[\"macro avg\"][\"f1-score\"]\n",
        "wandb.log({\n",
        "    \"test_accuracy\": accuracy,\n",
        "    \"test_precision\": precision,\n",
        "    \"test_recall\": recall,\n",
        "    \"test_f1\": f1\n",
        "})\n",
        "\n",
        "print(\"\\nTest Set Evaluation\")\n",
        "print(f\"Accuracy: {accuracy:.4f}\")\n",
        "print(f\"Precision: {precision:.4f}\")\n",
        "print(f\"Recall: {recall:.4f}\")\n",
        "print(f\"F1 Score: {f1:.4f}\")\n",
        "\n",
        "# Confusion Matrix\n",
        "conf_matrix_df = pd.DataFrame(conf_matrix,\n",
        "                              columns=[\"Predicted NotInsensitive\", \"Predicted Insensitive\"],\n",
        "                              index=[\"Actual NotInsensitive\", \"Actual Insensitive\"])\n",
        "\n",
        "print(\"\\nConfusion Matrix - Test Set:\")\n",
        "print(conf_matrix_df)\n",
        "wandb.log({\"confusion_matrix\": wandb.Table(dataframe=conf_matrix_df)})\n",
        "\n",
        "\n",
        "false_positives = test_data[(test_true_labels == 0) & (test_predictions == 1)].copy()\n",
        "false_negatives = test_data[(test_true_labels == 1) & (test_predictions == 0)].copy()\n",
        "print(\"\\nFalse Positives:\")\n",
        "print(false_positives[['Sentence', 'Label']])\n",
        "print(\"\\nFalse Negatives:\")\n",
        "print(false_negatives[['Sentence', 'Label']])\n",
        "test_data['Confidence_Positive'] = confidences[:, 1].cpu().numpy()\n",
        "test_data['Confidence_Negative'] = confidences[:, 0].cpu().numpy()\n",
        "false_positives['Confidence_Positive'] = test_data.loc[false_positives.index, 'Confidence_Positive'].values\n",
        "false_negatives['Confidence_Negative'] = test_data.loc[false_negatives.index, 'Confidence_Negative'].values\n",
        "\n",
        "print(\"\\nFalse Positives with Confidence:\")\n",
        "print(false_positives[['Sentence', 'Label', 'Confidence_Positive']])\n",
        "print(\"\\nFalse Negatives with Confidence:\")\n",
        "print(false_negatives[['Sentence', 'Label', 'Confidence_Negative']])\n",
        "plt.figure(figsize=(4, 4))\n",
        "sns.heatmap(conf_matrix, annot=True, fmt=\"d\", cmap=\"Blues\",\n",
        "            xticklabels=[\"NotInsensitive\", \"Insensitive\"],\n",
        "            yticklabels=[\"NotInsensitive\", \"Insensitive\"])\n",
        "plt.xlabel(\"Predicted\")\n",
        "plt.ylabel(\"Actual\")\n",
        "plt.savefig(\"AugTest_confusion_matrix\")\n",
        "plt.show()\n",
        "wandb.finish()\n"
      ],
      "metadata": {
        "colab": {
          "base_uri": "https://localhost:8080/",
          "height": 1000
        },
        "id": "jjsHEUZeMso5",
        "outputId": "ebd870df-a783-4354-b74e-afd8073c7803"
      },
      "execution_count": null,
      "outputs": [
        {
          "output_type": "display_data",
          "data": {
            "text/plain": [
              "<IPython.core.display.HTML object>"
            ],
            "text/html": [
              "Tracking run with wandb version 0.19.7"
            ]
          },
          "metadata": {}
        },
        {
          "output_type": "display_data",
          "data": {
            "text/plain": [
              "<IPython.core.display.HTML object>"
            ],
            "text/html": [
              "Run data is saved locally in <code>/content/wandb/run-20250301_191202-cnnlvpx9</code>"
            ]
          },
          "metadata": {}
        },
        {
          "output_type": "display_data",
          "data": {
            "text/plain": [
              "<IPython.core.display.HTML object>"
            ],
            "text/html": [
              "Syncing run <strong><a href='https://wandb.ai/Roshna/Insensitive%20Lang%20Detection/runs/cnnlvpx9' target=\"_blank\">Bert_baseAugpred</a></strong> to <a href='https://wandb.ai/Roshna/Insensitive%20Lang%20Detection' target=\"_blank\">Weights & Biases</a> (<a href='https://wandb.me/developer-guide' target=\"_blank\">docs</a>)<br>"
            ]
          },
          "metadata": {}
        },
        {
          "output_type": "display_data",
          "data": {
            "text/plain": [
              "<IPython.core.display.HTML object>"
            ],
            "text/html": [
              " View project at <a href='https://wandb.ai/Roshna/Insensitive%20Lang%20Detection' target=\"_blank\">https://wandb.ai/Roshna/Insensitive%20Lang%20Detection</a>"
            ]
          },
          "metadata": {}
        },
        {
          "output_type": "display_data",
          "data": {
            "text/plain": [
              "<IPython.core.display.HTML object>"
            ],
            "text/html": [
              " View run at <a href='https://wandb.ai/Roshna/Insensitive%20Lang%20Detection/runs/cnnlvpx9' target=\"_blank\">https://wandb.ai/Roshna/Insensitive%20Lang%20Detection/runs/cnnlvpx9</a>"
            ]
          },
          "metadata": {}
        },
        {
          "output_type": "stream",
          "name": "stdout",
          "text": [
            "\n",
            "Test Set Evaluation\n",
            "Accuracy: 0.5953\n",
            "Precision: 0.6252\n",
            "Recall: 0.5942\n",
            "F1 Score: 0.5681\n",
            "\n",
            "Confusion Matrix - Test Set:\n",
            "                       Predicted NotInsensitive  Predicted Insensitive\n",
            "Actual NotInsensitive                        91                     17\n",
            "Actual Insensitive                           70                     37\n",
            "\n",
            "False Positives:\n",
            "                                              Sentence  Label\n",
            "4    \"Many organizations now discourage the use of ...      0\n",
            "8    \"'Visually impaired' reflects a time when the ...      0\n",
            "9    \"The term 'able-bodied' is gradually being rep...      0\n",
            "12   \"Advocates suggest replacing 'illiterate' with...      0\n",
            "38   \"Our findings encourage reevaluating terms lik...      0\n",
            "48   \"The term 'hearing-impaired' appears in legacy...      0\n",
            "51   \"Our analysis shows that 'hearing-impaired' do...      0\n",
            "70   \"The guide was co-developed with experts from ...      0\n",
            "84   \"The term 'able-bodied' is addressed in this p...      0\n",
            "90   \"The conference on Special Needs and Inclusive...      0\n",
            "104  \"The report analyzes how the term 'sight-impai...      0\n",
            "108  \"The phrase 'able-bodied' has been part of acc...      0\n",
            "115  \"The project was supported by grants from the ...      0\n",
            "129  \"Our analysis highlights the need to avoid bro...      0\n",
            "167  \"Many accessibility experts suggest replacing ...      0\n",
            "211  \"Our research explores why terms such as 'able...      0\n",
            "214  \"Our product was featured at the International...      0\n",
            "\n",
            "False Negatives:\n",
            "                                              Sentence  Label\n",
            "1    \"The app includes features to address the spec...      1\n",
            "5    \"Our app provides visual schedules to support ...      1\n",
            "11   \"Our findings suggest that individuals with at...      1\n",
            "21   \"The study highlights the dependence of indivi...      1\n",
            "22   \"The findings highlight the difficulties crips...      1\n",
            "..                                                 ...    ...\n",
            "198  \"Our findings suggest that the deaf benefit mo...      1\n",
            "200  \"Programs for persons with disabilities should...      1\n",
            "204  \"Our findings show that chair-bound individual...      1\n",
            "206  \"Wheelchair users reported slower task complet...      1\n",
            "213  \"Assistive devices have been shown to improve ...      1\n",
            "\n",
            "[70 rows x 2 columns]\n",
            "\n",
            "False Positives with Confidence:\n",
            "                                              Sentence  Label  \\\n",
            "4    \"Many organizations now discourage the use of ...      0   \n",
            "8    \"'Visually impaired' reflects a time when the ...      0   \n",
            "9    \"The term 'able-bodied' is gradually being rep...      0   \n",
            "12   \"Advocates suggest replacing 'illiterate' with...      0   \n",
            "38   \"Our findings encourage reevaluating terms lik...      0   \n",
            "48   \"The term 'hearing-impaired' appears in legacy...      0   \n",
            "51   \"Our analysis shows that 'hearing-impaired' do...      0   \n",
            "70   \"The guide was co-developed with experts from ...      0   \n",
            "84   \"The term 'able-bodied' is addressed in this p...      0   \n",
            "90   \"The conference on Special Needs and Inclusive...      0   \n",
            "104  \"The report analyzes how the term 'sight-impai...      0   \n",
            "108  \"The phrase 'able-bodied' has been part of acc...      0   \n",
            "115  \"The project was supported by grants from the ...      0   \n",
            "129  \"Our analysis highlights the need to avoid bro...      0   \n",
            "167  \"Many accessibility experts suggest replacing ...      0   \n",
            "211  \"Our research explores why terms such as 'able...      0   \n",
            "214  \"Our product was featured at the International...      0   \n",
            "\n",
            "     Confidence_Positive  \n",
            "4               0.990378  \n",
            "8               0.997833  \n",
            "9               0.990943  \n",
            "12              0.734185  \n",
            "38              0.985946  \n",
            "48              0.997108  \n",
            "51              0.996944  \n",
            "70              0.988040  \n",
            "84              0.991849  \n",
            "90              0.818237  \n",
            "104             0.996750  \n",
            "108             0.978315  \n",
            "115             0.996700  \n",
            "129             0.996010  \n",
            "167             0.993101  \n",
            "211             0.985837  \n",
            "214             0.994710  \n",
            "\n",
            "False Negatives with Confidence:\n",
            "                                              Sentence  Label  \\\n",
            "1    \"The app includes features to address the spec...      1   \n",
            "5    \"Our app provides visual schedules to support ...      1   \n",
            "11   \"Our findings suggest that individuals with at...      1   \n",
            "21   \"The study highlights the dependence of indivi...      1   \n",
            "22   \"The findings highlight the difficulties crips...      1   \n",
            "..                                                 ...    ...   \n",
            "198  \"Our findings suggest that the deaf benefit mo...      1   \n",
            "200  \"Programs for persons with disabilities should...      1   \n",
            "204  \"Our findings show that chair-bound individual...      1   \n",
            "206  \"Wheelchair users reported slower task complet...      1   \n",
            "213  \"Assistive devices have been shown to improve ...      1   \n",
            "\n",
            "     Confidence_Negative  \n",
            "1               0.987832  \n",
            "5               0.859758  \n",
            "11              0.996257  \n",
            "21              0.728159  \n",
            "22              0.959759  \n",
            "..                   ...  \n",
            "198             0.989807  \n",
            "200             0.996213  \n",
            "204             0.966578  \n",
            "206             0.997372  \n",
            "213             0.996343  \n",
            "\n",
            "[70 rows x 3 columns]\n"
          ]
        },
        {
          "output_type": "display_data",
          "data": {
            "text/plain": [
              "<Figure size 400x400 with 2 Axes>"
            ],
            "image/png": "[encoded data removed]"
          },
          "metadata": {}
        },
        {
          "output_type": "display_data",
          "data": {
            "text/plain": [
              "<IPython.core.display.HTML object>"
            ],
            "text/html": []
          },
          "metadata": {}
        },
        {
          "output_type": "display_data",
          "data": {
            "text/plain": [
              "<IPython.core.display.HTML object>"
            ],
            "text/html": [
              "<br>    <style><br>        .wandb-row {<br>            display: flex;<br>            flex-direction: row;<br>            flex-wrap: wrap;<br>            justify-content: flex-start;<br>            width: 100%;<br>        }<br>        .wandb-col {<br>            display: flex;<br>            flex-direction: column;<br>            flex-basis: 100%;<br>            flex: 1;<br>            padding: 10px;<br>        }<br>    </style><br><div class=\"wandb-row\"><div class=\"wandb-col\"><h3>Run history:</h3><br/><table class=\"wandb\"><tr><td>test_accuracy</td><td>▁</td></tr><tr><td>test_f1</td><td>▁</td></tr><tr><td>test_precision</td><td>▁</td></tr><tr><td>test_recall</td><td>▁</td></tr></table><br/></div><div class=\"wandb-col\"><h3>Run summary:</h3><br/><table class=\"wandb\"><tr><td>test_accuracy</td><td>0.59535</td></tr><tr><td>test_f1</td><td>0.5681</td></tr><tr><td>test_precision</td><td>0.6252</td></tr><tr><td>test_recall</td><td>0.59419</td></tr></table><br/></div></div>"
            ]
          },
          "metadata": {}
        },
        {
          "output_type": "display_data",
          "data": {
            "text/plain": [
              "<IPython.core.display.HTML object>"
            ],
            "text/html": [
              " View run <strong style=\"color:#cdcd00\">Bert_baseAugpred</strong> at: <a href='https://wandb.ai/Roshna/Insensitive%20Lang%20Detection/runs/cnnlvpx9' target=\"_blank\">https://wandb.ai/Roshna/Insensitive%20Lang%20Detection/runs/cnnlvpx9</a><br> View project at: <a href='https://wandb.ai/Roshna/Insensitive%20Lang%20Detection' target=\"_blank\">https://wandb.ai/Roshna/Insensitive%20Lang%20Detection</a><br>Synced 5 W&B file(s), 1 media file(s), 2 artifact file(s) and 0 other file(s)"
            ]
          },
          "metadata": {}
        },
        {
          "output_type": "display_data",
          "data": {
            "text/plain": [
              "<IPython.core.display.HTML object>"
            ],
            "text/html": [
              "Find logs at: <code>./wandb/run-20250301_191202-cnnlvpx9/logs</code>"
            ]
          },
          "metadata": {}
        }
      ]
    },
    {
      "cell_type": "code",
      "source": [
        "import pandas as pd\n",
        "import torch\n",
        "import wandb\n",
        "import seaborn as sns\n",
        "import matplotlib.pyplot as plt\n",
        "from transformers import BertForSequenceClassification, BertTokenizer\n",
        "from sklearn.metrics import classification_report, confusion_matrix, accuracy_score\n",
        "\n",
        "# Load test data\n",
        "test_data = pd.read_csv(\"/content/drive/MyDrive/Honours MiscData(Roshna)/AugTest_dataV2.csv\")\n",
        "\n",
        "# Load model\n",
        "model_path = \"/content/drive/MyDrive/Honours MiscData(Roshna)/Original_bert_base_model\"\n",
        "model = BertForSequenceClassification.from_pretrained(model_path)\n",
        "model.eval()\n",
        "\n",
        "# Initialize Weights & Biases\n",
        "wandb.finish()\n",
        "wandb.init(project=\"Insensitive Lang Detection\", entity=\"Roshna\", name=\"Bert_baseAugpred\")\n",
        "\n",
        "# Tokenize input sentences\n",
        "tokenizer = BertTokenizer.from_pretrained(model_path)\n",
        "inputs = tokenizer(list(test_data['Sentence']), padding=True, truncation=True, return_tensors=\"pt\")\n",
        "\n",
        "# Get model predictions\n",
        "with torch.no_grad():\n",
        "    outputs = model(**inputs)\n",
        "    confidences = torch.softmax(outputs.logits, dim=1)\n",
        "\n",
        "test_predictions = outputs.logits.argmax(dim=1).cpu().numpy()\n",
        "test_true_labels = test_data['Label'].values\n",
        "\n",
        "# Calculate accuracy metrics\n",
        "accuracy = accuracy_score(test_true_labels, test_predictions)\n",
        "class_report = classification_report(test_true_labels, test_predictions, output_dict=True)\n",
        "conf_matrix = confusion_matrix(test_true_labels, test_predictions)\n",
        "\n",
        "# Log to Weights & Biases\n",
        "wandb.log({\n",
        "    \"test_accuracy\": accuracy,\n",
        "    \"test_precision\": class_report[\"macro avg\"][\"precision\"],\n",
        "    \"test_recall\": class_report[\"macro avg\"][\"recall\"],\n",
        "    \"test_f1\": class_report[\"macro avg\"][\"f1-score\"]\n",
        "})\n",
        "\n",
        "# Extract false negatives (Actual: 1, Predicted: 0)\n",
        "false_negatives = test_data[(test_true_labels == 1) & (test_predictions == 0)].copy()\n",
        "test_data['Confidence_Positive'] = confidences[:, 1].cpu().numpy()\n",
        "test_data['Confidence_Negative'] = confidences[:, 0].cpu().numpy()\n",
        "\n",
        "# Add confidence scores to false negatives\n",
        "false_negatives['Confidence_Negative'] = test_data.loc[false_negatives.index, 'Confidence_Negative'].values\n",
        "\n",
        "# Save false negatives to CSV\n",
        "false_negatives.to_csv(\"false_negatives.csv\", index=False)\n",
        "print(\"\\nFalse negatives saved to false_negatives.csv\")\n",
        "\n",
        "# Plot confusion matrix\n",
        "plt.figure(figsize=(4, 4))\n",
        "sns.heatmap(conf_matrix, annot=True, fmt=\"d\", cmap=\"Blues\",\n",
        "            xticklabels=[\"NotInsensitive\", \"Insensitive\"],\n",
        "            yticklabels=[\"NotInsensitive\", \"Insensitive\"])\n",
        "plt.xlabel(\"Predicted\")\n",
        "plt.ylabel(\"Actual\")\n",
        "plt.savefig(\"AugTest_confusion_matrix\")\n",
        "plt.show()\n",
        "\n",
        "wandb.finish()\n"
      ],
      "metadata": {
        "colab": {
          "base_uri": "https://localhost:8080/",
          "height": 1000
        },
        "id": "CjXX-u0v8msm",
        "outputId": "dbd20f91-02a7-41df-b760-feef8eaf7b65"
      },
      "execution_count": null,
      "outputs": [
        {
          "output_type": "stream",
          "name": "stderr",
          "text": [
            "\u001b[34m\u001b[1mwandb\u001b[0m: Using wandb-core as the SDK backend.  Please refer to https://wandb.me/wandb-core for more information.\n"
          ]
        },
        {
          "output_type": "display_data",
          "data": {
            "text/plain": [
              "<IPython.core.display.Javascript object>"
            ],
            "application/javascript": [
              "\n",
              "        window._wandbApiKey = new Promise((resolve, reject) => {\n",
              "            function loadScript(url) {\n",
              "            return new Promise(function(resolve, reject) {\n",
              "                let newScript = document.createElement(\"script\");\n",
              "                newScript.onerror = reject;\n",
              "                newScript.onload = resolve;\n",
              "                document.body.appendChild(newScript);\n",
              "                newScript.src = url;\n",
              "            });\n",
              "            }\n",
              "            loadScript(\"https://cdn.jsdelivr.net/npm/postmate/build/postmate.min.js\").then(() => {\n",
              "            const iframe = document.createElement('iframe')\n",
              "            iframe.style.cssText = \"width:0;height:0;border:none\"\n",
              "            document.body.appendChild(iframe)\n",
              "            const handshake = new Postmate({\n",
              "                container: iframe,\n",
              "                url: 'https://wandb.ai/authorize'\n",
              "            });\n",
              "            const timeout = setTimeout(() => reject(\"Couldn't auto authenticate\"), 5000)\n",
              "            handshake.then(function(child) {\n",
              "                child.on('authorize', data => {\n",
              "                    clearTimeout(timeout)\n",
              "                    resolve(data)\n",
              "                });\n",
              "            });\n",
              "            })\n",
              "        });\n",
              "    "
            ]
          },
          "metadata": {}
        },
        {
          "output_type": "stream",
          "name": "stderr",
          "text": [
            "\u001b[34m\u001b[1mwandb\u001b[0m: Logging into wandb.ai. (Learn how to deploy a W&B server locally: https://wandb.me/wandb-server)\n",
            "\u001b[34m\u001b[1mwandb\u001b[0m: You can find your API key in your browser here: https://wandb.ai/authorize\n",
            "wandb: Paste an API key from your profile and hit enter:"
          ]
        },
        {
          "name": "stdout",
          "output_type": "stream",
          "text": [
            " ··········\n"
          ]
        },
        {
          "output_type": "stream",
          "name": "stderr",
          "text": [
            "\u001b[34m\u001b[1mwandb\u001b[0m: \u001b[33mWARNING\u001b[0m If you're specifying your api key in code, ensure this code is not shared publicly.\n",
            "\u001b[34m\u001b[1mwandb\u001b[0m: \u001b[33mWARNING\u001b[0m Consider setting the WANDB_API_KEY environment variable, or running `wandb login` from the command line.\n",
            "\u001b[34m\u001b[1mwandb\u001b[0m: No netrc file found, creating one.\n",
            "\u001b[34m\u001b[1mwandb\u001b[0m: Appending key for api.wandb.ai to your netrc file: /root/.netrc\n",
            "\u001b[34m\u001b[1mwandb\u001b[0m: Currently logged in as: \u001b[33mroshnaroby\u001b[0m (\u001b[33mRoshna\u001b[0m) to \u001b[32mhttps://api.wandb.ai\u001b[0m. Use \u001b[1m`wandb login --relogin`\u001b[0m to force relogin\n"
          ]
        },
        {
          "output_type": "display_data",
          "data": {
            "text/plain": [
              "<IPython.core.display.HTML object>"
            ],
            "text/html": [
              "Tracking run with wandb version 0.19.8"
            ]
          },
          "metadata": {}
        },
        {
          "output_type": "display_data",
          "data": {
            "text/plain": [
              "<IPython.core.display.HTML object>"
            ],
            "text/html": [
              "Run data is saved locally in <code>/content/wandb/run-20250311_160534-zu8gokmc</code>"
            ]
          },
          "metadata": {}
        },
        {
          "output_type": "display_data",
          "data": {
            "text/plain": [
              "<IPython.core.display.HTML object>"
            ],
            "text/html": [
              "Syncing run <strong><a href='https://wandb.ai/Roshna/Insensitive%20Lang%20Detection/runs/zu8gokmc' target=\"_blank\">Bert_baseAugpred</a></strong> to <a href='https://wandb.ai/Roshna/Insensitive%20Lang%20Detection' target=\"_blank\">Weights & Biases</a> (<a href='https://wandb.me/developer-guide' target=\"_blank\">docs</a>)<br>"
            ]
          },
          "metadata": {}
        },
        {
          "output_type": "display_data",
          "data": {
            "text/plain": [
              "<IPython.core.display.HTML object>"
            ],
            "text/html": [
              " View project at <a href='https://wandb.ai/Roshna/Insensitive%20Lang%20Detection' target=\"_blank\">https://wandb.ai/Roshna/Insensitive%20Lang%20Detection</a>"
            ]
          },
          "metadata": {}
        },
        {
          "output_type": "display_data",
          "data": {
            "text/plain": [
              "<IPython.core.display.HTML object>"
            ],
            "text/html": [
              " View run at <a href='https://wandb.ai/Roshna/Insensitive%20Lang%20Detection/runs/zu8gokmc' target=\"_blank\">https://wandb.ai/Roshna/Insensitive%20Lang%20Detection/runs/zu8gokmc</a>"
            ]
          },
          "metadata": {}
        },
        {
          "output_type": "stream",
          "name": "stdout",
          "text": [
            "\n",
            "False negatives saved to false_negatives.csv\n"
          ]
        },
        {
          "output_type": "display_data",
          "data": {
            "text/plain": [
              "<Figure size 400x400 with 2 Axes>"
            ],
            "image/png": "[encoded data removed]"
          },
          "metadata": {}
        },
        {
          "output_type": "display_data",
          "data": {
            "text/plain": [
              "<IPython.core.display.HTML object>"
            ],
            "text/html": []
          },
          "metadata": {}
        },
        {
          "output_type": "display_data",
          "data": {
            "text/plain": [
              "<IPython.core.display.HTML object>"
            ],
            "text/html": [
              "<br>    <style><br>        .wandb-row {<br>            display: flex;<br>            flex-direction: row;<br>            flex-wrap: wrap;<br>            justify-content: flex-start;<br>            width: 100%;<br>        }<br>        .wandb-col {<br>            display: flex;<br>            flex-direction: column;<br>            flex-basis: 100%;<br>            flex: 1;<br>            padding: 10px;<br>        }<br>    </style><br><div class=\"wandb-row\"><div class=\"wandb-col\"><h3>Run history:</h3><br/><table class=\"wandb\"><tr><td>test_accuracy</td><td>▁</td></tr><tr><td>test_f1</td><td>▁</td></tr><tr><td>test_precision</td><td>▁</td></tr><tr><td>test_recall</td><td>▁</td></tr></table><br/></div><div class=\"wandb-col\"><h3>Run summary:</h3><br/><table class=\"wandb\"><tr><td>test_accuracy</td><td>0.59535</td></tr><tr><td>test_f1</td><td>0.5681</td></tr><tr><td>test_precision</td><td>0.6252</td></tr><tr><td>test_recall</td><td>0.59419</td></tr></table><br/></div></div>"
            ]
          },
          "metadata": {}
        },
        {
          "output_type": "display_data",
          "data": {
            "text/plain": [
              "<IPython.core.display.HTML object>"
            ],
            "text/html": [
              " View run <strong style=\"color:#cdcd00\">Bert_baseAugpred</strong> at: <a href='https://wandb.ai/Roshna/Insensitive%20Lang%20Detection/runs/zu8gokmc' target=\"_blank\">https://wandb.ai/Roshna/Insensitive%20Lang%20Detection/runs/zu8gokmc</a><br> View project at: <a href='https://wandb.ai/Roshna/Insensitive%20Lang%20Detection' target=\"_blank\">https://wandb.ai/Roshna/Insensitive%20Lang%20Detection</a><br>Synced 5 W&B file(s), 0 media file(s), 0 artifact file(s) and 0 other file(s)"
            ]
          },
          "metadata": {}
        },
        {
          "output_type": "display_data",
          "data": {
            "text/plain": [
              "<IPython.core.display.HTML object>"
            ],
            "text/html": [
              "Find logs at: <code>./wandb/run-20250311_160534-zu8gokmc/logs</code>"
            ]
          },
          "metadata": {}
        }
      ]
    },
    {
      "cell_type": "markdown",
      "source": [
        "# EXP 2: Test GPT test set on unaugmented model"
      ],
      "metadata": {
        "id": "rI9NaRXfY-ht"
      }
    },
    {
      "cell_type": "code",
      "source": [
        "import pandas as pd\n",
        "import torch\n",
        "import wandb\n",
        "import seaborn as sns\n",
        "import matplotlib.pyplot as plt\n",
        "from transformers import BertForSequenceClassification, BertTokenizer\n",
        "from sklearn.metrics import classification_report, confusion_matrix, accuracy_score\n",
        "\n",
        "# Load pure GPT test set\n",
        "test_data = pd.read_csv(\"/content/drive/MyDrive/Honours MiscData(Roshna)/ChatGPTtest_data.csv\")\n",
        "\n",
        "# Load the unaug model\n",
        "model_path = \"/content/drive/MyDrive/Honours MiscData(Roshna)/Original_bert_base_model\"\n",
        "model = BertForSequenceClassification.from_pretrained(model_path)\n",
        "model.eval()\n",
        "\n",
        "\n",
        "wandb.finish()\n",
        "wandb.init(project=\"Insensitive Lang Detection\", entity=\"Roshna\", name=\"Bert_basegptpred\")\n",
        "tokenizer = BertTokenizer.from_pretrained(model_path)\n",
        "inputs = tokenizer(list(test_data['Sentence']), padding=True, truncation=True, return_tensors=\"pt\")\n",
        "\n",
        "with torch.no_grad():\n",
        "    outputs = model(**inputs)\n",
        "    confidences = torch.softmax(outputs.logits, dim=1)\n",
        "\n",
        "test_predictions = outputs.logits.argmax(dim=1).cpu().numpy()\n",
        "test_true_labels = test_data['Label'].values\n",
        "\n",
        "accuracy = accuracy_score(test_true_labels, test_predictions)\n",
        "class_report = classification_report(test_true_labels, test_predictions, output_dict=True)\n",
        "conf_matrix = confusion_matrix(test_true_labels, test_predictions)\n",
        "\n",
        "# Extract Precision, Recall, and F1-score- macro average gives equal importance to both classes in binary classification\n",
        "precision = class_report[\"macro avg\"][\"precision\"]\n",
        "recall = class_report[\"macro avg\"][\"recall\"]\n",
        "f1 = class_report[\"macro avg\"][\"f1-score\"]\n",
        "\n",
        "wandb.log({\n",
        "    \"test_accuracy\": accuracy,\n",
        "    \"test_precision\": precision,\n",
        "    \"test_recall\": recall,\n",
        "    \"test_f1\": f1\n",
        "})\n",
        "\n",
        "\n",
        "print(\"\\nTest Set Evaluation\")\n",
        "print(f\"Accuracy: {accuracy:.4f}\")\n",
        "print(f\"Precision: {precision:.4f}\")\n",
        "print(f\"Recall: {recall:.4f}\")\n",
        "print(f\"F1 Score: {f1:.4f}\")\n",
        "\n",
        "\n",
        "conf_matrix_df = pd.DataFrame(conf_matrix,\n",
        "                              columns=[\"Predicted NotInsensitive\", \"Predicted Insensitive\"],\n",
        "                              index=[\"Actual NotInsensitive\", \"Actual Insensitive\"])\n",
        "\n",
        "print(\"\\nConfusion Matrix - Test Set:\")\n",
        "print(conf_matrix_df)\n",
        "wandb.log({\"confusion_matrix\": wandb.Table(dataframe=conf_matrix_df)})\n",
        "false_positives = test_data[(test_true_labels == 0) & (test_predictions == 1)].copy()\n",
        "false_negatives = test_data[(test_true_labels == 1) & (test_predictions == 0)].copy()\n",
        "\n",
        "print(\"\\nFalse Positives:\")\n",
        "print(false_positives[['Sentence', 'Label']])\n",
        "\n",
        "print(\"\\nFalse Negatives:\")\n",
        "print(false_negatives[['Sentence', 'Label']])\n",
        "test_data['Confidence_Positive'] = confidences[:, 1].cpu().numpy()\n",
        "test_data['Confidence_Negative'] = confidences[:, 0].cpu().numpy()\n",
        "false_positives['Confidence_Positive'] = test_data.loc[false_positives.index, 'Confidence_Positive'].values\n",
        "false_negatives['Confidence_Negative'] = test_data.loc[false_negatives.index, 'Confidence_Negative'].values\n",
        "print(\"\\nFalse Positives with Confidence:\")\n",
        "print(false_positives[['Sentence', 'Label', 'Confidence_Positive']])\n",
        "print(\"\\nFalse Negatives with Confidence:\")\n",
        "print(false_negatives[['Sentence', 'Label', 'Confidence_Negative']])\n",
        "\n",
        "\n",
        "plt.figure(figsize=(4, 4))\n",
        "sns.heatmap(conf_matrix, annot=True, fmt=\"d\", cmap=\"Blues\",\n",
        "            xticklabels=[\"NotInsensitive\", \"Insensitive\"],\n",
        "            yticklabels=[\"NotInsensitive\", \"Insensitive\"])\n",
        "plt.xlabel(\"Predicted\")\n",
        "plt.ylabel(\"Actual\")\n",
        "\n",
        "plt.savefig(\"GPTtest_confusion_matrix\")\n",
        "plt.show()\n",
        "\n",
        "\n",
        "wandb.finish()\n"
      ],
      "metadata": {
        "colab": {
          "base_uri": "https://localhost:8080/",
          "height": 1000
        },
        "id": "Wi6V-6VwY90q",
        "outputId": "dca3def0-0019-4333-869d-31fc384eeba7"
      },
      "execution_count": null,
      "outputs": [
        {
          "output_type": "display_data",
          "data": {
            "text/plain": [
              "<IPython.core.display.HTML object>"
            ],
            "text/html": []
          },
          "metadata": {}
        },
        {
          "output_type": "display_data",
          "data": {
            "text/plain": [
              "<IPython.core.display.HTML object>"
            ],
            "text/html": [
              " View run <strong style=\"color:#cdcd00\">Bert_basegptpred</strong> at: <a href='https://wandb.ai/Roshna/Insensitive%20Lang%20Detection/runs/r0x2uj9b' target=\"_blank\">https://wandb.ai/Roshna/Insensitive%20Lang%20Detection/runs/r0x2uj9b</a><br> View project at: <a href='https://wandb.ai/Roshna/Insensitive%20Lang%20Detection' target=\"_blank\">https://wandb.ai/Roshna/Insensitive%20Lang%20Detection</a><br>Synced 5 W&B file(s), 0 media file(s), 0 artifact file(s) and 0 other file(s)"
            ]
          },
          "metadata": {}
        },
        {
          "output_type": "display_data",
          "data": {
            "text/plain": [
              "<IPython.core.display.HTML object>"
            ],
            "text/html": [
              "Find logs at: <code>./wandb/run-20250221_013312-r0x2uj9b/logs</code>"
            ]
          },
          "metadata": {}
        },
        {
          "output_type": "display_data",
          "data": {
            "text/plain": [
              "<IPython.core.display.HTML object>"
            ],
            "text/html": [
              "Tracking run with wandb version 0.19.6"
            ]
          },
          "metadata": {}
        },
        {
          "output_type": "display_data",
          "data": {
            "text/plain": [
              "<IPython.core.display.HTML object>"
            ],
            "text/html": [
              "Run data is saved locally in <code>/content/wandb/run-20250221_014615-xfhkg61u</code>"
            ]
          },
          "metadata": {}
        },
        {
          "output_type": "display_data",
          "data": {
            "text/plain": [
              "<IPython.core.display.HTML object>"
            ],
            "text/html": [
              "Syncing run <strong><a href='https://wandb.ai/Roshna/Insensitive%20Lang%20Detection/runs/xfhkg61u' target=\"_blank\">Bert_basegptpred</a></strong> to <a href='https://wandb.ai/Roshna/Insensitive%20Lang%20Detection' target=\"_blank\">Weights & Biases</a> (<a href='https://wandb.me/developer-guide' target=\"_blank\">docs</a>)<br>"
            ]
          },
          "metadata": {}
        },
        {
          "output_type": "display_data",
          "data": {
            "text/plain": [
              "<IPython.core.display.HTML object>"
            ],
            "text/html": [
              " View project at <a href='https://wandb.ai/Roshna/Insensitive%20Lang%20Detection' target=\"_blank\">https://wandb.ai/Roshna/Insensitive%20Lang%20Detection</a>"
            ]
          },
          "metadata": {}
        },
        {
          "output_type": "display_data",
          "data": {
            "text/plain": [
              "<IPython.core.display.HTML object>"
            ],
            "text/html": [
              " View run at <a href='https://wandb.ai/Roshna/Insensitive%20Lang%20Detection/runs/xfhkg61u' target=\"_blank\">https://wandb.ai/Roshna/Insensitive%20Lang%20Detection/runs/xfhkg61u</a>"
            ]
          },
          "metadata": {}
        },
        {
          "output_type": "stream",
          "name": "stdout",
          "text": [
            "\n",
            "Test Set Evaluation\n",
            "Accuracy: 0.6279\n",
            "Precision: 0.6706\n",
            "Recall: 0.6267\n",
            "F1 Score: 0.6019\n",
            "\n",
            "Confusion Matrix - Test Set:\n",
            "                       Predicted NotInsensitive  Predicted Insensitive\n",
            "Actual NotInsensitive                        95                     13\n",
            "Actual Insensitive                           67                     40\n",
            "\n",
            "False Positives:\n",
            "                                              Sentence  Label\n",
            "3    \"Advocates recommend replacing 'hearing-impair...      0\n",
            "16   \"The report traces the origins of the term 'si...      0\n",
            "23   \"Our research discusses how the label 'illiter...      0\n",
            "46   \"The app provides accessible features for user...      0\n",
            "47   \"The research focuses on mobility solutions fo...      0\n",
            "65   \"This toolset was developed to reduce barriers...      0\n",
            "86   \"Our research highlights the transition from u...      0\n",
            "100  \"The phrase 'sight-impaired' is mentioned in e...      0\n",
            "128  \"The program explores the intersections of tec...      0\n",
            "158  \"The study critiques the persistence of 'heari...      0\n",
            "161  \"Language preferences are shifting away from p...      0\n",
            "163  \"Our findings show that replacing 'hearing-imp...      0\n",
            "209  \"The term 'able-bodied' is gradually being rep...      0\n",
            "\n",
            "False Negatives:\n",
            "                                              Sentence  Label\n",
            "1    \"Participants with normal hearing found the au...      1\n",
            "11   \"The research focused on finding practical sol...      1\n",
            "17   \"Non-verbal individuals often face challenges ...      1\n",
            "18   \"The system ensures a deaf person is not entir...      1\n",
            "22   \"The app simplifies workflows for crips to enh...      1\n",
            "..                                                 ...    ...\n",
            "192  \"The system addresses the limitations faced by...      1\n",
            "194  \"The study separated chair-bound and non-chair...      1\n",
            "200  \"The study focused on users with whole sensory...      1\n",
            "205  \"Our findings suggest that persons with disabi...      1\n",
            "206  \"The research highlights the unique needs of c...      1\n",
            "\n",
            "[67 rows x 2 columns]\n",
            "\n",
            "False Positives with Confidence:\n",
            "                                              Sentence  Label  \\\n",
            "3    \"Advocates recommend replacing 'hearing-impair...      0   \n",
            "16   \"The report traces the origins of the term 'si...      0   \n",
            "23   \"Our research discusses how the label 'illiter...      0   \n",
            "46   \"The app provides accessible features for user...      0   \n",
            "47   \"The research focuses on mobility solutions fo...      0   \n",
            "65   \"This toolset was developed to reduce barriers...      0   \n",
            "86   \"Our research highlights the transition from u...      0   \n",
            "100  \"The phrase 'sight-impaired' is mentioned in e...      0   \n",
            "128  \"The program explores the intersections of tec...      0   \n",
            "158  \"The study critiques the persistence of 'heari...      0   \n",
            "161  \"Language preferences are shifting away from p...      0   \n",
            "163  \"Our findings show that replacing 'hearing-imp...      0   \n",
            "209  \"The term 'able-bodied' is gradually being rep...      0   \n",
            "\n",
            "     Confidence_Positive  \n",
            "3               0.996587  \n",
            "16              0.997024  \n",
            "23              0.564227  \n",
            "46              0.992648  \n",
            "47              0.982282  \n",
            "65              0.901838  \n",
            "86              0.996337  \n",
            "100             0.997142  \n",
            "128             0.613165  \n",
            "158             0.996567  \n",
            "161             0.997698  \n",
            "163             0.996076  \n",
            "209             0.990943  \n",
            "\n",
            "False Negatives with Confidence:\n",
            "                                              Sentence  Label  \\\n",
            "1    \"Participants with normal hearing found the au...      1   \n",
            "11   \"The research focused on finding practical sol...      1   \n",
            "17   \"Non-verbal individuals often face challenges ...      1   \n",
            "18   \"The system ensures a deaf person is not entir...      1   \n",
            "22   \"The app simplifies workflows for crips to enh...      1   \n",
            "..                                                 ...    ...   \n",
            "192  \"The system addresses the limitations faced by...      1   \n",
            "194  \"The study separated chair-bound and non-chair...      1   \n",
            "200  \"The study focused on users with whole sensory...      1   \n",
            "205  \"Our findings suggest that persons with disabi...      1   \n",
            "206  \"The research highlights the unique needs of c...      1   \n",
            "\n",
            "     Confidence_Negative  \n",
            "1               0.993301  \n",
            "11              0.996101  \n",
            "17              0.994634  \n",
            "18              0.998580  \n",
            "22              0.997840  \n",
            "..                   ...  \n",
            "192             0.990703  \n",
            "194             0.995158  \n",
            "200             0.973013  \n",
            "205             0.995771  \n",
            "206             0.664182  \n",
            "\n",
            "[67 rows x 3 columns]\n"
          ]
        },
        {
          "output_type": "display_data",
          "data": {
            "text/plain": [
              "<Figure size 400x400 with 2 Axes>"
            ],
            "image/png": "[encoded data removed]"
          },
          "metadata": {}
        },
        {
          "output_type": "display_data",
          "data": {
            "text/plain": [
              "<IPython.core.display.HTML object>"
            ],
            "text/html": []
          },
          "metadata": {}
        },
        {
          "output_type": "display_data",
          "data": {
            "text/plain": [
              "<IPython.core.display.HTML object>"
            ],
            "text/html": [
              "<br>    <style><br>        .wandb-row {<br>            display: flex;<br>            flex-direction: row;<br>            flex-wrap: wrap;<br>            justify-content: flex-start;<br>            width: 100%;<br>        }<br>        .wandb-col {<br>            display: flex;<br>            flex-direction: column;<br>            flex-basis: 100%;<br>            flex: 1;<br>            padding: 10px;<br>        }<br>    </style><br><div class=\"wandb-row\"><div class=\"wandb-col\"><h3>Run history:</h3><br/><table class=\"wandb\"><tr><td>test_accuracy</td><td>▁</td></tr><tr><td>test_f1</td><td>▁</td></tr><tr><td>test_precision</td><td>▁</td></tr><tr><td>test_recall</td><td>▁</td></tr></table><br/></div><div class=\"wandb-col\"><h3>Run summary:</h3><br/><table class=\"wandb\"><tr><td>test_accuracy</td><td>0.62791</td></tr><tr><td>test_f1</td><td>0.60185</td></tr><tr><td>test_precision</td><td>0.67057</td></tr><tr><td>test_recall</td><td>0.62673</td></tr></table><br/></div></div>"
            ]
          },
          "metadata": {}
        },
        {
          "output_type": "display_data",
          "data": {
            "text/plain": [
              "<IPython.core.display.HTML object>"
            ],
            "text/html": [
              " View run <strong style=\"color:#cdcd00\">Bert_basegptpred</strong> at: <a href='https://wandb.ai/Roshna/Insensitive%20Lang%20Detection/runs/xfhkg61u' target=\"_blank\">https://wandb.ai/Roshna/Insensitive%20Lang%20Detection/runs/xfhkg61u</a><br> View project at: <a href='https://wandb.ai/Roshna/Insensitive%20Lang%20Detection' target=\"_blank\">https://wandb.ai/Roshna/Insensitive%20Lang%20Detection</a><br>Synced 5 W&B file(s), 1 media file(s), 2 artifact file(s) and 0 other file(s)"
            ]
          },
          "metadata": {}
        },
        {
          "output_type": "display_data",
          "data": {
            "text/plain": [
              "<IPython.core.display.HTML object>"
            ],
            "text/html": [
              "Find logs at: <code>./wandb/run-20250221_014615-xfhkg61u/logs</code>"
            ]
          },
          "metadata": {}
        }
      ]
    },
    {
      "cell_type": "markdown",
      "source": [
        "# BERT Large"
      ],
      "metadata": {
        "id": "4-t2mAlM_OJS"
      }
    },
    {
      "cell_type": "code",
      "source": [
        "train_path = \"/content/drive/MyDrive/Honours MiscData(Roshna)/train_dataOriginal.csv\"\n",
        "val_path = \"/content/drive/MyDrive/Honours MiscData(Roshna)/val_dataOriginal.csv\"\n",
        "test_path = \"/content/drive/MyDrive/Honours MiscData(Roshna)/test_dataOriginal.csv\"\n",
        "\n",
        "# Load datasets\n",
        "train_data = pd.read_csv(train_path)\n",
        "val_data = pd.read_csv(val_path)\n",
        "test_data = pd.read_csv(test_path)\n",
        "tokenizer = BertTokenizer.from_pretrained('bert-large-uncased')\n",
        "\n",
        "\n",
        "def tokenize_data(data, tokenizer, max_length=109):\n",
        "    return tokenizer(\n",
        "        list(data['Sentence']),\n",
        "        padding=True,\n",
        "        truncation=True,\n",
        "        max_length= max_length,\n",
        "        return_tensors='pt'\n",
        "    )\n",
        "\n",
        "train_labels = list(train_data['Manual_Annotation'])\n",
        "val_labels = list(val_data['Manual_Annotation'])\n",
        "test_labels = list(test_data['Manual_Annotation'])\n",
        "\n",
        "train_encodings = tokenize_data(train_data, tokenizer)\n",
        "val_encodings = tokenize_data(val_data, tokenizer)\n",
        "test_encodings = tokenize_data(test_data, tokenizer)\n",
        "\n",
        "\n",
        "\n",
        "np.save(\"/content/drive/MyDrive/Honours MiscData(Roshna)/Original_train_encodings_input_idsV2.npy\", train_encodings['input_ids'].numpy())\n",
        "np.save(\"/content/drive/MyDrive/Honours MiscData(Roshna)/Original_train_encodings_attention_maskV2.npy\", train_encodings['attention_mask'].numpy())\n",
        "np.save(\"/content/drive/MyDrive/Honours MiscData(Roshna)/Original_train_labels.npyV2\", np.array(train_labels))\n"
      ],
      "metadata": {
        "colab": {
          "base_uri": "https://localhost:8080/",
          "height": 145,
          "referenced_widgets": [
            "d9d6543c818048d8bfeb994af592d09c",
            "5ca14ce6597f44e9a0b2014169b93df7",
            "56504a83c9604d61981386da52ebe2f0",
            "b80cc394b3fe4b31a66e18d92c1d7903",
            "041434081dc5477bb7b5191722a70915",
            "5eb2e92fe39f4885b1224fa91d4943db",
            "09c2b0782a6e48258f4965ba18cda2bd",
            "787d830883f4462398da9eea60f98d52",
            "c049260e55314b9e8de7a1210972d895",
            "420c8009911b40559a1f32cde549880b",
            "9d051144cb704d1c9147855cc5f58bba",
            "7bc7e15e88c94707a9cdef8b47c063d0",
            "ec89369b95c147d1be0c59eb1244c3c5",
            "5d04414c879a4937a990aa179a336ce9",
            "940c9f17d66a40fa99a5d88319eece4a",
            "cb10ca49d0134b06b4541b0615ebdf18",
            "f03b39f5e92d4e66bfc5dbfb8fe1bd6f",
            "b4ab6cacb6154956bf4236858dfdf433",
            "08278a84c9c749378e71e0e89f5843d5",
            "d977d842280b4aa1967713b877cfb396",
            "67d70f30b52f4f51a207352aa6efb2d2",
            "d8f816ceccb24f56a0f238301d46ae9a",
            "685d69f8c8894f9582bc3e3106c1a54c",
            "0e2349cf931f4ee197c28854202d0618",
            "0c19ccfacf3640638e893b6b5aa91b1c",
            "a4e46b29b63d4f26b17f2dc62b126aac",
            "17926cc7864d41dd93c6075061638855",
            "d2c34b784cd3484d83bebd67c647cf22",
            "7f427698a7d9450eb08ade09a5570bae",
            "97562b5f7b9e4fdd92950c38e0da002c",
            "476fab6d23504cff832e7ac61f0dce8b",
            "3515457514c14fa2b69c4f0705d15942",
            "4ad5f2f7952841a5a0e8184361a4939b",
            "4e36bb1c773f4cf0a43ab4d3b865f334",
            "814d7b401df347818c53a7dd52b4c12d",
            "bc32d0456937433da580e3f46d0208a9",
            "01ad9d84de9342a8b78e705afb35fad5",
            "ef45004a324340cdb35ef0648fc5c6ae",
            "5ea9c15e80b5425a900475e333884aa7",
            "12fe2f824d86446da27e12b26191aeff",
            "9c95b335cbf5487abfdb85dc7ade9167",
            "8207de8fbc954d8b94bcc8574265c053",
            "cb4e22b408ee438982b3180034501133",
            "5f8535c2b5b64cbeade483112d2bad41"
          ]
        },
        "id": "VBaFxKGU_Ngr",
        "outputId": "a696553b-9a03-4aed-fc4c-aa5d38ae34c5"
      },
      "execution_count": null,
      "outputs": [
        {
          "output_type": "display_data",
          "data": {
            "text/plain": [
              "tokenizer_config.json:   0%|          | 0.00/48.0 [00:00<?, ?B/s]"
            ],
            "application/vnd.jupyter.widget-view+json": {
              "version_major": 2,
              "version_minor": 0,
              "model_id": "d9d6543c818048d8bfeb994af592d09c"
            }
          },
          "metadata": {}
        },
        {
          "output_type": "display_data",
          "data": {
            "text/plain": [
              "vocab.txt:   0%|          | 0.00/232k [00:00<?, ?B/s]"
            ],
            "application/vnd.jupyter.widget-view+json": {
              "version_major": 2,
              "version_minor": 0,
              "model_id": "7bc7e15e88c94707a9cdef8b47c063d0"
            }
          },
          "metadata": {}
        },
        {
          "output_type": "display_data",
          "data": {
            "text/plain": [
              "tokenizer.json:   0%|          | 0.00/466k [00:00<?, ?B/s]"
            ],
            "application/vnd.jupyter.widget-view+json": {
              "version_major": 2,
              "version_minor": 0,
              "model_id": "685d69f8c8894f9582bc3e3106c1a54c"
            }
          },
          "metadata": {}
        },
        {
          "output_type": "display_data",
          "data": {
            "text/plain": [
              "config.json:   0%|          | 0.00/571 [00:00<?, ?B/s]"
            ],
            "application/vnd.jupyter.widget-view+json": {
              "version_major": 2,
              "version_minor": 0,
              "model_id": "4e36bb1c773f4cf0a43ab4d3b865f334"
            }
          },
          "metadata": {}
        }
      ]
    },
    {
      "cell_type": "code",
      "source": [
        "modelLV2Original = BertForSequenceClassification.from_pretrained('bert-large-uncased', num_labels=2)"
      ],
      "metadata": {
        "colab": {
          "base_uri": "https://localhost:8080/",
          "height": 104,
          "referenced_widgets": [
            "0391a3d8b61e465ba7eaf724479d25eb",
            "c4f6096665b845a0ade8470bee7d5a39",
            "bf427f896d0346b9a2fa3f151ebc20a9",
            "bf712bf9501c4b4d8a214ed1e2cce04f",
            "c904669f5d564bd88236a91cd01a705e",
            "3db8f9f1991842639f010352f3dc1a32",
            "da86eff55db9498f9b1db99fb8e9f67a",
            "dc7ba395f71449e6a24783b4626f3082",
            "ba77cfe2090444f0a98dbf45280fe7fd",
            "ba03258867854227a3279ab8a236bc06",
            "c97de9c68b8b489cac7836c0be64f625"
          ]
        },
        "id": "RJ7FfKvxALDA",
        "outputId": "50f6c826-9ca6-48b6-b01d-5d8f6acbfef7"
      },
      "execution_count": null,
      "outputs": [
        {
          "output_type": "display_data",
          "data": {
            "text/plain": [
              "model.safetensors:   0%|          | 0.00/1.34G [00:00<?, ?B/s]"
            ],
            "application/vnd.jupyter.widget-view+json": {
              "version_major": 2,
              "version_minor": 0,
              "model_id": "0391a3d8b61e465ba7eaf724479d25eb"
            }
          },
          "metadata": {}
        },
        {
          "output_type": "stream",
          "name": "stderr",
          "text": [
            "Some weights of BertForSequenceClassification were not initialized from the model checkpoint at bert-large-uncased and are newly initialized: ['classifier.bias', 'classifier.weight']\n",
            "You should probably TRAIN this model on a down-stream task to be able to use it for predictions and inference.\n"
          ]
        }
      ]
    },
    {
      "cell_type": "code",
      "source": [
        "from transformers import TrainingArguments\n",
        "\n",
        "training_args = TrainingArguments(output_dir=\"./results\")\n",
        "print(f\"Default Learning Rate: {training_args.learning_rate}\")\n"
      ],
      "metadata": {
        "colab": {
          "base_uri": "https://localhost:8080/"
        },
        "id": "TLfG_c13EceU",
        "outputId": "8fd0edef-e2bc-4930-ddad-7e341725fd3d"
      },
      "execution_count": null,
      "outputs": [
        {
          "output_type": "stream",
          "name": "stdout",
          "text": [
            "Default Learning Rate: 5e-05\n"
          ]
        }
      ]
    },
    {
      "cell_type": "code",
      "source": [
        "#datasets for train, validation, and test sets\n",
        "train_datasetOriginalV2 = SentenceDataset(train_encodings, train_labels)\n",
        "val_datasetOriginalV2 = SentenceDataset(val_encodings, val_labels)\n",
        "test_datasetOriginalV2 = SentenceDataset(test_encodings, test_labels)"
      ],
      "metadata": {
        "id": "zkHgX1gOGkFr"
      },
      "execution_count": null,
      "outputs": []
    },
    {
      "cell_type": "code",
      "source": [
        "import wandb\n",
        "import numpy as np\n",
        "from transformers import Trainer, TrainingArguments, BertForSequenceClassification, EvalPrediction\n",
        "\n",
        "# Initialize WandB\n",
        "wandb.finish()\n",
        "wandb.init(project=\"Insensitive Lang Detection\", entity=\"Roshna\", name=\"Bert_Large_Original\")\n",
        "\n",
        "# Load BERT-Large model\n",
        "model = BertForSequenceClassification.from_pretrained(\n",
        "    \"bert-large-uncased\",\n",
        "    num_labels=2\n",
        ")\n",
        "\n",
        "# Training Arguments\n",
        "training_args = TrainingArguments(\n",
        "    output_dir=\"./results_bert_large\",\n",
        "    num_train_epochs=3,\n",
        "    per_device_train_batch_size=32,\n",
        "    per_device_eval_batch_size=32,\n",
        "    evaluation_strategy=\"epoch\",\n",
        "    save_strategy=\"epoch\",\n",
        "    logging_dir=\"./logs_bert_large\",\n",
        "    report_to=[\"wandb\"],  # Log with WandB\n",
        "    run_name=\"Bert_Large_Original\",\n",
        ")\n",
        "\n",
        "# Trainer Setup\n",
        "trainer = Trainer(\n",
        "    model=model,\n",
        "    args=training_args,\n",
        "    train_dataset=train_datasetOriginalV2,\n",
        "    eval_dataset=val_datasetOriginalV2,\n",
        "    compute_metrics=compute_metrics,  # Using compute_metrics function\n",
        ")\n",
        "\n",
        "# Train the model\n",
        "trainer.train()\n",
        "\n",
        "# Compute training metrics after training\n",
        "train_results = trainer.predict(train_datasetOriginalV2)\n",
        "predictions = train_results.predictions\n",
        "labels = train_results.label_ids\n",
        "\n",
        "# Compute and log metrics using compute_metrics\n",
        "train_metrics = compute_metrics((predictions, labels))\n",
        "wandb.log({f\"train_{key}\": value for key, value in train_metrics.items()})\n",
        "\n",
        "# Print final training metrics\n",
        "print(\"\\nTraining Metrics\")\n",
        "for key, value in train_metrics.items():\n",
        "    print(f\"{key}: {value:.4f}\")\n",
        "\n",
        "# Compute and log evaluation metrics on the test set\n",
        "test_results = trainer.evaluate(test_datasetOriginalV2, metric_key_prefix=\"test\")\n",
        "wandb.log(test_results)\n",
        "\n",
        "# Print test metrics\n",
        "print(\"\\nTest Set Evaluation\")\n",
        "for key, value in test_results.items():\n",
        "    print(f\"{key}: {value:.4f}\")\n",
        "\n",
        "wandb.finish()\n"
      ],
      "metadata": {
        "colab": {
          "base_uri": "https://localhost:8080/",
          "height": 1000
        },
        "id": "3rIdSC83EsY2",
        "outputId": "69b3bfbb-662b-4d11-ceda-a604767974c2"
      },
      "execution_count": null,
      "outputs": [
        {
          "output_type": "display_data",
          "data": {
            "text/plain": [
              "<IPython.core.display.HTML object>"
            ],
            "text/html": []
          },
          "metadata": {}
        },
        {
          "output_type": "display_data",
          "data": {
            "text/plain": [
              "<IPython.core.display.HTML object>"
            ],
            "text/html": [
              "<br>    <style><br>        .wandb-row {<br>            display: flex;<br>            flex-direction: row;<br>            flex-wrap: wrap;<br>            justify-content: flex-start;<br>            width: 100%;<br>        }<br>        .wandb-col {<br>            display: flex;<br>            flex-direction: column;<br>            flex-basis: 100%;<br>            flex: 1;<br>            padding: 10px;<br>        }<br>    </style><br><div class=\"wandb-row\"><div class=\"wandb-col\"><h3>Run history:</h3><br/><table class=\"wandb\"><tr><td>eval/accuracy</td><td>▁</td></tr><tr><td>eval/f1</td><td>▁</td></tr><tr><td>eval/loss</td><td>▁</td></tr><tr><td>eval/precision</td><td>▁</td></tr><tr><td>eval/recall</td><td>▁</td></tr><tr><td>eval/runtime</td><td>▁</td></tr><tr><td>eval/samples_per_second</td><td>▁</td></tr><tr><td>eval/steps_per_second</td><td>▁</td></tr><tr><td>train/epoch</td><td>▁</td></tr><tr><td>train/global_step</td><td>▁</td></tr></table><br/></div><div class=\"wandb-col\"><h3>Run summary:</h3><br/><table class=\"wandb\"><tr><td>eval/accuracy</td><td>0.57407</td></tr><tr><td>eval/f1</td><td>0</td></tr><tr><td>eval/loss</td><td>0.68244</td></tr><tr><td>eval/precision</td><td>0</td></tr><tr><td>eval/recall</td><td>0</td></tr><tr><td>eval/runtime</td><td>2.0295</td></tr><tr><td>eval/samples_per_second</td><td>53.216</td></tr><tr><td>eval/steps_per_second</td><td>3.449</td></tr><tr><td>train/epoch</td><td>1</td></tr><tr><td>train/global_step</td><td>55</td></tr></table><br/></div></div>"
            ]
          },
          "metadata": {}
        },
        {
          "output_type": "display_data",
          "data": {
            "text/plain": [
              "<IPython.core.display.HTML object>"
            ],
            "text/html": [
              " View run <strong style=\"color:#cdcd00\">Bert_Large_Original</strong> at: <a href='https://wandb.ai/Roshna/Insensitive%20Lang%20Detection/runs/ii1jl630' target=\"_blank\">https://wandb.ai/Roshna/Insensitive%20Lang%20Detection/runs/ii1jl630</a><br> View project at: <a href='https://wandb.ai/Roshna/Insensitive%20Lang%20Detection' target=\"_blank\">https://wandb.ai/Roshna/Insensitive%20Lang%20Detection</a><br>Synced 5 W&B file(s), 0 media file(s), 0 artifact file(s) and 0 other file(s)"
            ]
          },
          "metadata": {}
        },
        {
          "output_type": "display_data",
          "data": {
            "text/plain": [
              "<IPython.core.display.HTML object>"
            ],
            "text/html": [
              "Find logs at: <code>./wandb/run-20250215_005533-ii1jl630/logs</code>"
            ]
          },
          "metadata": {}
        },
        {
          "output_type": "display_data",
          "data": {
            "text/plain": [
              "<IPython.core.display.HTML object>"
            ],
            "text/html": [
              "Tracking run with wandb version 0.19.6"
            ]
          },
          "metadata": {}
        },
        {
          "output_type": "display_data",
          "data": {
            "text/plain": [
              "<IPython.core.display.HTML object>"
            ],
            "text/html": [
              "Run data is saved locally in <code>/content/wandb/run-20250215_005708-kiqxeca4</code>"
            ]
          },
          "metadata": {}
        },
        {
          "output_type": "display_data",
          "data": {
            "text/plain": [
              "<IPython.core.display.HTML object>"
            ],
            "text/html": [
              "Syncing run <strong><a href='https://wandb.ai/Roshna/Insensitive%20Lang%20Detection/runs/kiqxeca4' target=\"_blank\">Bert_Large_Original</a></strong> to <a href='https://wandb.ai/Roshna/Insensitive%20Lang%20Detection' target=\"_blank\">Weights & Biases</a> (<a href='https://wandb.me/developer-guide' target=\"_blank\">docs</a>)<br>"
            ]
          },
          "metadata": {}
        },
        {
          "output_type": "display_data",
          "data": {
            "text/plain": [
              "<IPython.core.display.HTML object>"
            ],
            "text/html": [
              " View project at <a href='https://wandb.ai/Roshna/Insensitive%20Lang%20Detection' target=\"_blank\">https://wandb.ai/Roshna/Insensitive%20Lang%20Detection</a>"
            ]
          },
          "metadata": {}
        },
        {
          "output_type": "display_data",
          "data": {
            "text/plain": [
              "<IPython.core.display.HTML object>"
            ],
            "text/html": [
              " View run at <a href='https://wandb.ai/Roshna/Insensitive%20Lang%20Detection/runs/kiqxeca4' target=\"_blank\">https://wandb.ai/Roshna/Insensitive%20Lang%20Detection/runs/kiqxeca4</a>"
            ]
          },
          "metadata": {}
        },
        {
          "output_type": "stream",
          "name": "stderr",
          "text": [
            "Some weights of BertForSequenceClassification were not initialized from the model checkpoint at bert-large-uncased and are newly initialized: ['classifier.bias', 'classifier.weight']\n",
            "You should probably TRAIN this model on a down-stream task to be able to use it for predictions and inference.\n",
            "/usr/local/lib/python3.11/dist-packages/transformers/training_args.py:1575: FutureWarning: `evaluation_strategy` is deprecated and will be removed in version 4.46 of 🤗 Transformers. Use `eval_strategy` instead\n",
            "  warnings.warn(\n",
            "<ipython-input-5-181cf056d201>:14: UserWarning: To copy construct from a tensor, it is recommended to use sourceTensor.clone().detach() or sourceTensor.clone().detach().requires_grad_(True), rather than torch.tensor(sourceTensor).\n",
            "  item = {key: torch.tensor(val[idx]) for key, val in self.encodings.items()}\n"
          ]
        },
        {
          "output_type": "display_data",
          "data": {
            "text/plain": [
              "<IPython.core.display.HTML object>"
            ],
            "text/html": [
              "\n",
              "    <div>\n",
              "      \n",
              "      <progress value='84' max='84' style='width:300px; height:20px; vertical-align: middle;'></progress>\n",
              "      [84/84 04:27, Epoch 3/3]\n",
              "    </div>\n",
              "    <table border=\"1\" class=\"dataframe\">\n",
              "  <thead>\n",
              " <tr style=\"text-align: left;\">\n",
              "      <th>Epoch</th>\n",
              "      <th>Training Loss</th>\n",
              "      <th>Validation Loss</th>\n",
              "      <th>Accuracy</th>\n",
              "      <th>Precision</th>\n",
              "      <th>Recall</th>\n",
              "      <th>F1</th>\n",
              "    </tr>\n",
              "  </thead>\n",
              "  <tbody>\n",
              "    <tr>\n",
              "      <td>1</td>\n",
              "      <td>No log</td>\n",
              "      <td>0.231288</td>\n",
              "      <td>0.916667</td>\n",
              "      <td>0.951220</td>\n",
              "      <td>0.847826</td>\n",
              "      <td>0.896552</td>\n",
              "    </tr>\n",
              "    <tr>\n",
              "      <td>2</td>\n",
              "      <td>No log</td>\n",
              "      <td>0.157639</td>\n",
              "      <td>0.953704</td>\n",
              "      <td>0.955556</td>\n",
              "      <td>0.934783</td>\n",
              "      <td>0.945055</td>\n",
              "    </tr>\n",
              "    <tr>\n",
              "      <td>3</td>\n",
              "      <td>No log</td>\n",
              "      <td>0.179211</td>\n",
              "      <td>0.953704</td>\n",
              "      <td>0.955556</td>\n",
              "      <td>0.934783</td>\n",
              "      <td>0.945055</td>\n",
              "    </tr>\n",
              "  </tbody>\n",
              "</table><p>"
            ]
          },
          "metadata": {}
        },
        {
          "output_type": "stream",
          "name": "stderr",
          "text": [
            "<ipython-input-5-181cf056d201>:14: UserWarning: To copy construct from a tensor, it is recommended to use sourceTensor.clone().detach() or sourceTensor.clone().detach().requires_grad_(True), rather than torch.tensor(sourceTensor).\n",
            "  item = {key: torch.tensor(val[idx]) for key, val in self.encodings.items()}\n",
            "<ipython-input-5-181cf056d201>:14: UserWarning: To copy construct from a tensor, it is recommended to use sourceTensor.clone().detach() or sourceTensor.clone().detach().requires_grad_(True), rather than torch.tensor(sourceTensor).\n",
            "  item = {key: torch.tensor(val[idx]) for key, val in self.encodings.items()}\n",
            "<ipython-input-5-181cf056d201>:14: UserWarning: To copy construct from a tensor, it is recommended to use sourceTensor.clone().detach() or sourceTensor.clone().detach().requires_grad_(True), rather than torch.tensor(sourceTensor).\n",
            "  item = {key: torch.tensor(val[idx]) for key, val in self.encodings.items()}\n",
            "<ipython-input-5-181cf056d201>:14: UserWarning: To copy construct from a tensor, it is recommended to use sourceTensor.clone().detach() or sourceTensor.clone().detach().requires_grad_(True), rather than torch.tensor(sourceTensor).\n",
            "  item = {key: torch.tensor(val[idx]) for key, val in self.encodings.items()}\n"
          ]
        },
        {
          "output_type": "display_data",
          "data": {
            "text/plain": [
              "<IPython.core.display.HTML object>"
            ],
            "text/html": []
          },
          "metadata": {}
        },
        {
          "output_type": "stream",
          "name": "stdout",
          "text": [
            "\n",
            "Training Metrics\n",
            "accuracy: 0.9792\n",
            "precision: 0.9916\n",
            "recall: 0.9593\n",
            "f1: 0.9752\n"
          ]
        },
        {
          "output_type": "stream",
          "name": "stderr",
          "text": [
            "<ipython-input-5-181cf056d201>:14: UserWarning: To copy construct from a tensor, it is recommended to use sourceTensor.clone().detach() or sourceTensor.clone().detach().requires_grad_(True), rather than torch.tensor(sourceTensor).\n",
            "  item = {key: torch.tensor(val[idx]) for key, val in self.encodings.items()}\n"
          ]
        },
        {
          "output_type": "display_data",
          "data": {
            "text/plain": [
              "<IPython.core.display.HTML object>"
            ],
            "text/html": [
              "\n",
              "    <div>\n",
              "      \n",
              "      <progress value='4' max='4' style='width:300px; height:20px; vertical-align: middle;'></progress>\n",
              "      [4/4 00:01]\n",
              "    </div>\n",
              "    "
            ]
          },
          "metadata": {}
        },
        {
          "output_type": "stream",
          "name": "stdout",
          "text": [
            "\n",
            "Test Set Evaluation\n",
            "test_loss: 0.2625\n",
            "test_accuracy: 0.9174\n",
            "test_precision: 1.0000\n",
            "test_recall: 0.8043\n",
            "test_f1: 0.8916\n",
            "test_runtime: 1.6712\n",
            "test_samples_per_second: 65.2240\n",
            "test_steps_per_second: 2.3940\n",
            "epoch: 3.0000\n"
          ]
        },
        {
          "output_type": "display_data",
          "data": {
            "text/plain": [
              "<IPython.core.display.HTML object>"
            ],
            "text/html": []
          },
          "metadata": {}
        },
        {
          "output_type": "display_data",
          "data": {
            "text/plain": [
              "<IPython.core.display.HTML object>"
            ],
            "text/html": [
              "<br>    <style><br>        .wandb-row {<br>            display: flex;<br>            flex-direction: row;<br>            flex-wrap: wrap;<br>            justify-content: flex-start;<br>            width: 100%;<br>        }<br>        .wandb-col {<br>            display: flex;<br>            flex-direction: column;<br>            flex-basis: 100%;<br>            flex: 1;<br>            padding: 10px;<br>        }<br>    </style><br><div class=\"wandb-row\"><div class=\"wandb-col\"><h3>Run history:</h3><br/><table class=\"wandb\"><tr><td>epoch</td><td>▁</td></tr><tr><td>eval/accuracy</td><td>▁██</td></tr><tr><td>eval/f1</td><td>▁██</td></tr><tr><td>eval/loss</td><td>█▁▃</td></tr><tr><td>eval/precision</td><td>▁██</td></tr><tr><td>eval/recall</td><td>▁██</td></tr><tr><td>eval/runtime</td><td>▃█▁</td></tr><tr><td>eval/samples_per_second</td><td>▆▁█</td></tr><tr><td>eval/steps_per_second</td><td>▆▁█</td></tr><tr><td>test/accuracy</td><td>█▁</td></tr><tr><td>test/f1</td><td>█▁</td></tr><tr><td>test/loss</td><td>▁█</td></tr><tr><td>test/precision</td><td>▁█</td></tr><tr><td>test/recall</td><td>█▁</td></tr><tr><td>test/runtime</td><td>█▁</td></tr><tr><td>test/samples_per_second</td><td>▁█</td></tr><tr><td>test/steps_per_second</td><td>▁█</td></tr><tr><td>test_accuracy</td><td>▁</td></tr><tr><td>test_f1</td><td>▁</td></tr><tr><td>test_loss</td><td>▁</td></tr><tr><td>test_precision</td><td>▁</td></tr><tr><td>test_recall</td><td>▁</td></tr><tr><td>test_runtime</td><td>▁</td></tr><tr><td>test_samples_per_second</td><td>▁</td></tr><tr><td>test_steps_per_second</td><td>▁</td></tr><tr><td>train/epoch</td><td>▁▅███</td></tr><tr><td>train/global_step</td><td>▁▅██████</td></tr><tr><td>train_accuracy</td><td>▁</td></tr><tr><td>train_f1</td><td>▁</td></tr><tr><td>train_precision</td><td>▁</td></tr><tr><td>train_recall</td><td>▁</td></tr></table><br/></div><div class=\"wandb-col\"><h3>Run summary:</h3><br/><table class=\"wandb\"><tr><td>epoch</td><td>3</td></tr><tr><td>eval/accuracy</td><td>0.9537</td></tr><tr><td>eval/f1</td><td>0.94505</td></tr><tr><td>eval/loss</td><td>0.17921</td></tr><tr><td>eval/precision</td><td>0.95556</td></tr><tr><td>eval/recall</td><td>0.93478</td></tr><tr><td>eval/runtime</td><td>1.8724</td></tr><tr><td>eval/samples_per_second</td><td>57.681</td></tr><tr><td>eval/steps_per_second</td><td>2.136</td></tr><tr><td>test/accuracy</td><td>0.91743</td></tr><tr><td>test/f1</td><td>0.89157</td></tr><tr><td>test/loss</td><td>0.26247</td></tr><tr><td>test/precision</td><td>1</td></tr><tr><td>test/recall</td><td>0.80435</td></tr><tr><td>test/runtime</td><td>1.6712</td></tr><tr><td>test/samples_per_second</td><td>65.224</td></tr><tr><td>test/steps_per_second</td><td>2.394</td></tr><tr><td>test_accuracy</td><td>0.91743</td></tr><tr><td>test_f1</td><td>0.89157</td></tr><tr><td>test_loss</td><td>0.26247</td></tr><tr><td>test_precision</td><td>1</td></tr><tr><td>test_recall</td><td>0.80435</td></tr><tr><td>test_runtime</td><td>1.6712</td></tr><tr><td>test_samples_per_second</td><td>65.224</td></tr><tr><td>test_steps_per_second</td><td>2.394</td></tr><tr><td>total_flos</td><td>516036970479996.0</td></tr><tr><td>train/epoch</td><td>3</td></tr><tr><td>train/global_step</td><td>84</td></tr><tr><td>train_accuracy</td><td>0.97924</td></tr><tr><td>train_f1</td><td>0.97521</td></tr><tr><td>train_loss</td><td>0.29991</td></tr><tr><td>train_precision</td><td>0.9916</td></tr><tr><td>train_recall</td><td>0.95935</td></tr><tr><td>train_runtime</td><td>269.5761</td></tr><tr><td>train_samples_per_second</td><td>9.648</td></tr><tr><td>train_steps_per_second</td><td>0.312</td></tr></table><br/></div></div>"
            ]
          },
          "metadata": {}
        },
        {
          "output_type": "display_data",
          "data": {
            "text/plain": [
              "<IPython.core.display.HTML object>"
            ],
            "text/html": [
              " View run <strong style=\"color:#cdcd00\">Bert_Large_Original</strong> at: <a href='https://wandb.ai/Roshna/Insensitive%20Lang%20Detection/runs/kiqxeca4' target=\"_blank\">https://wandb.ai/Roshna/Insensitive%20Lang%20Detection/runs/kiqxeca4</a><br> View project at: <a href='https://wandb.ai/Roshna/Insensitive%20Lang%20Detection' target=\"_blank\">https://wandb.ai/Roshna/Insensitive%20Lang%20Detection</a><br>Synced 5 W&B file(s), 0 media file(s), 0 artifact file(s) and 0 other file(s)"
            ]
          },
          "metadata": {}
        },
        {
          "output_type": "display_data",
          "data": {
            "text/plain": [
              "<IPython.core.display.HTML object>"
            ],
            "text/html": [
              "Find logs at: <code>./wandb/run-20250215_005708-kiqxeca4/logs</code>"
            ]
          },
          "metadata": {}
        }
      ]
    },
    {
      "cell_type": "markdown",
      "source": [
        "# Logisic Regression"
      ],
      "metadata": {
        "id": "KDBMLZS8cgu5"
      }
    },
    {
      "cell_type": "code",
      "source": [
        "import pandas as pd\n",
        "import numpy as np\n",
        "from sklearn.feature_extraction.text import TfidfVectorizer\n",
        "from sklearn.linear_model import LogisticRegression\n",
        "from sklearn.model_selection import cross_val_score\n",
        "train_df = pd.read_csv(\"/content/drive/MyDrive/Honours MiscData(Roshna)/train_dataOriginal.csv\")\n",
        "val_df = pd.read_csv(\"/content/drive/MyDrive/Honours MiscData(Roshna)/val_dataOriginal.csv\")\n",
        "test_df = pd.read_csv(\"/content/drive/MyDrive/Honours MiscData(Roshna)/test_dataOriginal.csv\")\n",
        "\n",
        "X_train = train_df['Sentence'].tolist()\n",
        "y_train = train_df['Manual_Annotation'].tolist()\n",
        "\n",
        "X_val = val_df['Sentence'].tolist()\n",
        "y_val = val_df['Manual_Annotation'].tolist()\n",
        "\n",
        "X_test = test_df['Sentence'].tolist()\n",
        "y_test = test_df['Manual_Annotation'].tolist()\n",
        "\n",
        "vectorizer = TfidfVectorizer(max_features=5000, ngram_range=(1, 2))\n",
        "X_train_tfidf = vectorizer.fit_transform(X_train)\n",
        "X_val_tfidf = vectorizer.transform(X_val)\n",
        "X_test_tfidf = vectorizer.transform(X_test)\n",
        "\n",
        "logistic_reg_model = LogisticRegression(max_iter=500, C=1.0)\n",
        "\n",
        "# 5-Fold Cross-Validation**\n",
        "cv_scores = cross_val_score(logistic_reg_model, X_train_tfidf, y_train, cv=5, scoring=\"accuracy\")\n",
        "\n",
        "print(\"Cross-Validation Accuracy Scores:\", cv_scores)\n",
        "print(\"Mean Cross-Validation Accuracy:\", np.mean(cv_scores))\n"
      ],
      "metadata": {
        "colab": {
          "base_uri": "https://localhost:8080/"
        },
        "id": "coqUH-oKcsme",
        "outputId": "54cbead2-06e6-4720-edac-fbf0499c8599"
      },
      "execution_count": null,
      "outputs": [
        {
          "output_type": "stream",
          "name": "stdout",
          "text": [
            "Cross-Validation Accuracy Scores: [0.89655172 0.93103448 0.89017341 0.89017341 0.87861272]\n",
            "Mean Cross-Validation Accuracy: 0.8973091488937612\n"
          ]
        }
      ]
    },
    {
      "source": [
        "import pandas as pd\n",
        "import numpy as np\n",
        "from sklearn.feature_extraction.text import TfidfVectorizer\n",
        "from sklearn.linear_model import LogisticRegression\n",
        "from sklearn.metrics import classification_report, confusion_matrix, accuracy_score, precision_score, recall_score, f1_score\n",
        "\n",
        "# Load datasets\n",
        "train_df = pd.read_csv(\"/content/drive/MyDrive/Honours MiscData(Roshna)/train_dataOriginal.csv\")\n",
        "val_df = pd.read_csv(\"/content/drive/MyDrive/Honours MiscData(Roshna)/val_dataOriginal.csv\")\n",
        "test_df = pd.read_csv(\"/content/drive/MyDrive/Honours MiscData(Roshna)/test_dataOriginal.csv\")\n",
        "\n",
        "# Extract text and labels\n",
        "X_train, y_train = train_df['Sentence'], train_df['Manual_Annotation']\n",
        "X_val, y_val = val_df['Sentence'], val_df['Manual_Annotation']\n",
        "X_test, y_test = test_df['Sentence'], test_df['Manual_Annotation']\n",
        "\n",
        "# TF-IDF Vectorization\n",
        "vectorizer = TfidfVectorizer(max_features=5000, ngram_range=(1, 2))\n",
        "X_train_tfidf = vectorizer.fit_transform(X_train)\n",
        "X_val_tfidf = vectorizer.transform(X_val)\n",
        "X_test_tfidf = vectorizer.transform(X_test)\n",
        "\n",
        "# Train Logistic Regression Model\n",
        "logistic_reg_model = LogisticRegression(max_iter=500, C=1.0)\n",
        "logistic_reg_model.fit(X_train_tfidf, y_train)\n",
        "\n",
        "def evaluate_model(model, X, y, dataset_name, dataset_df=None, show_conf_matrix=False):\n",
        "    \"\"\"Evaluates the model and prints precision, recall, F1-score, and accuracy.\"\"\"\n",
        "\n",
        "    predictions = model.predict(X)\n",
        "\n",
        "    accuracy = accuracy_score(y, predictions)\n",
        "    precision = precision_score(y, predictions)\n",
        "    recall = recall_score(y, predictions)\n",
        "    f1 = f1_score(y, predictions)\n",
        "\n",
        "    # Print results\n",
        "    print(f\"\\n{dataset_name} Set Evaluation\")\n",
        "    print(f\"Accuracy: {accuracy:.4f}\")\n",
        "    print(f\"Precision: {precision:.4f}\")\n",
        "    print(f\"Recall: {recall:.4f}\")\n",
        "    print(f\"F1 Score: {f1:.4f}\")\n",
        "\n",
        "    # Confusion Matrix & Misclassified Examples (Only for test set)\n",
        "    if show_conf_matrix and dataset_df is not None:\n",
        "        conf_matrix = confusion_matrix(y, predictions)\n",
        "        print(\"\\nConfusion Matrix - Test Set:\")\n",
        "        print(pd.DataFrame(conf_matrix,\n",
        "                           columns=[\"Predicted NotInsensitive\", \"Predicted Insensitive\"],\n",
        "                           index=[\"Actual NotInsensitive\", \"Actual Insensitive\"]))\n",
        "\n",
        "        # Convert Pandas Series to NumPy for proper filtering\n",
        "        y_np = y.values\n",
        "        misclassified_df = dataset_df[y_np != predictions]\n",
        "\n",
        "        print(\"\\nMisclassified Examples:\")\n",
        "        print(misclassified_df[['Sentence', 'Manual_Annotation']])\n",
        "\n",
        "# Evaluate on Train, Validation, and Test sets\n",
        "evaluate_model(logistic_reg_model, X_train_tfidf, y_train, \"Train\")\n",
        "evaluate_model(logistic_reg_model, X_val_tfidf, y_val, \"Validation\")\n",
        "evaluate_model(logistic_reg_model, X_test_tfidf, y_test, \"Test\", dataset_df=test_df, show_conf_matrix=True)\n"
      ],
      "cell_type": "code",
      "metadata": {
        "colab": {
          "base_uri": "https://localhost:8080/"
        },
        "id": "fC2NcR8IYtDx",
        "outputId": "6dce0387-d295-472e-f1c0-eb222cc7ba3c"
      },
      "execution_count": null,
      "outputs": [
        {
          "output_type": "stream",
          "name": "stdout",
          "text": [
            "\n",
            "Train Set Evaluation\n",
            "Accuracy: 0.9619\n",
            "Precision: 0.9941\n",
            "Recall: 0.9160\n",
            "F1 Score: 0.9535\n",
            "\n",
            "Validation Set Evaluation\n",
            "Accuracy: 0.9259\n",
            "Precision: 1.0000\n",
            "Recall: 0.8261\n",
            "F1 Score: 0.9048\n",
            "\n",
            "Test Set Evaluation\n",
            "Accuracy: 0.8899\n",
            "Precision: 1.0000\n",
            "Recall: 0.7391\n",
            "F1 Score: 0.8500\n",
            "\n",
            "Confusion Matrix - Test Set:\n",
            "                       Predicted NotInsensitive  Predicted Insensitive\n",
            "Actual NotInsensitive                        63                      0\n",
            "Actual Insensitive                           12                     34\n",
            "\n",
            "Misclassified Examples:\n",
            "                                              Sentence  Manual_Annotation\n",
            "6    Our research contributes empirical evidence de...                  1\n",
            "7    In previous work we have presented a prototype...                  1\n",
            "11   Story Blocks provides an introductory programm...                  1\n",
            "23   We also report the results of an experiment th...                  1\n",
            "27   Ongoing investigation of the ways in which som...                  1\n",
            "36   The difference in ability to recognize intende...                  1\n",
            "62   The result demonstrated that only in the label...                  1\n",
            "89   In this paper, we describe why designers need ...                  1\n",
            "101  In our system, besides the user’s speech, the ...                  1\n",
            "103  The improvements in word clarity observed over...                  1\n",
            "106  Children with autism spectrum disorder and oth...                  1\n",
            "107  We conducted an experiment to determine the ab...                  1\n"
          ]
        }
      ]
    },
    {
      "cell_type": "code",
      "source": [
        "import joblib\n",
        "model_filename = \"/content/drive/MyDrive/Honours MiscData(Roshna)/Orilogistic_regression_model.pkl\"\n",
        "vectorizer_filename = \"/content/drive/MyDrive/Honours MiscData(Roshna)/Oritfidf_vectorizer.pkl\"\n",
        "\n",
        "joblib.dump(logistic_reg_model, model_filename)\n",
        "joblib.dump(vectorizer, vectorizer_filename)"
      ],
      "metadata": {
        "colab": {
          "base_uri": "https://localhost:8080/"
        },
        "id": "eYOcvrqgdyTw",
        "outputId": "3be3a31a-eea3-4b61-fdec-51bfa56c2f41"
      },
      "execution_count": null,
      "outputs": [
        {
          "output_type": "execute_result",
          "data": {
            "text/plain": [
              "['/content/drive/MyDrive/Honours MiscData(Roshna)/Oritfidf_vectorizer.pkl']"
            ]
          },
          "metadata": {},
          "execution_count": 7
        }
      ]
    },
    {
      "cell_type": "code",
      "source": [
        "from sklearn.model_selection import learning_curve\n",
        "import matplotlib.pyplot as plt\n",
        "import numpy as np\n",
        "\n",
        "def plot_learning_curve(estimator, X, y, cv=5, scoring=\"neg_log_loss\"):\n",
        "    train_sizes, train_scores, test_scores = learning_curve(\n",
        "        estimator, X, y, cv=cv, scoring=scoring, n_jobs=-1, train_sizes=np.linspace(0.1, 1.0, 10)\n",
        "    )\n",
        "\n",
        "    # Convert negative log loss back to positive\n",
        "    train_scores_mean = -np.mean(train_scores, axis=1)\n",
        "    train_scores_std = np.std(train_scores, axis=1)\n",
        "    test_scores_mean = -np.mean(test_scores, axis=1)\n",
        "    test_scores_std = np.std(test_scores, axis=1)\n",
        "\n",
        "    plt.figure(figsize=(10, 6))\n",
        "    plt.plot(train_sizes, train_scores_mean, label=\"Training Loss\", marker='o')\n",
        "    plt.fill_between(\n",
        "        train_sizes,\n",
        "        train_scores_mean - train_scores_std,\n",
        "        train_scores_mean + train_scores_std,\n",
        "        alpha=0.1,\n",
        "    )\n",
        "    plt.plot(train_sizes, test_scores_mean, label=\"Cross-Validation Loss\", marker='o')\n",
        "    plt.fill_between(\n",
        "        train_sizes,\n",
        "        test_scores_mean - test_scores_std,\n",
        "        test_scores_mean + test_scores_std,\n",
        "        alpha=0.1,\n",
        "    )\n",
        "    plt.title(\"Learning Curve (Log Loss)\")\n",
        "    plt.xlabel(\"Training Set Size\")\n",
        "    plt.ylabel(\"Log Loss\")\n",
        "    plt.legend(loc=\"best\")\n",
        "    plt.grid()\n",
        "\n",
        "# Use log loss instead of accuracy\n",
        "plot_learning_curve(\n",
        "    logistic_reg_model,\n",
        "    X_train_tfidf,\n",
        "    y_train,\n",
        "    cv=5,\n",
        "    scoring=\"neg_log_loss\"\n",
        ")\n",
        "plt.savefig(\"Logistic_learning_curve_log_loss.png\")\n",
        "plt.show()\n"
      ],
      "metadata": {
        "colab": {
          "base_uri": "https://localhost:8080/",
          "height": 564
        },
        "id": "UoX00JURd97s",
        "outputId": "be64faff-69f9-4517-e832-cc9afc32be94"
      },
      "execution_count": null,
      "outputs": [
        {
          "output_type": "display_data",
          "data": {
            "text/plain": [
              "<Figure size 1000x600 with 1 Axes>"
            ],
            "image/png": "[encoded data removed]"
          },
          "metadata": {}
        }
      ]
    },
    {
      "cell_type": "code",
      "source": [
        "import pandas as pd\n",
        "import joblib\n",
        "from sklearn.metrics import accuracy_score, precision_score, recall_score, f1_score, confusion_matrix\n",
        "\n",
        "# File Paths\n",
        "model_filename = \"/content/drive/MyDrive/Honours MiscData(Roshna)/Orilogistic_regression_model.pkl\"\n",
        "vectorizer_filename = \"/content/drive/MyDrive/Honours MiscData(Roshna)/Oritfidf_vectorizer.pkl\"\n",
        "new_test_data_path = \"/content/drive/MyDrive/Honours MiscData(Roshna)/AugTest_dataV2.csv\"\n",
        "\n",
        "# Load Saved Model & Vectorizer\n",
        "logistic_reg_model = joblib.load(model_filename)\n",
        "vectorizer = joblib.load(vectorizer_filename)\n",
        "\n",
        "# Load New Test Dataset\n",
        "new_test_df = pd.read_csv(new_test_data_path)\n",
        "\n",
        "# Extract Sentences and Labels\n",
        "X_new_test, y_new_test = new_test_df['Sentence'], new_test_df['Label']\n",
        "\n",
        "# Transform Using the Same TF-IDF Vectorizer\n",
        "X_new_test_tfidf = vectorizer.transform(X_new_test)\n",
        "\n",
        "# Function to Evaluate Model & Print Correct Metrics\n",
        "def evaluate_model(model, X, y, dataset_name, dataset_df=None, show_conf_matrix=False):\n",
        "    \"\"\"Evaluates the model and prints precision, recall, F1-score, and accuracy.\"\"\"\n",
        "\n",
        "    predictions = model.predict(X)\n",
        "\n",
        "    # Compute Metrics\n",
        "    accuracy = accuracy_score(y, predictions)\n",
        "    precision = precision_score(y, predictions)\n",
        "    recall = recall_score(y, predictions)\n",
        "    f1 = f1_score(y, predictions)\n",
        "\n",
        "    # Print Results\n",
        "    print(f\"\\n{dataset_name} Set Evaluation\")\n",
        "    print(f\"Accuracy: {accuracy:.4f}\")\n",
        "    print(f\"Precision: {precision:.4f}\")\n",
        "    print(f\"Recall: {recall:.4f}\")\n",
        "    print(f\"F1 Score: {f1:.4f}\")\n",
        "\n",
        "    # Confusion Matrix & Misclassified Examples\n",
        "    if show_conf_matrix and dataset_df is not None:\n",
        "        conf_matrix = confusion_matrix(y, predictions)\n",
        "        print(\"\\nConfusion Matrix:\")\n",
        "        print(pd.DataFrame(conf_matrix,\n",
        "                           columns=[\"Predicted NotInsensitive\", \"Predicted Insensitive\"],\n",
        "                           index=[\"Actual NotInsensitive\", \"Actual Insensitive\"]))\n",
        "\n",
        "        # Get Misclassified Examples\n",
        "        misclassified_df = dataset_df[y != predictions]\n",
        "\n",
        "        print(\"\\nMisclassified Examples:\")\n",
        "        print(misclassified_df[['Sentence', 'Label']])\n",
        "\n",
        "# Evaluate the New Test Set\n",
        "evaluate_model(logistic_reg_model, X_new_test_tfidf, y_new_test, \"New Test\", dataset_df=new_test_df, show_conf_matrix=True)\n"
      ],
      "metadata": {
        "colab": {
          "base_uri": "https://localhost:8080/"
        },
        "id": "Vqw7-bZAn2rH",
        "outputId": "1d7de065-25bc-48b7-dd83-c212675f89c4"
      },
      "execution_count": null,
      "outputs": [
        {
          "output_type": "stream",
          "name": "stdout",
          "text": [
            "\n",
            "New Test Set Evaluation\n",
            "Accuracy: 0.5814\n",
            "Precision: 0.7931\n",
            "Recall: 0.2150\n",
            "F1 Score: 0.3382\n",
            "\n",
            "Confusion Matrix:\n",
            "                       Predicted NotInsensitive  Predicted Insensitive\n",
            "Actual NotInsensitive                       102                      6\n",
            "Actual Insensitive                           84                     23\n",
            "\n",
            "Misclassified Examples:\n",
            "                                              Sentence  Label\n",
            "1    \"The app includes features to address the spec...      1\n",
            "2    Preliminary results of 5 healthy college stude...      1\n",
            "5    \"Our app provides visual schedules to support ...      1\n",
            "8    \"'Visually impaired' reflects a time when the ...      0\n",
            "9    \"The term 'able-bodied' is gradually being rep...      0\n",
            "..                                                 ...    ...\n",
            "200  \"Programs for persons with disabilities should...      1\n",
            "204  \"Our findings show that chair-bound individual...      1\n",
            "205  \"The curriculum features simple topics for par...      1\n",
            "206  \"Wheelchair users reported slower task complet...      1\n",
            "213  \"Assistive devices have been shown to improve ...      1\n",
            "\n",
            "[90 rows x 2 columns]\n"
          ]
        }
      ]
    },
    {
      "cell_type": "code",
      "source": [
        "import numpy as np\n",
        "import matplotlib.pyplot as plt\n",
        "import seaborn as sns\n",
        "\n",
        "# Define the confusion matrix\n",
        "conf_matrix = np.array([[105, 3],\n",
        "                        [0, 107]])\n",
        "\n",
        "# Define class labels\n",
        "labels = [\"Not Insensitive\", \"Insensitive\"]\n",
        "\n",
        "# Create the heatmap\n",
        "plt.figure(figsize=(4, 4))\n",
        "sns.heatmap(conf_matrix, annot=True, fmt=\"d\", cmap=\"Blues\", xticklabels=[\"NotInsensitive\", \"Insensitive\"], yticklabels=[\"NotInsensitive\", \"Insensitive\"])\n",
        "\n",
        "# Add labels and title\n",
        "plt.xlabel(\"Predicted Label\")\n",
        "plt.ylabel(\"Actual Label\")\n",
        "plt.savefig(\"Augmatrix.png\")\n",
        "# Show the plot\n",
        "plt.show()\n"
      ],
      "metadata": {
        "colab": {
          "base_uri": "https://localhost:8080/",
          "height": 388
        },
        "id": "aWIVkVjTA3J2",
        "outputId": "1c332034-21d6-4b01-b3f4-ab00cfd97a68"
      },
      "execution_count": null,
      "outputs": [
        {
          "output_type": "display_data",
          "data": {
            "text/plain": [
              "<Figure size 400x400 with 2 Axes>"
            ],
            "image/png": "[encoded data removed]"
          },
          "metadata": {}
        }
      ]
    }
  ]
}