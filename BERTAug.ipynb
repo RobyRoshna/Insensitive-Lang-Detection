{
  "nbformat": 4,
  "nbformat_minor": 0,
  "metadata": {
    "colab": {
      "provenance": [],
      "gpuType": "T4",
      "collapsed_sections": [
        "3wScHc58Mof0",
        "rzYxdJTTM-EU",
        "wFNkEIUiGFis"
      ],
      "mount_file_id": "1CFxfbLc93BeDhM-EkgOpxlb_MgxUnL9Z",
      "authorship_tag": "ABX9TyNJY59nvZrpRk9+bAsG6i3g",
      "include_colab_link": true
    },
    "kernelspec": {
      "name": "python3",
      "display_name": "Python 3"
    },
    "language_info": {
      "name": "python"
    },
    "accelerator": "GPU"
  },
  "cells": [
    {
      "cell_type": "markdown",
      "metadata": {
        "id": "view-in-github",
        "colab_type": "text"
      },
      "source": [
        "<a href=\"https://colab.research.google.com/github/RobyRoshna/Insensitive-Lang-Detection/blob/Training/BERTAug.ipynb\" target=\"_parent\"><img src=\"https://colab.research.google.com/assets/colab-badge.svg\" alt=\"Open In Colab\"/></a>"
      ]
    },
    {
      "cell_type": "markdown",
      "source": [
        "# Imports and custom info"
      ],
      "metadata": {
        "id": "3wScHc58Mof0"
      }
    },
    {
      "cell_type": "code",
      "execution_count": null,
      "metadata": {
        "colab": {
          "base_uri": "https://localhost:8080/"
        },
        "id": "yTUcjA8q4Ucn",
        "outputId": "34481259-04c9-48be-e577-c2bef5c34eaa"
      },
      "outputs": [
        {
          "output_type": "stream",
          "name": "stdout",
          "text": [
            "Collecting optuna\n",
            "  Downloading optuna-4.2.1-py3-none-any.whl.metadata (17 kB)\n",
            "Collecting alembic>=1.5.0 (from optuna)\n",
            "  Downloading alembic-1.14.1-py3-none-any.whl.metadata (7.4 kB)\n",
            "Collecting colorlog (from optuna)\n",
            "  Downloading colorlog-6.9.0-py3-none-any.whl.metadata (10 kB)\n",
            "Requirement already satisfied: numpy in /usr/local/lib/python3.11/dist-packages (from optuna) (1.26.4)\n",
            "Requirement already satisfied: packaging>=20.0 in /usr/local/lib/python3.11/dist-packages (from optuna) (24.2)\n",
            "Requirement already satisfied: sqlalchemy>=1.4.2 in /usr/local/lib/python3.11/dist-packages (from optuna) (2.0.38)\n",
            "Requirement already satisfied: tqdm in /usr/local/lib/python3.11/dist-packages (from optuna) (4.67.1)\n",
            "Requirement already satisfied: PyYAML in /usr/local/lib/python3.11/dist-packages (from optuna) (6.0.2)\n",
            "Collecting Mako (from alembic>=1.5.0->optuna)\n",
            "  Downloading Mako-1.3.9-py3-none-any.whl.metadata (2.9 kB)\n",
            "Requirement already satisfied: typing-extensions>=4 in /usr/local/lib/python3.11/dist-packages (from alembic>=1.5.0->optuna) (4.12.2)\n",
            "Requirement already satisfied: greenlet!=0.4.17 in /usr/local/lib/python3.11/dist-packages (from sqlalchemy>=1.4.2->optuna) (3.1.1)\n",
            "Requirement already satisfied: MarkupSafe>=0.9.2 in /usr/local/lib/python3.11/dist-packages (from Mako->alembic>=1.5.0->optuna) (3.0.2)\n",
            "Downloading optuna-4.2.1-py3-none-any.whl (383 kB)\n",
            "\u001b[2K   \u001b[90m━━━━━━━━━━━━━━━━━━━━━━━━━━━━━━━━━━━━━━━━\u001b[0m \u001b[32m383.6/383.6 kB\u001b[0m \u001b[31m12.9 MB/s\u001b[0m eta \u001b[36m0:00:00\u001b[0m\n",
            "\u001b[?25hDownloading alembic-1.14.1-py3-none-any.whl (233 kB)\n",
            "\u001b[2K   \u001b[90m━━━━━━━━━━━━━━━━━━━━━━━━━━━━━━━━━━━━━━━━\u001b[0m \u001b[32m233.6/233.6 kB\u001b[0m \u001b[31m15.2 MB/s\u001b[0m eta \u001b[36m0:00:00\u001b[0m\n",
            "\u001b[?25hDownloading colorlog-6.9.0-py3-none-any.whl (11 kB)\n",
            "Downloading Mako-1.3.9-py3-none-any.whl (78 kB)\n",
            "\u001b[2K   \u001b[90m━━━━━━━━━━━━━━━━━━━━━━━━━━━━━━━━━━━━━━━━\u001b[0m \u001b[32m78.5/78.5 kB\u001b[0m \u001b[31m7.4 MB/s\u001b[0m eta \u001b[36m0:00:00\u001b[0m\n",
            "\u001b[?25hInstalling collected packages: Mako, colorlog, alembic, optuna\n",
            "Successfully installed Mako-1.3.9 alembic-1.14.1 colorlog-6.9.0 optuna-4.2.1\n"
          ]
        }
      ],
      "source": [
        "import pandas as pd\n",
        "from sklearn.model_selection import train_test_split\n",
        "from huggingface_hub import login\n",
        "import wandb\n",
        "from transformers import Trainer, TrainingArguments, BertTokenizer, BertForSequenceClassification, set_seed\n",
        "import pandas as pd\n",
        "import random\n",
        "import torch\n",
        "from sklearn.metrics import accuracy_score, precision_recall_fscore_support,classification_report, confusion_matrix\n",
        "import numpy as np\n",
        "import pickle\n",
        "import seaborn as sns\n",
        "import matplotlib.pyplot as plt\n",
        "\n",
        "!pip install optuna"
      ]
    },
    {
      "cell_type": "code",
      "source": [
        "#Note: random_state for splits need to set separately for this study its 42 throughout\n",
        "random.seed(42)\n",
        "np.random.seed(42)\n",
        "torch.manual_seed(42)\n",
        "torch.cuda.manual_seed(42)\n",
        "set_seed(42)"
      ],
      "metadata": {
        "id": "8BGd_vA44oxy"
      },
      "execution_count": null,
      "outputs": []
    },
    {
      "cell_type": "code",
      "source": [
        "# Custom Dataset Class for Tokenized Data\n",
        "class SentenceDataset(torch.utils.data.Dataset):\n",
        "    def __init__(self, encodings, labels):\n",
        "        \"\"\"\n",
        "        Initializes the dataset.\n",
        "\n",
        "        Args:\n",
        "            encodings: Dictionary containing tokenized input IDs, attention masks, etc.\n",
        "            labels: List of labels corresponding to the sentences (e.g., 0 for NotInsensitive, 1 for Insensitive).\n",
        "        \"\"\"\n",
        "        self.encodings = encodings\n",
        "        self.labels = labels\n",
        "\n",
        "    def __len__(self):\n",
        "        \"\"\"\n",
        "        Returns the total number of samples in the dataset.\n",
        "        \"\"\"\n",
        "        return len(self.labels)\n",
        "\n",
        "    def __getitem__(self, idx):\n",
        "        \"\"\"\n",
        "        Retrieves the tokenized inputs and the corresponding label for the given index.\n",
        "\n",
        "        Args:\n",
        "            idx: Index of the data sample.\n",
        "\n",
        "        Returns:\n",
        "            A dictionary containing the tokenized inputs (input IDs, attention masks, etc.)\n",
        "            and the label for the specified index.\n",
        "        \"\"\"\n",
        "        # Convert tokenized data for the index to PyTorch tensors\n",
        "        item = {key: torch.tensor(val[idx]) for key, val in self.encodings.items()}\n",
        "        # Ensure the label key is 'labels'\n",
        "        item['labels'] = torch.tensor(self.labels[idx])  # Add the corresponding label\n",
        "        return item\n",
        "\n",
        "# Function to compute metrics\n",
        "def compute_metrics(pred):\n",
        "    predictions, labels = pred\n",
        "    preds = predictions.argmax(axis=1)\n",
        "    acc = accuracy_score(labels, preds)\n",
        "    precision, recall, f1, _ = precision_recall_fscore_support(labels, preds, average='binary')\n",
        "    return {\n",
        "        'accuracy': acc,\n",
        "        'precision': precision,\n",
        "        'recall': recall,\n",
        "        'f1': f1\n",
        "    }"
      ],
      "metadata": {
        "id": "whW8k8Jl4yCZ"
      },
      "execution_count": null,
      "outputs": []
    },
    {
      "cell_type": "markdown",
      "source": [
        "# EXP 2: Test original test set on augmented model"
      ],
      "metadata": {
        "id": "KUFIpJk9bM2w"
      }
    },
    {
      "cell_type": "code",
      "source": [
        "import pandas as pd\n",
        "import torch\n",
        "import wandb\n",
        "import seaborn as sns\n",
        "import matplotlib.pyplot as plt\n",
        "from transformers import BertForSequenceClassification, BertTokenizer\n",
        "from sklearn.metrics import classification_report, confusion_matrix, accuracy_score\n",
        "\n",
        "test_dataexp = pd.read_csv(\"/content/drive/MyDrive/Honours MiscData(Roshna)/test_dataOriginal.csv\")\n",
        "\n",
        "# Load the saved model\n",
        "model_path = \"/content/drive/MyDrive/Honours MiscData(Roshna)/Aug_bert_base_modelV3\"\n",
        "modelAug = BertForSequenceClassification.from_pretrained(model_path)\n",
        "modelAug.eval()\n",
        "\n",
        "print(\"\\nLoaded Model Path:\", model_path)\n",
        "\n",
        "wandb.finish()\n",
        "wandb.init(project=\"Insensitive Lang Detection\", entity=\"Roshna\", name=\"Bert_baseOripred\")\n",
        "\n",
        "tokenizer = BertTokenizer.from_pretrained(model_path)\n",
        "inputs = tokenizer(list(test_dataexp['Sentence']), padding=True, truncation=True, return_tensors=\"pt\")\n",
        "\n",
        "\n",
        "with torch.no_grad():\n",
        "    outputs = modelAug(**inputs)\n",
        "    confidences = torch.softmax(outputs.logits, dim=1)\n",
        "\n",
        "test_predictions = outputs.logits.argmax(dim=1).cpu().numpy()\n",
        "test_true_labels = test_dataexp['Manual_Annotation'].values\n",
        "\n",
        "\n",
        "accuracy = accuracy_score(test_true_labels, test_predictions)\n",
        "class_report = classification_report(test_true_labels, test_predictions, output_dict=True)\n",
        "conf_matrix = confusion_matrix(test_true_labels, test_predictions)\n",
        "\n",
        "# Extract Precision, Recall, and F1-score - macro average gives equal importance to both classes in binary classification\n",
        "precision = class_report[\"macro avg\"][\"precision\"]\n",
        "recall = class_report[\"macro avg\"][\"recall\"]\n",
        "f1 = class_report[\"macro avg\"][\"f1-score\"]\n",
        "\n",
        "wandb.log({\n",
        "    \"test_accuracy\": accuracy,\n",
        "    \"test_precision\": precision,\n",
        "    \"test_recall\": recall,\n",
        "    \"test_f1\": f1\n",
        "})\n",
        "\n",
        "\n",
        "print(\"\\nTest Set Evaluation\")\n",
        "print(f\"Accuracy: {accuracy:.4f}\")\n",
        "print(f\"Precision: {precision:.4f}\")\n",
        "print(f\"Recall: {recall:.4f}\")\n",
        "print(f\"F1 Score: {f1:.4f}\")\n",
        "\n",
        "# Confusion Matrix\n",
        "conf_matrix_df = pd.DataFrame(conf_matrix,\n",
        "                              columns=[\"Predicted NotInsensitive\", \"Predicted Insensitive\"],\n",
        "                              index=[\"Actual NotInsensitive\", \"Actual Insensitive\"])\n",
        "\n",
        "print(\"\\nConfusion Matrix - Test Set:\")\n",
        "print(conf_matrix_df)\n",
        "\n",
        "wandb.log({\"confusion_matrix\": wandb.Table(dataframe=conf_matrix_df)})\n",
        "\n",
        "# Analyze false positives & false negatives\n",
        "false_positives = test_dataexp[(test_true_labels == 0) & (test_predictions == 1)].copy()\n",
        "false_negatives = test_dataexp[(test_true_labels == 1) & (test_predictions == 0)].copy()\n",
        "\n",
        "print(\"\\nFalse Positives:\")\n",
        "print(false_positives[['Sentence', 'Manual_Annotation']])\n",
        "\n",
        "print(\"\\nFalse Negatives:\")\n",
        "print(false_negatives[['Sentence', 'Manual_Annotation']])\n",
        "\n",
        "# Confidence scores\n",
        "test_dataexp['Confidence_Positive'] = confidences[:, 1].cpu().numpy()\n",
        "test_dataexp['Confidence_Negative'] = confidences[:, 0].cpu().numpy()\n",
        "\n",
        "# Assign confidence values to misclassified examples\n",
        "false_positives['Confidence_Positive'] = test_dataexp.loc[false_positives.index, 'Confidence_Positive'].values\n",
        "false_negatives['Confidence_Negative'] = test_dataexp.loc[false_negatives.index, 'Confidence_Negative'].values\n",
        "\n",
        "print(\"\\nFalse Positives with Confidence:\")\n",
        "print(false_positives[['Sentence', 'Manual_Annotation', 'Confidence_Positive']])\n",
        "\n",
        "print(\"\\nFalse Negatives with Confidence:\")\n",
        "print(false_negatives[['Sentence', 'Manual_Annotation', 'Confidence_Negative']])\n",
        "\n",
        "plt.figure(figsize=(4, 4))\n",
        "sns.heatmap(conf_matrix, annot=True, fmt=\"d\", cmap=\"Blues\",\n",
        "            xticklabels=[\"NotInsensitive\", \"Insensitive\"],\n",
        "            yticklabels=[\"NotInsensitive\", \"Insensitive\"])\n",
        "plt.xlabel(\"Predicted\")\n",
        "plt.ylabel(\"Actual\")\n",
        "plt.savefig(\"OriginalTestset.png\")\n",
        "plt.show()\n",
        "\n",
        "# Finish WandB logging\n",
        "wandb.finish()\n"
      ],
      "metadata": {
        "colab": {
          "base_uri": "https://localhost:8080/",
          "height": 1000
        },
        "id": "rZWJ1OTDbUgg",
        "outputId": "22096ce9-3ae4-4b4a-a0aa-6a7a745e6316"
      },
      "execution_count": null,
      "outputs": [
        {
          "output_type": "stream",
          "name": "stdout",
          "text": [
            "\n",
            "Loaded Model Path: /content/drive/MyDrive/Honours MiscData(Roshna)/Aug_bert_base_modelV3\n"
          ]
        },
        {
          "output_type": "display_data",
          "data": {
            "text/plain": [
              "<IPython.core.display.HTML object>"
            ],
            "text/html": [
              "Tracking run with wandb version 0.19.6"
            ]
          },
          "metadata": {}
        },
        {
          "output_type": "display_data",
          "data": {
            "text/plain": [
              "<IPython.core.display.HTML object>"
            ],
            "text/html": [
              "Run data is saved locally in <code>/content/wandb/run-20250219_194159-vurb1v85</code>"
            ]
          },
          "metadata": {}
        },
        {
          "output_type": "display_data",
          "data": {
            "text/plain": [
              "<IPython.core.display.HTML object>"
            ],
            "text/html": [
              "Syncing run <strong><a href='https://wandb.ai/Roshna/Insensitive%20Lang%20Detection/runs/vurb1v85' target=\"_blank\">Bert_baseOripred</a></strong> to <a href='https://wandb.ai/Roshna/Insensitive%20Lang%20Detection' target=\"_blank\">Weights & Biases</a> (<a href='https://wandb.me/developer-guide' target=\"_blank\">docs</a>)<br>"
            ]
          },
          "metadata": {}
        },
        {
          "output_type": "display_data",
          "data": {
            "text/plain": [
              "<IPython.core.display.HTML object>"
            ],
            "text/html": [
              " View project at <a href='https://wandb.ai/Roshna/Insensitive%20Lang%20Detection' target=\"_blank\">https://wandb.ai/Roshna/Insensitive%20Lang%20Detection</a>"
            ]
          },
          "metadata": {}
        },
        {
          "output_type": "display_data",
          "data": {
            "text/plain": [
              "<IPython.core.display.HTML object>"
            ],
            "text/html": [
              " View run at <a href='https://wandb.ai/Roshna/Insensitive%20Lang%20Detection/runs/vurb1v85' target=\"_blank\">https://wandb.ai/Roshna/Insensitive%20Lang%20Detection/runs/vurb1v85</a>"
            ]
          },
          "metadata": {}
        },
        {
          "output_type": "stream",
          "name": "stdout",
          "text": [
            "\n",
            "Test Set Evaluation\n",
            "Accuracy: 0.9358\n",
            "Precision: 0.9354\n",
            "Recall: 0.9327\n",
            "F1 Score: 0.9340\n",
            "\n",
            "Confusion Matrix - Test Set:\n",
            "                       Predicted NotInsensitive  Predicted Insensitive\n",
            "Actual NotInsensitive                        60                      3\n",
            "Actual Insensitive                            4                     42\n",
            "\n",
            "False Positives:\n",
            "                                             Sentence  Manual_Annotation\n",
            "19  We started working with the patient when he wa...                  0\n",
            "31  However, language immersion can be particularl...                  0\n",
            "46  Gaze typing for people with extreme motor disa...                  0\n",
            "\n",
            "False Negatives:\n",
            "                                              Sentence  Manual_Annotation\n",
            "6    Our research contributes empirical evidence de...                  1\n",
            "89   In this paper, we describe why designers need ...                  1\n",
            "101  In our system, besides the user’s speech, the ...                  1\n",
            "106  Children with autism spectrum disorder and oth...                  1\n",
            "\n",
            "False Positives with Confidence:\n",
            "                                             Sentence  Manual_Annotation  \\\n",
            "19  We started working with the patient when he wa...                  0   \n",
            "31  However, language immersion can be particularl...                  0   \n",
            "46  Gaze typing for people with extreme motor disa...                  0   \n",
            "\n",
            "    Confidence_Positive  \n",
            "19             0.955664  \n",
            "31             0.994570  \n",
            "46             0.989117  \n",
            "\n",
            "False Negatives with Confidence:\n",
            "                                              Sentence  Manual_Annotation  \\\n",
            "6    Our research contributes empirical evidence de...                  1   \n",
            "89   In this paper, we describe why designers need ...                  1   \n",
            "101  In our system, besides the user’s speech, the ...                  1   \n",
            "106  Children with autism spectrum disorder and oth...                  1   \n",
            "\n",
            "     Confidence_Negative  \n",
            "6               0.998655  \n",
            "89              0.997932  \n",
            "101             0.996675  \n",
            "106             0.818192  \n"
          ]
        },
        {
          "output_type": "display_data",
          "data": {
            "text/plain": [
              "<Figure size 400x400 with 2 Axes>"
            ],
            "image/png": "[encoded data removed]"
          },
          "metadata": {}
        },
        {
          "output_type": "display_data",
          "data": {
            "text/plain": [
              "<IPython.core.display.HTML object>"
            ],
            "text/html": []
          },
          "metadata": {}
        },
        {
          "output_type": "display_data",
          "data": {
            "text/plain": [
              "<IPython.core.display.HTML object>"
            ],
            "text/html": [
              "<br>    <style><br>        .wandb-row {<br>            display: flex;<br>            flex-direction: row;<br>            flex-wrap: wrap;<br>            justify-content: flex-start;<br>            width: 100%;<br>        }<br>        .wandb-col {<br>            display: flex;<br>            flex-direction: column;<br>            flex-basis: 100%;<br>            flex: 1;<br>            padding: 10px;<br>        }<br>    </style><br><div class=\"wandb-row\"><div class=\"wandb-col\"><h3>Run history:</h3><br/><table class=\"wandb\"><tr><td>test_accuracy</td><td>▁</td></tr><tr><td>test_f1</td><td>▁</td></tr><tr><td>test_precision</td><td>▁</td></tr><tr><td>test_recall</td><td>▁</td></tr></table><br/></div><div class=\"wandb-col\"><h3>Run summary:</h3><br/><table class=\"wandb\"><tr><td>test_accuracy</td><td>0.93578</td></tr><tr><td>test_f1</td><td>0.93398</td></tr><tr><td>test_precision</td><td>0.93542</td></tr><tr><td>test_recall</td><td>0.93271</td></tr></table><br/></div></div>"
            ]
          },
          "metadata": {}
        },
        {
          "output_type": "display_data",
          "data": {
            "text/plain": [
              "<IPython.core.display.HTML object>"
            ],
            "text/html": [
              " View run <strong style=\"color:#cdcd00\">Bert_baseOripred</strong> at: <a href='https://wandb.ai/Roshna/Insensitive%20Lang%20Detection/runs/vurb1v85' target=\"_blank\">https://wandb.ai/Roshna/Insensitive%20Lang%20Detection/runs/vurb1v85</a><br> View project at: <a href='https://wandb.ai/Roshna/Insensitive%20Lang%20Detection' target=\"_blank\">https://wandb.ai/Roshna/Insensitive%20Lang%20Detection</a><br>Synced 5 W&B file(s), 1 media file(s), 2 artifact file(s) and 0 other file(s)"
            ]
          },
          "metadata": {}
        },
        {
          "output_type": "display_data",
          "data": {
            "text/plain": [
              "<IPython.core.display.HTML object>"
            ],
            "text/html": [
              "Find logs at: <code>./wandb/run-20250219_194159-vurb1v85/logs</code>"
            ]
          },
          "metadata": {}
        }
      ]
    },
    {
      "cell_type": "markdown",
      "source": [
        "# Dataset Prep"
      ],
      "metadata": {
        "id": "rzYxdJTTM-EU"
      }
    },
    {
      "cell_type": "code",
      "source": [
        "\n",
        "# The augmentated dataset\n",
        "file_path = '/content/drive/MyDrive/Honours MiscData(Roshna)/25Augmented_annotationsV3.xlsx'\n",
        "data = pd.read_excel(file_path)\n",
        "\n",
        "# cleaning data\n",
        "data = data[['Sentence', 'Label','Term']]\n",
        "data = data.dropna()\n",
        "\n",
        "# 1 for insensitive and 0 for notInsensitive\n",
        "data['Label'] = data['Label']\n",
        "\n",
        "# Split the data into train, validation, and test sets\n",
        "train_data, temp_data = train_test_split(data, test_size=0.2, stratify=data['Label'], random_state=42)\n",
        "val_data, test_data = train_test_split(temp_data, test_size=0.5, stratify=temp_data['Label'],random_state=42)\n",
        "\n",
        "print(f\"Train size: {len(train_data)}, Validation size: {len(val_data)}, Test size: {len(test_data)}\")\n",
        "# Save train, val, and test splits\n",
        "train_data.to_csv(\"/content/drive/MyDrive/Honours MiscData(Roshna)/AugTrain_dataV2.csv\", index=False)\n",
        "val_data.to_csv(\"/content/drive/MyDrive/Honours MiscData(Roshna)/AugVal_dataV2.csv\", index=False)\n",
        "test_data.to_csv(\"/content/drive/MyDrive/Honours MiscData(Roshna)/AugTest_dataV2.csv\", index=False)"
      ],
      "metadata": {
        "colab": {
          "base_uri": "https://localhost:8080/"
        },
        "id": "T4vh54--41jE",
        "outputId": "b19bdaca-72bb-4225-c4ab-e22aacbde262"
      },
      "execution_count": null,
      "outputs": [
        {
          "output_type": "stream",
          "name": "stdout",
          "text": [
            "Train size: 1720, Validation size: 215, Test size: 215\n"
          ]
        }
      ]
    },
    {
      "cell_type": "code",
      "source": [
        "\n",
        "print(data['Label'].value_counts(normalize=True))\n",
        "\n",
        "# Check class proportions in train, val, and test sets\n",
        "print(train_data['Label'].value_counts(normalize=True))\n",
        "print(val_data['Label'].value_counts(normalize=True))\n",
        "print(test_data['Label'].value_counts(normalize=True))\n"
      ],
      "metadata": {
        "colab": {
          "base_uri": "https://localhost:8080/"
        },
        "id": "TUTdaU-S62-P",
        "outputId": "b11c18fb-72bf-4dfd-87ca-b5f6b304fb26"
      },
      "execution_count": null,
      "outputs": [
        {
          "output_type": "stream",
          "name": "stdout",
          "text": [
            "Label\n",
            "1    0.5\n",
            "0    0.5\n",
            "Name: proportion, dtype: float64\n",
            "Label\n",
            "1    0.5\n",
            "0    0.5\n",
            "Name: proportion, dtype: float64\n",
            "Label\n",
            "1    0.502326\n",
            "0    0.497674\n",
            "Name: proportion, dtype: float64\n",
            "Label\n",
            "0    0.502326\n",
            "1    0.497674\n",
            "Name: proportion, dtype: float64\n"
          ]
        }
      ]
    },
    {
      "cell_type": "code",
      "source": [
        "train_dataAug=pd.read_csv(\"/content/drive/MyDrive/Honours MiscData(Roshna)/AugTrain_dataV2.csv\")\n",
        "val_dataAug=pd.read_csv(\"/content/drive/MyDrive/Honours MiscData(Roshna)/AugVal_dataV2.csv\")\n",
        "test_dataAug=pd.read_csv(\"/content/drive/MyDrive/Honours MiscData(Roshna)/AugTest_dataV2.csv\")\n",
        "print(f\"Duplicates in train data: {train_data.duplicated(subset=['Sentence', 'Label']).sum()}\")\n",
        "print(f\"Duplicates in validation data: {val_data.duplicated(subset=['Sentence', 'Label']).sum()}\")\n",
        "print(f\"Duplicates in test data: {test_data.duplicated(subset=['Sentence', 'Label']).sum()}\")"
      ],
      "metadata": {
        "colab": {
          "base_uri": "https://localhost:8080/"
        },
        "id": "PgVI_4ot8Ll8",
        "outputId": "31be4511-f1c9-4912-9a2b-295929e5db32"
      },
      "execution_count": null,
      "outputs": [
        {
          "output_type": "stream",
          "name": "stdout",
          "text": [
            "Duplicates in train data: 0\n",
            "Duplicates in validation data: 0\n",
            "Duplicates in test data: 0\n"
          ]
        }
      ]
    },
    {
      "cell_type": "code",
      "source": [
        "# Load the BERT tokenizer\n",
        "tokenizer = BertTokenizer.from_pretrained('bert-base-uncased')\n",
        "\n",
        "# Function to tokenize data\n",
        "def tokenize_data(data, tokenizer, max_length=109):\n",
        "    return tokenizer(\n",
        "        list(data['Sentence']),  # Tokenize sentences\n",
        "        padding=True,            # Pad shorter sentences\n",
        "        truncation=True,         # Truncate longer sentences\n",
        "        max_length=max_length,   # Max token length\n",
        "        return_tensors='pt'      # Return PyTorch tensors\n",
        "    )\n",
        "\n",
        "train_labels = list(train_dataAug['Label'])\n",
        "val_labels = list(val_dataAug['Label'])\n",
        "test_labels = list(test_dataAug['Label'])\n",
        "\n",
        "# Tokenize the data\n",
        "train_encodingsAug = tokenize_data(train_dataAug, tokenizer)\n",
        "val_encodingsAug = tokenize_data(val_dataAug, tokenizer)\n",
        "test_encodingsAug = tokenize_data(test_dataAug, tokenizer)\n",
        "\n",
        "\n",
        "# Save tokenized data\n",
        "np.save(\"/content/drive/MyDrive/Honours MiscData(Roshna)/Augtrain_encodings_input_ids.npy\", train_encodingsAug['input_ids'].numpy())\n",
        "np.save(\"/content/drive/MyDrive/Honours MiscData(Roshna)/Augtrain_encodings_attention_mask.npy\", train_encodingsAug['attention_mask'].numpy())\n",
        "np.save(\"/content/drive/MyDrive/Honours MiscData(Roshna)/Augtrain_labels.npy\", np.array(train_labels))\n"
      ],
      "metadata": {
        "id": "lCt8aPOX8ph_",
        "colab": {
          "base_uri": "https://localhost:8080/"
        },
        "outputId": "ad94eb06-5f97-4534-e8ef-9dfc56f384f2"
      },
      "execution_count": null,
      "outputs": [
        {
          "output_type": "stream",
          "name": "stderr",
          "text": [
            "/usr/local/lib/python3.11/dist-packages/huggingface_hub/utils/_auth.py:94: UserWarning: \n",
            "The secret `HF_TOKEN` does not exist in your Colab secrets.\n",
            "To authenticate with the Hugging Face Hub, create a token in your settings tab (https://huggingface.co/settings/tokens), set it as secret in your Google Colab and restart your session.\n",
            "You will be able to reuse this secret in all of your notebooks.\n",
            "Please note that authentication is recommended but still optional to access public models or datasets.\n",
            "  warnings.warn(\n"
          ]
        }
      ]
    },
    {
      "cell_type": "code",
      "source": [
        "\n",
        "# Create datasets for train, validation, and test sets\n",
        "train_datasetAug = SentenceDataset(train_encodingsAug, train_labels)\n",
        "val_datasetAug = SentenceDataset(val_encodingsAug, val_labels)\n",
        "test_datasetAug = SentenceDataset(test_encodingsAug, test_labels)\n",
        "\n",
        "\n",
        "# Save the train, val, and test datasets\n",
        "with open(\"/content/drive/MyDrive/Honours MiscData(Roshna)/Augtrain_datasetV2.pkl\", \"wb\") as f:\n",
        "    pickle.dump(train_datasetAug, f)\n",
        "with open(\"/content/drive/MyDrive/Honours MiscData(Roshna)/Augval_datasetV2.pkl\", \"wb\") as f:\n",
        "    pickle.dump(val_datasetAug, f)\n",
        "with open(\"/content/drive/MyDrive/Honours MiscData(Roshna)/Augtest_datasetV2.pkl\", \"wb\") as f:\n",
        "    pickle.dump(test_datasetAug, f)\n"
      ],
      "metadata": {
        "id": "VseE3izh9hDU"
      },
      "execution_count": null,
      "outputs": []
    },
    {
      "cell_type": "markdown",
      "source": [
        "# Final BERT Model"
      ],
      "metadata": {
        "id": "wFNkEIUiGFis"
      }
    },
    {
      "cell_type": "code",
      "source": [
        "# Load pre-trained BERT for binary classification\n",
        "modelBbaseAugV3 = BertForSequenceClassification.from_pretrained('bert-base-uncased', num_labels=2)"
      ],
      "metadata": {
        "colab": {
          "base_uri": "https://localhost:8080/"
        },
        "id": "piVKl_0XDx0Y",
        "outputId": "72746353-1364-4a63-a6c5-92e9ace4a187"
      },
      "execution_count": null,
      "outputs": [
        {
          "output_type": "stream",
          "name": "stderr",
          "text": [
            "Some weights of BertForSequenceClassification were not initialized from the model checkpoint at bert-base-uncased and are newly initialized: ['classifier.bias', 'classifier.weight']\n",
            "You should probably TRAIN this model on a down-stream task to be able to use it for predictions and inference.\n"
          ]
        }
      ]
    },
    {
      "cell_type": "code",
      "source": [
        "# Safe close any previous WandB session\n",
        "wandb.finish()\n",
        "\n",
        "# Initialize WandB with a specific run name\n",
        "wandb.init(project=\"Insensitive Lang Detecton\", entity=\"Roshna\", name=\"Bert_baseAugV3\")\n",
        "\n",
        "# TrainingArguments\n",
        "training_args = TrainingArguments(\n",
        "    output_dir='./results',\n",
        "    num_train_epochs=3,\n",
        "    per_device_train_batch_size=16,\n",
        "    per_device_eval_batch_size=16,\n",
        "    eval_strategy='epoch',\n",
        "    save_strategy='epoch',\n",
        "    logging_dir='./logs',\n",
        "    logging_steps=10,\n",
        "    report_to=[\"wandb\"],  # WandB is used for logging\n",
        "    run_name=\"Bert_baseAugV3\"  # the run name for this Trainer\n",
        ")\n",
        "\n",
        "# Trainer\n",
        "trainer = Trainer(\n",
        "    model=modelBbaseAugV3,\n",
        "    args=training_args,\n",
        "    train_dataset=train_datasetAug,\n",
        "    eval_dataset=val_datasetAug,\n",
        "    compute_metrics=compute_metrics,\n",
        ")\n",
        "\n",
        "# Train\n",
        "trainer.train()\n",
        "\n",
        "# Compute training metrics at the end of training\n",
        "train_results = trainer.predict(train_datasetAug)  # Get predictions on the training dataset\n",
        "\n",
        "# Extract predictions and labels\n",
        "predictions = train_results.predictions\n",
        "labels = train_results.label_ids\n",
        "\n",
        "# Compute metrics using the compute_metrics function\n",
        "train_metrics = compute_metrics((predictions, labels))  # Pass predictions and labels as a tuple\n",
        "\n",
        "# Log training metrics\n",
        "wandb.log({f\"train_{key}\": value for key, value in train_metrics.items()})\n",
        "\n",
        "# Output the metrics at the end of training\n",
        "print(\"Training Metrics:\")\n",
        "for key, value in train_metrics.items():\n",
        "    print(f\"{key}: {value:.4f}\")\n",
        "\n",
        "\n",
        "# Compute evaluation metrics on the test set\n",
        "test_results = trainer.evaluate(test_datasetAug, metric_key_prefix=\"test\")\n",
        "wandb.log(test_results)\n",
        "wandb.finish()"
      ],
      "metadata": {
        "colab": {
          "base_uri": "https://localhost:8080/",
          "height": 1000
        },
        "id": "PmKTBG_1DklK",
        "outputId": "b165170c-1e83-4d78-d7bb-4a814c8addd4"
      },
      "execution_count": null,
      "outputs": [
        {
          "output_type": "stream",
          "name": "stderr",
          "text": [
            "\u001b[34m\u001b[1mwandb\u001b[0m: Currently logged in as: \u001b[33mroshnaroby\u001b[0m (\u001b[33mRoshna\u001b[0m) to \u001b[32mhttps://api.wandb.ai\u001b[0m. Use \u001b[1m`wandb login --relogin`\u001b[0m to force relogin\n",
            "\u001b[34m\u001b[1mwandb\u001b[0m: Using wandb-core as the SDK backend.  Please refer to https://wandb.me/wandb-core for more information.\n"
          ]
        },
        {
          "output_type": "display_data",
          "data": {
            "text/plain": [
              "<IPython.core.display.HTML object>"
            ],
            "text/html": [
              "Tracking run with wandb version 0.19.6"
            ]
          },
          "metadata": {}
        },
        {
          "output_type": "display_data",
          "data": {
            "text/plain": [
              "<IPython.core.display.HTML object>"
            ],
            "text/html": [
              "Run data is saved locally in <code>/content/wandb/run-20250219_193754-x6daj4ek</code>"
            ]
          },
          "metadata": {}
        },
        {
          "output_type": "display_data",
          "data": {
            "text/plain": [
              "<IPython.core.display.HTML object>"
            ],
            "text/html": [
              "Syncing run <strong><a href='https://wandb.ai/Roshna/Insensitive%20Lang%20Detecton/runs/x6daj4ek' target=\"_blank\">Bert_baseAugV3</a></strong> to <a href='https://wandb.ai/Roshna/Insensitive%20Lang%20Detecton' target=\"_blank\">Weights & Biases</a> (<a href='https://wandb.me/developer-guide' target=\"_blank\">docs</a>)<br>"
            ]
          },
          "metadata": {}
        },
        {
          "output_type": "display_data",
          "data": {
            "text/plain": [
              "<IPython.core.display.HTML object>"
            ],
            "text/html": [
              " View project at <a href='https://wandb.ai/Roshna/Insensitive%20Lang%20Detecton' target=\"_blank\">https://wandb.ai/Roshna/Insensitive%20Lang%20Detecton</a>"
            ]
          },
          "metadata": {}
        },
        {
          "output_type": "display_data",
          "data": {
            "text/plain": [
              "<IPython.core.display.HTML object>"
            ],
            "text/html": [
              " View run at <a href='https://wandb.ai/Roshna/Insensitive%20Lang%20Detecton/runs/x6daj4ek' target=\"_blank\">https://wandb.ai/Roshna/Insensitive%20Lang%20Detecton/runs/x6daj4ek</a>"
            ]
          },
          "metadata": {}
        },
        {
          "output_type": "stream",
          "name": "stderr",
          "text": [
            "<ipython-input-3-1302a6248933>:32: UserWarning: To copy construct from a tensor, it is recommended to use sourceTensor.clone().detach() or sourceTensor.clone().detach().requires_grad_(True), rather than torch.tensor(sourceTensor).\n",
            "  item = {key: torch.tensor(val[idx]) for key, val in self.encodings.items()}\n"
          ]
        },
        {
          "output_type": "display_data",
          "data": {
            "text/plain": [
              "<IPython.core.display.HTML object>"
            ],
            "text/html": [
              "\n",
              "    <div>\n",
              "      \n",
              "      <progress value='324' max='324' style='width:300px; height:20px; vertical-align: middle;'></progress>\n",
              "      [324/324 02:02, Epoch 3/3]\n",
              "    </div>\n",
              "    <table border=\"1\" class=\"dataframe\">\n",
              "  <thead>\n",
              " <tr style=\"text-align: left;\">\n",
              "      <th>Epoch</th>\n",
              "      <th>Training Loss</th>\n",
              "      <th>Validation Loss</th>\n",
              "      <th>Accuracy</th>\n",
              "      <th>Precision</th>\n",
              "      <th>Recall</th>\n",
              "      <th>F1</th>\n",
              "    </tr>\n",
              "  </thead>\n",
              "  <tbody>\n",
              "    <tr>\n",
              "      <td>1</td>\n",
              "      <td>0.198500</td>\n",
              "      <td>0.242338</td>\n",
              "      <td>0.920930</td>\n",
              "      <td>0.902655</td>\n",
              "      <td>0.944444</td>\n",
              "      <td>0.923077</td>\n",
              "    </tr>\n",
              "    <tr>\n",
              "      <td>2</td>\n",
              "      <td>0.132500</td>\n",
              "      <td>0.199278</td>\n",
              "      <td>0.948837</td>\n",
              "      <td>0.961905</td>\n",
              "      <td>0.935185</td>\n",
              "      <td>0.948357</td>\n",
              "    </tr>\n",
              "    <tr>\n",
              "      <td>3</td>\n",
              "      <td>0.013100</td>\n",
              "      <td>0.141965</td>\n",
              "      <td>0.967442</td>\n",
              "      <td>0.980952</td>\n",
              "      <td>0.953704</td>\n",
              "      <td>0.967136</td>\n",
              "    </tr>\n",
              "  </tbody>\n",
              "</table><p>"
            ]
          },
          "metadata": {}
        },
        {
          "output_type": "stream",
          "name": "stderr",
          "text": [
            "<ipython-input-3-1302a6248933>:32: UserWarning: To copy construct from a tensor, it is recommended to use sourceTensor.clone().detach() or sourceTensor.clone().detach().requires_grad_(True), rather than torch.tensor(sourceTensor).\n",
            "  item = {key: torch.tensor(val[idx]) for key, val in self.encodings.items()}\n",
            "<ipython-input-3-1302a6248933>:32: UserWarning: To copy construct from a tensor, it is recommended to use sourceTensor.clone().detach() or sourceTensor.clone().detach().requires_grad_(True), rather than torch.tensor(sourceTensor).\n",
            "  item = {key: torch.tensor(val[idx]) for key, val in self.encodings.items()}\n",
            "<ipython-input-3-1302a6248933>:32: UserWarning: To copy construct from a tensor, it is recommended to use sourceTensor.clone().detach() or sourceTensor.clone().detach().requires_grad_(True), rather than torch.tensor(sourceTensor).\n",
            "  item = {key: torch.tensor(val[idx]) for key, val in self.encodings.items()}\n",
            "<ipython-input-3-1302a6248933>:32: UserWarning: To copy construct from a tensor, it is recommended to use sourceTensor.clone().detach() or sourceTensor.clone().detach().requires_grad_(True), rather than torch.tensor(sourceTensor).\n",
            "  item = {key: torch.tensor(val[idx]) for key, val in self.encodings.items()}\n"
          ]
        },
        {
          "output_type": "display_data",
          "data": {
            "text/plain": [
              "<IPython.core.display.HTML object>"
            ],
            "text/html": []
          },
          "metadata": {}
        },
        {
          "output_type": "stream",
          "name": "stdout",
          "text": [
            "Training Metrics:\n",
            "accuracy: 0.9959\n",
            "precision: 0.9954\n",
            "recall: 0.9965\n",
            "f1: 0.9959\n"
          ]
        },
        {
          "output_type": "stream",
          "name": "stderr",
          "text": [
            "<ipython-input-3-1302a6248933>:32: UserWarning: To copy construct from a tensor, it is recommended to use sourceTensor.clone().detach() or sourceTensor.clone().detach().requires_grad_(True), rather than torch.tensor(sourceTensor).\n",
            "  item = {key: torch.tensor(val[idx]) for key, val in self.encodings.items()}\n"
          ]
        },
        {
          "output_type": "display_data",
          "data": {
            "text/plain": [
              "<IPython.core.display.HTML object>"
            ],
            "text/html": [
              "\n",
              "    <div>\n",
              "      \n",
              "      <progress value='14' max='14' style='width:300px; height:20px; vertical-align: middle;'></progress>\n",
              "      [14/14 00:01]\n",
              "    </div>\n",
              "    "
            ]
          },
          "metadata": {}
        },
        {
          "output_type": "display_data",
          "data": {
            "text/plain": [
              "<IPython.core.display.HTML object>"
            ],
            "text/html": []
          },
          "metadata": {}
        },
        {
          "output_type": "display_data",
          "data": {
            "text/plain": [
              "<IPython.core.display.HTML object>"
            ],
            "text/html": [
              "<br>    <style><br>        .wandb-row {<br>            display: flex;<br>            flex-direction: row;<br>            flex-wrap: wrap;<br>            justify-content: flex-start;<br>            width: 100%;<br>        }<br>        .wandb-col {<br>            display: flex;<br>            flex-direction: column;<br>            flex-basis: 100%;<br>            flex: 1;<br>            padding: 10px;<br>        }<br>    </style><br><div class=\"wandb-row\"><div class=\"wandb-col\"><h3>Run history:</h3><br/><table class=\"wandb\"><tr><td>epoch</td><td>▁</td></tr><tr><td>eval/accuracy</td><td>▁▅█</td></tr><tr><td>eval/f1</td><td>▁▅█</td></tr><tr><td>eval/loss</td><td>█▅▁</td></tr><tr><td>eval/precision</td><td>▁▆█</td></tr><tr><td>eval/recall</td><td>▄▁█</td></tr><tr><td>eval/runtime</td><td>▁▇█</td></tr><tr><td>eval/samples_per_second</td><td>█▂▁</td></tr><tr><td>eval/steps_per_second</td><td>█▂▁</td></tr><tr><td>test/accuracy</td><td>█▁</td></tr><tr><td>test/f1</td><td>█▁</td></tr><tr><td>test/loss</td><td>▁█</td></tr><tr><td>test/precision</td><td>█▁</td></tr><tr><td>test/recall</td><td>█▁</td></tr><tr><td>test/runtime</td><td>█▁</td></tr><tr><td>test/samples_per_second</td><td>█▁</td></tr><tr><td>test/steps_per_second</td><td>█▁</td></tr><tr><td>test_accuracy</td><td>▁</td></tr><tr><td>test_f1</td><td>▁</td></tr><tr><td>test_loss</td><td>▁</td></tr><tr><td>test_precision</td><td>▁</td></tr><tr><td>test_recall</td><td>▁</td></tr><tr><td>test_runtime</td><td>▁</td></tr><tr><td>test_samples_per_second</td><td>▁</td></tr><tr><td>test_steps_per_second</td><td>▁</td></tr><tr><td>train/epoch</td><td>▁▁▁▂▂▂▂▃▃▃▃▃▃▄▄▄▄▅▅▅▅▅▆▆▆▆▆▇▇▇▇▇█████</td></tr><tr><td>train/global_step</td><td>▁▁▁▂▂▂▂▃▃▃▃▃▃▄▄▄▄▅▅▅▅▅▆▆▆▆▆▇▇▇▇▇████████</td></tr><tr><td>train/grad_norm</td><td>▂▂▃▃▃▃▃▄▂▃▅▆▃▂▃▃▄▁▄▁▂▁▁█▃▁▁▁▁▁▁▁</td></tr><tr><td>train/learning_rate</td><td>███▇▇▇▇▆▆▆▆▆▅▅▅▅▄▄▄▄▃▃▃▃▃▂▂▂▂▁▁▁</td></tr><tr><td>train/loss</td><td>█▇▆▆▆▅▄▅▃▃▄▂▃▂▃▃▂▂▁▂▂▂▂▁▂▂▂▁▁▂▁▁</td></tr><tr><td>train_accuracy</td><td>▁</td></tr><tr><td>train_f1</td><td>▁</td></tr><tr><td>train_precision</td><td>▁</td></tr><tr><td>train_recall</td><td>▁</td></tr></table><br/></div><div class=\"wandb-col\"><h3>Run summary:</h3><br/><table class=\"wandb\"><tr><td>epoch</td><td>3</td></tr><tr><td>eval/accuracy</td><td>0.96744</td></tr><tr><td>eval/f1</td><td>0.96714</td></tr><tr><td>eval/loss</td><td>0.14197</td></tr><tr><td>eval/precision</td><td>0.98095</td></tr><tr><td>eval/recall</td><td>0.9537</td></tr><tr><td>eval/runtime</td><td>1.331</td></tr><tr><td>eval/samples_per_second</td><td>161.532</td></tr><tr><td>eval/steps_per_second</td><td>10.518</td></tr><tr><td>test/accuracy</td><td>0.96279</td></tr><tr><td>test/f1</td><td>0.96262</td></tr><tr><td>test/loss</td><td>0.15814</td></tr><tr><td>test/precision</td><td>0.96262</td></tr><tr><td>test/recall</td><td>0.96262</td></tr><tr><td>test/runtime</td><td>1.0888</td></tr><tr><td>test/samples_per_second</td><td>197.459</td></tr><tr><td>test/steps_per_second</td><td>12.858</td></tr><tr><td>test_accuracy</td><td>0.96279</td></tr><tr><td>test_f1</td><td>0.96262</td></tr><tr><td>test_loss</td><td>0.15814</td></tr><tr><td>test_precision</td><td>0.96262</td></tr><tr><td>test_recall</td><td>0.96262</td></tr><tr><td>test_runtime</td><td>1.0888</td></tr><tr><td>test_samples_per_second</td><td>197.459</td></tr><tr><td>test_steps_per_second</td><td>12.858</td></tr><tr><td>total_flos</td><td>235998283327200.0</td></tr><tr><td>train/epoch</td><td>3</td></tr><tr><td>train/global_step</td><td>324</td></tr><tr><td>train/grad_norm</td><td>0.06369</td></tr><tr><td>train/learning_rate</td><td>0.0</td></tr><tr><td>train/loss</td><td>0.0131</td></tr><tr><td>train_accuracy</td><td>0.99593</td></tr><tr><td>train_f1</td><td>0.99593</td></tr><tr><td>train_loss</td><td>0.19489</td></tr><tr><td>train_precision</td><td>0.99535</td></tr><tr><td>train_recall</td><td>0.99651</td></tr><tr><td>train_runtime</td><td>123.961</td></tr><tr><td>train_samples_per_second</td><td>41.626</td></tr><tr><td>train_steps_per_second</td><td>2.614</td></tr></table><br/></div></div>"
            ]
          },
          "metadata": {}
        },
        {
          "output_type": "display_data",
          "data": {
            "text/plain": [
              "<IPython.core.display.HTML object>"
            ],
            "text/html": [
              " View run <strong style=\"color:#cdcd00\">Bert_baseAugV3</strong> at: <a href='https://wandb.ai/Roshna/Insensitive%20Lang%20Detecton/runs/x6daj4ek' target=\"_blank\">https://wandb.ai/Roshna/Insensitive%20Lang%20Detecton/runs/x6daj4ek</a><br> View project at: <a href='https://wandb.ai/Roshna/Insensitive%20Lang%20Detecton' target=\"_blank\">https://wandb.ai/Roshna/Insensitive%20Lang%20Detecton</a><br>Synced 5 W&B file(s), 0 media file(s), 0 artifact file(s) and 0 other file(s)"
            ]
          },
          "metadata": {}
        },
        {
          "output_type": "display_data",
          "data": {
            "text/plain": [
              "<IPython.core.display.HTML object>"
            ],
            "text/html": [
              "Find logs at: <code>./wandb/run-20250219_193754-x6daj4ek/logs</code>"
            ]
          },
          "metadata": {}
        }
      ]
    },
    {
      "cell_type": "code",
      "source": [
        "# Save the trained model and tokenizer\n",
        "save_directory = \"/content/drive/MyDrive/Honours MiscData(Roshna)/Aug_bert_base_modelV3\"\n",
        "trainer.save_model(save_directory)  # Save model\n",
        "tokenizer.save_pretrained(save_directory)  # Save tokenizer"
      ],
      "metadata": {
        "colab": {
          "base_uri": "https://localhost:8080/"
        },
        "id": "3mXOusbnF7Wg",
        "outputId": "2ca69ee0-24d0-4ffb-cc1f-e92360fa6cf2"
      },
      "execution_count": null,
      "outputs": [
        {
          "output_type": "execute_result",
          "data": {
            "text/plain": [
              "('/content/drive/MyDrive/Honours MiscData(Roshna)/Aug_bert_base_modelV3/tokenizer_config.json',\n",
              " '/content/drive/MyDrive/Honours MiscData(Roshna)/Aug_bert_base_modelV3/special_tokens_map.json',\n",
              " '/content/drive/MyDrive/Honours MiscData(Roshna)/Aug_bert_base_modelV3/vocab.txt',\n",
              " '/content/drive/MyDrive/Honours MiscData(Roshna)/Aug_bert_base_modelV3/added_tokens.json')"
            ]
          },
          "metadata": {},
          "execution_count": 12
        }
      ]
    },
    {
      "cell_type": "code",
      "source": [
        "wandb.finish()\n",
        "wandb.init(project=\"Insensitive Lang Detecton\", entity=\"Roshna\", name=\"Bert_baseAugpred\")\n",
        "# Get predictions on the test data\n",
        "test_results = trainer.predict(test_datasetAug)\n",
        "\n",
        "# Extract predictions and true labels\n",
        "test_predictions = test_results.predictions.argmax(axis=1)  # Get predicted classes\n",
        "test_true_labels = test_results.label_ids\n",
        "wandb.finish()"
      ],
      "metadata": {
        "colab": {
          "base_uri": "https://localhost:8080/",
          "height": 752
        },
        "id": "4kgnkZPYJuyw",
        "outputId": "fd2c2c8c-2afb-472d-b73f-776b597fe066"
      },
      "execution_count": null,
      "outputs": [
        {
          "output_type": "display_data",
          "data": {
            "text/plain": [
              "<IPython.core.display.HTML object>"
            ],
            "text/html": [
              "Tracking run with wandb version 0.19.6"
            ]
          },
          "metadata": {}
        },
        {
          "output_type": "display_data",
          "data": {
            "text/plain": [
              "<IPython.core.display.HTML object>"
            ],
            "text/html": [
              "Run data is saved locally in <code>/content/wandb/run-20250219_194027-uj7qv7h8</code>"
            ]
          },
          "metadata": {}
        },
        {
          "output_type": "display_data",
          "data": {
            "text/plain": [
              "<IPython.core.display.HTML object>"
            ],
            "text/html": [
              "Syncing run <strong><a href='https://wandb.ai/Roshna/Insensitive%20Lang%20Detecton/runs/uj7qv7h8' target=\"_blank\">Bert_baseAugpred</a></strong> to <a href='https://wandb.ai/Roshna/Insensitive%20Lang%20Detecton' target=\"_blank\">Weights & Biases</a> (<a href='https://wandb.me/developer-guide' target=\"_blank\">docs</a>)<br>"
            ]
          },
          "metadata": {}
        },
        {
          "output_type": "display_data",
          "data": {
            "text/plain": [
              "<IPython.core.display.HTML object>"
            ],
            "text/html": [
              " View project at <a href='https://wandb.ai/Roshna/Insensitive%20Lang%20Detecton' target=\"_blank\">https://wandb.ai/Roshna/Insensitive%20Lang%20Detecton</a>"
            ]
          },
          "metadata": {}
        },
        {
          "output_type": "display_data",
          "data": {
            "text/plain": [
              "<IPython.core.display.HTML object>"
            ],
            "text/html": [
              " View run at <a href='https://wandb.ai/Roshna/Insensitive%20Lang%20Detecton/runs/uj7qv7h8' target=\"_blank\">https://wandb.ai/Roshna/Insensitive%20Lang%20Detecton/runs/uj7qv7h8</a>"
            ]
          },
          "metadata": {}
        },
        {
          "output_type": "stream",
          "name": "stderr",
          "text": [
            "<ipython-input-3-1302a6248933>:32: UserWarning: To copy construct from a tensor, it is recommended to use sourceTensor.clone().detach() or sourceTensor.clone().detach().requires_grad_(True), rather than torch.tensor(sourceTensor).\n",
            "  item = {key: torch.tensor(val[idx]) for key, val in self.encodings.items()}\n"
          ]
        },
        {
          "output_type": "display_data",
          "data": {
            "text/plain": [
              "<IPython.core.display.HTML object>"
            ],
            "text/html": []
          },
          "metadata": {}
        },
        {
          "output_type": "display_data",
          "data": {
            "text/plain": [
              "<IPython.core.display.HTML object>"
            ],
            "text/html": []
          },
          "metadata": {}
        },
        {
          "output_type": "display_data",
          "data": {
            "text/plain": [
              "<IPython.core.display.HTML object>"
            ],
            "text/html": [
              "<br>    <style><br>        .wandb-row {<br>            display: flex;<br>            flex-direction: row;<br>            flex-wrap: wrap;<br>            justify-content: flex-start;<br>            width: 100%;<br>        }<br>        .wandb-col {<br>            display: flex;<br>            flex-direction: column;<br>            flex-basis: 100%;<br>            flex: 1;<br>            padding: 10px;<br>        }<br>    </style><br><div class=\"wandb-row\"><div class=\"wandb-col\"><h3>Run history:</h3><br/><table class=\"wandb\"><tr><td>test/accuracy</td><td>▁</td></tr><tr><td>test/f1</td><td>▁</td></tr><tr><td>test/loss</td><td>▁</td></tr><tr><td>test/precision</td><td>▁</td></tr><tr><td>test/recall</td><td>▁</td></tr><tr><td>test/runtime</td><td>▁</td></tr><tr><td>test/samples_per_second</td><td>▁</td></tr><tr><td>test/steps_per_second</td><td>▁</td></tr></table><br/></div><div class=\"wandb-col\"><h3>Run summary:</h3><br/><table class=\"wandb\"><tr><td>test/accuracy</td><td>0.96279</td></tr><tr><td>test/f1</td><td>0.96262</td></tr><tr><td>test/loss</td><td>0.15814</td></tr><tr><td>test/precision</td><td>0.96262</td></tr><tr><td>test/recall</td><td>0.96262</td></tr><tr><td>test/runtime</td><td>1.1581</td></tr><tr><td>test/samples_per_second</td><td>185.647</td></tr><tr><td>test/steps_per_second</td><td>12.089</td></tr></table><br/></div></div>"
            ]
          },
          "metadata": {}
        },
        {
          "output_type": "display_data",
          "data": {
            "text/plain": [
              "<IPython.core.display.HTML object>"
            ],
            "text/html": [
              " View run <strong style=\"color:#cdcd00\">Bert_baseAugpred</strong> at: <a href='https://wandb.ai/Roshna/Insensitive%20Lang%20Detecton/runs/uj7qv7h8' target=\"_blank\">https://wandb.ai/Roshna/Insensitive%20Lang%20Detecton/runs/uj7qv7h8</a><br> View project at: <a href='https://wandb.ai/Roshna/Insensitive%20Lang%20Detecton' target=\"_blank\">https://wandb.ai/Roshna/Insensitive%20Lang%20Detecton</a><br>Synced 5 W&B file(s), 0 media file(s), 0 artifact file(s) and 0 other file(s)"
            ]
          },
          "metadata": {}
        },
        {
          "output_type": "display_data",
          "data": {
            "text/plain": [
              "<IPython.core.display.HTML object>"
            ],
            "text/html": [
              "Find logs at: <code>./wandb/run-20250219_194027-uj7qv7h8/logs</code>"
            ]
          },
          "metadata": {}
        }
      ]
    },
    {
      "cell_type": "markdown",
      "source": [
        "## Confusion Matrix"
      ],
      "metadata": {
        "id": "0fb2WD24MXBi"
      }
    },
    {
      "cell_type": "code",
      "source": [
        "conf_matrix = confusion_matrix(test_true_labels, test_predictions)\n",
        "\n",
        "# Convert confusion matrix to a DataFrame for better readability\n",
        "conf_matrix_df = pd.DataFrame(conf_matrix,\n",
        "                              columns=[\"Predicted NotInsensitive\", \"Predicted Insensitive\"],\n",
        "                              index=[\"Actual NotInsensitive\", \"Actual Insensitive\"])\n",
        "\n",
        "print(\"Confusion Matrix - Test Set:\")\n",
        "print(conf_matrix_df)\n",
        "\n",
        "# Analyze false positives and false negatives\n",
        "false_positives = test_data[(test_true_labels == 0) & (test_predictions == 1)].copy()\n",
        "false_negatives = test_data[(test_true_labels == 1) & (test_predictions == 0)].copy()\n",
        "\n",
        "print(\"False Positives:\")\n",
        "print(false_positives[['Sentence', 'Term']])\n",
        "\n",
        "print(\"\\nFalse Negatives:\")\n",
        "print(false_negatives[['Sentence', 'Term']])\n",
        "\n",
        "# Load the trained model for confidence scores\n",
        "model_path = \"/content/drive/MyDrive/Honours MiscData(Roshna)/Aug_bert_base_modelV2.3\"\n",
        "model = BertForSequenceClassification.from_pretrained(model_path)\n",
        "model.eval()\n",
        "\n",
        "# Tokenize test sentences\n",
        "from transformers import BertTokenizer\n",
        "tokenizer = BertTokenizer.from_pretrained(model_path)\n",
        "inputs = tokenizer(list(test_data['Sentence']), padding=True, truncation=True, return_tensors=\"pt\")\n",
        "\n",
        "# Get model outputs\n",
        "with torch.no_grad():\n",
        "    outputs = model(**inputs)\n",
        "    confidences = torch.softmax(outputs.logits, dim=1)  # Get probabilities\n",
        "\n",
        "# Add confidence scores to the dataset\n",
        "test_data = test_data.copy()  # Ensure modifications don't trigger a warning\n",
        "test_data['Confidence_Positive'] = confidences[:, 1].cpu().numpy()\n",
        "test_data['Confidence_Negative'] = confidences[:, 0].cpu().numpy()\n",
        "\n",
        "# Assign confidence values to misclassified examples\n",
        "false_positives['Confidence_Positive'] = test_data.loc[false_positives.index, 'Confidence_Positive'].values\n",
        "false_negatives['Confidence_Negative'] = test_data.loc[false_negatives.index, 'Confidence_Negative'].values\n",
        "\n",
        "print(\"False Positives with Confidence:\")\n",
        "print(false_positives[['Sentence', 'Term', 'Confidence_Positive']])\n",
        "\n",
        "print(\"\\nFalse Negatives with Confidence:\")\n",
        "print(false_negatives[['Sentence', 'Term', 'Confidence_Negative']])\n"
      ],
      "metadata": {
        "colab": {
          "base_uri": "https://localhost:8080/"
        },
        "id": "07ULX5_FL0xY",
        "outputId": "8e4cfe53-0fda-4af5-ac49-158fb8d51511"
      },
      "execution_count": null,
      "outputs": [
        {
          "output_type": "stream",
          "name": "stdout",
          "text": [
            "Confusion Matrix - Test Set:\n",
            "                       Predicted NotInsensitive  Predicted Insensitive\n",
            "Actual NotInsensitive                       104                      4\n",
            "Actual Insensitive                            4                    103\n",
            "False Positives:\n",
            "                                               Sentence  \\\n",
            "826   Promising new research appears to suggest the ...   \n",
            "1690  \"The product was designed to support a deaf pe...   \n",
            "843   \"Language development tools can benefit childr...   \n",
            "784   \"The interface was designed to prioritize the ...   \n",
            "\n",
            "                           Term  \n",
            "826                    disorder  \n",
            "1690                deaf person  \n",
            "843                    disorder  \n",
            "784   persons with disabilities  \n",
            "\n",
            "False Negatives:\n",
            "                                               Sentence           Term\n",
            "819   \"The study highlights the dependence of indivi...       disorder\n",
            "450   According to psychological model of spatial na...         mental\n",
            "1750  While almost all AAC users have speech impairm...    impairments\n",
            "907   This paper reports on mechanisms that have bee...  special needs\n",
            "False Positives with Confidence:\n",
            "                                               Sentence  \\\n",
            "826   Promising new research appears to suggest the ...   \n",
            "1690  \"The product was designed to support a deaf pe...   \n",
            "843   \"Language development tools can benefit childr...   \n",
            "784   \"The interface was designed to prioritize the ...   \n",
            "\n",
            "                           Term  Confidence_Positive  \n",
            "826                    disorder             0.983474  \n",
            "1690                deaf person             0.043516  \n",
            "843                    disorder             0.999403  \n",
            "784   persons with disabilities             0.999029  \n",
            "\n",
            "False Negatives with Confidence:\n",
            "                                               Sentence           Term  \\\n",
            "819   \"The study highlights the dependence of indivi...       disorder   \n",
            "450   According to psychological model of spatial na...         mental   \n",
            "1750  While almost all AAC users have speech impairm...    impairments   \n",
            "907   This paper reports on mechanisms that have bee...  special needs   \n",
            "\n",
            "      Confidence_Negative  \n",
            "819              0.003632  \n",
            "450              0.994679  \n",
            "1750             0.432185  \n",
            "907              0.997715  \n"
          ]
        }
      ]
    },
    {
      "cell_type": "code",
      "source": [],
      "metadata": {
        "id": "ZIp1cH08YUz7"
      },
      "execution_count": null,
      "outputs": []
    },
    {
      "cell_type": "markdown",
      "source": [
        "# Logistic Regression on Augmented data"
      ],
      "metadata": {
        "id": "LwoASExULM0u"
      }
    },
    {
      "cell_type": "code",
      "source": [
        "import pandas as pd\n",
        "import numpy as np\n",
        "from sklearn.feature_extraction.text import TfidfVectorizer\n",
        "from sklearn.linear_model import LogisticRegression\n",
        "from sklearn.metrics import classification_report, confusion_matrix, accuracy_score, precision_score, recall_score, f1_score\n",
        "\n",
        "# Load datasets\n",
        "train_df = pd.read_csv(\"/content/drive/MyDrive/Honours MiscData(Roshna)/AugTrain_dataV2.csv\")\n",
        "val_df = pd.read_csv(\"/content/drive/MyDrive/Honours MiscData(Roshna)/AugVal_dataV2.csv\")\n",
        "test_df = pd.read_csv(\"/content/drive/MyDrive/Honours MiscData(Roshna)/AugTest_dataV2.csv\")\n",
        "\n",
        "X_train, y_train = train_df['Sentence'], train_df['Label']\n",
        "X_val, y_val = val_df['Sentence'], val_df['Label']\n",
        "X_test, y_test = test_df['Sentence'], test_df['Label']\n",
        "\n",
        "# TF-IDF Vectorization\n",
        "vectorizer = TfidfVectorizer(max_features=5000, ngram_range=(1, 2))\n",
        "X_train_tfidf = vectorizer.fit_transform(X_train)\n",
        "X_val_tfidf = vectorizer.transform(X_val)\n",
        "X_test_tfidf = vectorizer.transform(X_test)\n",
        "\n",
        "# Train Logistic Regression Model\n",
        "logistic_reg_model = LogisticRegression(max_iter=500, C=1.0)\n",
        "logistic_reg_model.fit(X_train_tfidf, y_train)\n",
        "\n",
        "# Function to Evaluate Model & Print Correct Metrics\n",
        "def evaluate_model(model, X, y, dataset_name, dataset_df=None, show_conf_matrix=False):\n",
        "    \"\"\"Evaluates the model and prints precision, recall, F1-score, and accuracy.\"\"\"\n",
        "\n",
        "    predictions = model.predict(X)\n",
        "\n",
        "    # Compute metrics manually\n",
        "    accuracy = accuracy_score(y, predictions)\n",
        "    precision = precision_score(y, predictions)\n",
        "    recall = recall_score(y, predictions)\n",
        "    f1 = f1_score(y, predictions)\n",
        "\n",
        "    # Print results\n",
        "    print(f\"\\n{dataset_name} Set Evaluation\")\n",
        "    print(f\"Accuracy: {accuracy:.4f}\")\n",
        "    print(f\"Precision: {precision:.4f}\")\n",
        "    print(f\"Recall: {recall:.4f}\")  # Now recall should be distinct\n",
        "    print(f\"F1 Score: {f1:.4f}\")\n",
        "\n",
        "    # Confusion Matrix & Misclassified Examples (Only for test set)\n",
        "    if show_conf_matrix and dataset_df is not None:\n",
        "        conf_matrix = confusion_matrix(y, predictions)\n",
        "        print(\"\\nConfusion Matrix - Test Set:\")\n",
        "        print(pd.DataFrame(conf_matrix,\n",
        "                           columns=[\"Predicted NotInsensitive\", \"Predicted Insensitive\"],\n",
        "                           index=[\"Actual NotInsensitive\", \"Actual Insensitive\"]))\n",
        "\n",
        "        # Get misclassified examples\n",
        "        misclassified_df = dataset_df[y != predictions]\n",
        "\n",
        "        print(\"\\nMisclassified Examples:\")\n",
        "        print(misclassified_df[['Sentence', 'Label']])\n",
        "\n",
        "# Evaluate Train, Validation, and Test Sets\n",
        "evaluate_model(logistic_reg_model, X_train_tfidf, y_train, \"Train\")\n",
        "evaluate_model(logistic_reg_model, X_val_tfidf, y_val, \"Validation\")\n",
        "evaluate_model(logistic_reg_model, X_test_tfidf, y_test, \"Test\", dataset_df=test_df, show_conf_matrix=True)\n"
      ],
      "metadata": {
        "colab": {
          "base_uri": "https://localhost:8080/"
        },
        "id": "VajxDMpXgG29",
        "outputId": "4e9b10aa-25a6-4f23-9db1-a9c70c097b3c"
      },
      "execution_count": null,
      "outputs": [
        {
          "output_type": "stream",
          "name": "stdout",
          "text": [
            "\n",
            "Train Set Evaluation\n",
            "Accuracy: 0.9564\n",
            "Precision: 0.9746\n",
            "Recall: 0.9372\n",
            "F1 Score: 0.9555\n",
            "\n",
            "Validation Set Evaluation\n",
            "Accuracy: 0.8791\n",
            "Precision: 0.8796\n",
            "Recall: 0.8796\n",
            "F1 Score: 0.8796\n",
            "\n",
            "Test Set Evaluation\n",
            "Accuracy: 0.8930\n",
            "Precision: 0.9118\n",
            "Recall: 0.8692\n",
            "F1 Score: 0.8900\n",
            "\n",
            "Confusion Matrix - Test Set:\n",
            "                       Predicted NotInsensitive  Predicted Insensitive\n",
            "Actual NotInsensitive                        99                      9\n",
            "Actual Insensitive                           14                     93\n",
            "\n",
            "Misclassified Examples:\n",
            "                                              Sentence  Label\n",
            "2    Preliminary results of 5 healthy college stude...      1\n",
            "17   However, to the best of our knowledge, there i...      1\n",
            "24   \"The product was designed to support a deaf pe...      0\n",
            "30   \"Language development tools can benefit childr...      0\n",
            "34   This proves that it is possible to design incl...      1\n",
            "64   According to psychological model of spatial na...      1\n",
            "77   In this poster we propose a novel approach to ...      1\n",
            "87   While almost all AAC users have speech impairm...      1\n",
            "96   This paper reports on mechanisms that have bee...      1\n",
            "97   \"This system is built to accommodate people of...      1\n",
            "103  \"The program was developed to recognize atypic...      0\n",
            "124  We implemented a prototype on Android and test...      1\n",
            "145  Non-visual feedback (e.g., auditory and haptic...      1\n",
            "148  We found that people who knew that they were t...      0\n",
            "153  \"The app was tailored to meet the needs of ind...      0\n",
            "157  \"The interface was designed to prioritize the ...      0\n",
            "162  Scoliosis patients face problems like difficul...      1\n",
            "163  \"The tool supports users in tracking their pro...      0\n",
            "169  \"Our platform was developed with input from De...      0\n",
            "178  Wheelchair users can find accessing digital co...      0\n",
            "190  We should then be able to develop a system tha...      1\n",
            "208  To investigate preferences for and design of a...      1\n",
            "210  Further, we came to appreciate the importance ...      1\n"
          ]
        }
      ]
    },
    {
      "cell_type": "code",
      "source": [
        "import joblib\n",
        "model_filename = \"/content/drive/MyDrive/Honours MiscData(Roshna)/Auglogistic_regression_model.pkl\"\n",
        "vectorizer_filename = \"/content/drive/MyDrive/Honours MiscData(Roshna)/Augtfidf_vectorizer.pkl\"\n",
        "\n",
        "joblib.dump(logistic_reg_model, model_filename)\n",
        "joblib.dump(vectorizer, vectorizer_filename)"
      ],
      "metadata": {
        "colab": {
          "base_uri": "https://localhost:8080/"
        },
        "id": "sU7mm6BbNRPA",
        "outputId": "a899cb17-1961-4d31-ebc4-982491b1cecc"
      },
      "execution_count": null,
      "outputs": [
        {
          "output_type": "execute_result",
          "data": {
            "text/plain": [
              "['/content/drive/MyDrive/Honours MiscData(Roshna)/Augtfidf_vectorizer.pkl']"
            ]
          },
          "metadata": {},
          "execution_count": 5
        }
      ]
    },
    {
      "cell_type": "code",
      "source": [
        "import pandas as pd\n",
        "import joblib\n",
        "from sklearn.metrics import accuracy_score, precision_score, recall_score, f1_score, confusion_matrix\n",
        "\n",
        "# File Paths\n",
        "model_filename = \"/content/drive/MyDrive/Honours MiscData(Roshna)/Auglogistic_regression_model.pkl\"\n",
        "vectorizer_filename = \"/content/drive/MyDrive/Honours MiscData(Roshna)/Augtfidf_vectorizer.pkl\"\n",
        "new_test_data_path = \"/content/drive/MyDrive/Honours MiscData(Roshna)/test_dataOriginal.csv\"\n",
        "\n",
        "# Load Saved Model & Vectorizer\n",
        "logistic_reg_model = joblib.load(model_filename)\n",
        "vectorizer = joblib.load(vectorizer_filename)\n",
        "\n",
        "# Load New Test Dataset\n",
        "new_test_df = pd.read_csv(new_test_data_path)\n",
        "\n",
        "# Extract Sentences and Labels\n",
        "X_new_test, y_new_test = new_test_df['Sentence'], new_test_df['Manual_Annotation']\n",
        "\n",
        "# Transform Using the Same TF-IDF Vectorizer\n",
        "X_new_test_tfidf = vectorizer.transform(X_new_test)\n",
        "\n",
        "# Function to Evaluate Model & Print Correct Metrics\n",
        "def evaluate_model(model, X, y, dataset_name, dataset_df=None, show_conf_matrix=False):\n",
        "    \"\"\"Evaluates the model and prints precision, recall, F1-score, and accuracy.\"\"\"\n",
        "\n",
        "    predictions = model.predict(X)\n",
        "\n",
        "    # Compute Metrics\n",
        "    accuracy = accuracy_score(y, predictions)\n",
        "    precision = precision_score(y, predictions)\n",
        "    recall = recall_score(y, predictions)\n",
        "    f1 = f1_score(y, predictions)\n",
        "\n",
        "    # Print Results\n",
        "    print(f\"\\n{dataset_name} Set Evaluation\")\n",
        "    print(f\"Accuracy: {accuracy:.4f}\")\n",
        "    print(f\"Precision: {precision:.4f}\")\n",
        "    print(f\"Recall: {recall:.4f}\")\n",
        "    print(f\"F1 Score: {f1:.4f}\")\n",
        "\n",
        "    # Confusion Matrix & Misclassified Examples\n",
        "    if show_conf_matrix and dataset_df is not None:\n",
        "        conf_matrix = confusion_matrix(y, predictions)\n",
        "        print(\"\\nConfusion Matrix:\")\n",
        "        print(pd.DataFrame(conf_matrix,\n",
        "                           columns=[\"Predicted NotInsensitive\", \"Predicted Insensitive\"],\n",
        "                           index=[\"Actual NotInsensitive\", \"Actual Insensitive\"]))\n",
        "\n",
        "        # Get Misclassified Examples\n",
        "        misclassified_df = dataset_df[y != predictions]\n",
        "\n",
        "        print(\"\\nMisclassified Examples:\")\n",
        "        print(misclassified_df[['Sentence', 'Manual_Annotation']])\n",
        "\n",
        "# Evaluate the New Test Set\n",
        "evaluate_model(logistic_reg_model, X_new_test_tfidf, y_new_test, \"New Test\", dataset_df=new_test_df, show_conf_matrix=True)\n"
      ],
      "metadata": {
        "colab": {
          "base_uri": "https://localhost:8080/"
        },
        "id": "YGK49U-iJaId",
        "outputId": "e8ed2c6c-2cf1-43f5-af0f-7b15407d4500"
      },
      "execution_count": null,
      "outputs": [
        {
          "output_type": "stream",
          "name": "stdout",
          "text": [
            "\n",
            "New Test Set Evaluation\n",
            "Accuracy: 0.7064\n",
            "Precision: 0.9375\n",
            "Recall: 0.3261\n",
            "F1 Score: 0.4839\n",
            "\n",
            "Confusion Matrix:\n",
            "                       Predicted NotInsensitive  Predicted Insensitive\n",
            "Actual NotInsensitive                        62                      1\n",
            "Actual Insensitive                           31                     15\n",
            "\n",
            "Misclassified Examples:\n",
            "                                              Sentence  Manual_Annotation\n",
            "6    Our research contributes empirical evidence de...                  1\n",
            "7    In previous work we have presented a prototype...                  1\n",
            "8    In this paper, we present the results from pil...                  1\n",
            "11   Story Blocks provides an introductory programm...                  1\n",
            "14   This paper introduces our research project for...                  1\n",
            "15   In this paper, we report on the experiences of...                  1\n",
            "16   Even after decades of research about navigatio...                  1\n",
            "22   To address this issue, our team used Visual St...                  1\n",
            "23   We also report the results of an experiment th...                  1\n",
            "24   We also make a proposal of the Concentration g...                  1\n",
            "26   CamIO (short for \"Camera Input-Output\") is a n...                  1\n",
            "27   Ongoing investigation of the ways in which som...                  1\n",
            "29   The multimodal model uses both the pixel data ...                  1\n",
            "33   A focus group was conducted to gain input from...                  1\n",
            "34   All interfaces were compared and evaluated in ...                  1\n",
            "46   Gaze typing for people with extreme motor disa...                  0\n",
            "49   This extension was tested by visually impaired...                  1\n",
            "52   The results showed that the modifications help...                  1\n",
            "62   The result demonstrated that only in the label...                  1\n",
            "64   Additionally, we consulted with a blind rehabi...                  1\n",
            "66   We ran two studies that tested the efficacy of...                  1\n",
            "70   We detail the development process of our adapt...                  1\n",
            "72   This research contributes to advancing the acc...                  1\n",
            "73   We developed software-based techniques and eva...                  1\n",
            "78   ENORASI aims at developing a highly interactiv...                  1\n",
            "84   In this paper, we present the design of an omn...                  1\n",
            "89   In this paper, we describe why designers need ...                  1\n",
            "99   However, many existing research for assistive ...                  1\n",
            "101  In our system, besides the user’s speech, the ...                  1\n",
            "103  The improvements in word clarity observed over...                  1\n",
            "106  Children with autism spectrum disorder and oth...                  1\n",
            "107  We conducted an experiment to determine the ab...                  1\n"
          ]
        }
      ]
    },
    {
      "cell_type": "code",
      "source": [
        "import numpy as np\n",
        "import matplotlib.pyplot as plt\n",
        "import seaborn as sns\n",
        "\n",
        "# Define the confusion matrix\n",
        "conf_matrix = np.array([[104, 4],\n",
        "                        [4, 103]])\n",
        "\n",
        "# Define class labels\n",
        "labels = [\"Not Insensitive\", \"Insensitive\"]\n",
        "\n",
        "# Create the heatmap\n",
        "plt.figure(figsize=(4, 4))\n",
        "sns.heatmap(conf_matrix, annot=True, fmt=\"d\", cmap=\"Blues\", xticklabels=[\"NotInsensitive\", \"Insensitive\"], yticklabels=[\"NotInsensitive\", \"Insensitive\"])\n",
        "\n",
        "# Add labels and title\n",
        "plt.xlabel(\"Predicted Label\")\n",
        "plt.ylabel(\"Actual Label\")\n",
        "plt.savefig(\"Augmatrix.png\")\n",
        "# Show the plot\n",
        "plt.show()\n"
      ],
      "metadata": {
        "colab": {
          "base_uri": "https://localhost:8080/",
          "height": 388
        },
        "id": "Hm3RL7KdQKVk",
        "outputId": "580f65d7-5417-4c10-95fe-73a7d3785dba"
      },
      "execution_count": null,
      "outputs": [
        {
          "output_type": "display_data",
          "data": {
            "text/plain": [
              "<Figure size 400x400 with 2 Axes>"
            ],
            "image/png": "[encoded data removed]"
          },
          "metadata": {}
        }
      ]
    }
  ]
}